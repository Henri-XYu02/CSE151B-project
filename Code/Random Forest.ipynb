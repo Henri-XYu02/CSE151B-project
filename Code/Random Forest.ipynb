{
 "cells": [
  {
   "cell_type": "code",
   "execution_count": 1,
   "id": "f5cb4170",
   "metadata": {},
   "outputs": [],
   "source": [
    "import pickle\n",
    "import numpy as np\n",
    "\n",
    "from sklearn.preprocessing import scale\n",
    "\n",
    "#from keras.models import Sequential\n",
    "#from keras.optimizers import SGD, Adam, Adagrad\n",
    "#from keras import backend as K\n",
    "#from keras.layers import Embedding\n",
    "#from keras.layers import Dense, Reshape, Concatenate, Activation, Dropout\n",
    "#from keras.callbacks import ModelCheckpoint\n",
    "import pandas as pd\n",
    "from sklearn.datasets import make_regression\n",
    "from sklearn.ensemble import RandomForestRegressor\n",
    "from sklearn.model_selection import train_test_split"
   ]
  },
  {
   "cell_type": "code",
   "execution_count": null,
   "id": "5e3de900",
   "metadata": {},
   "outputs": [],
   "source": [
    "train_cache = 'cache/train2.pickle'\n",
    "train_labels_cache = 'cache/train-labels2.npy'\n",
    "validation_cache = 'cache/validation2.pickle'\n",
    "validation_labels_cache = 'cache/validation-labels2.npy'\n",
    "test_cache = 'cache/test2.pickle'\n",
    "test_labels_cache = 'cache/test-labels2.npy'\n",
    "competition_test_cache = 'cache/competition-test2.pickle'\n",
    "metadata_cache = 'cache/metadata2.pickle'"
   ]
  },
  {
   "cell_type": "code",
   "execution_count": null,
   "id": "c8172646",
   "metadata": {},
   "outputs": [],
   "source": [
    "train_cache = 'cache/train.pickle'\n",
    "train_labels_cache = 'cache/train-labels.npy'\n",
    "validation_cache = 'cache/validation.pickle'\n",
    "validation_labels_cache = 'cache/validation-labels.npy'\n",
    "test_cache = 'cache/test.pickle'\n",
    "test_labels_cache = 'cache/test-labels.npy'\n",
    "competition_test_cache = 'cache/competition-test.pickle'\n",
    "metadata_cache = 'cache/metadata.pickle'"
   ]
  },
  {
   "cell_type": "code",
   "execution_count": null,
   "id": "c88384ba",
   "metadata": {},
   "outputs": [],
   "source": [
    "train = pd.read_pickle(train_cache)\n",
    "validation = pd.read_pickle(validation_cache)\n",
    "test = pd.read_pickle(test_cache)\n",
    "\n",
    "train_labels = np.load(train_labels_cache)\n",
    "validation_labels = np.load(validation_labels_cache)\n",
    "test_labels = np.load(test_labels_cache)\n",
    "\n",
    "competition_test = pd.read_pickle(competition_test_cache)\n",
    "with open(metadata_cache, 'rb') as handle:\n",
    "    metadata = pickle.load(handle)"
   ]
  },
  {
   "cell_type": "code",
   "execution_count": null,
   "id": "f82a79d7",
   "metadata": {},
   "outputs": [],
   "source": [
    "def process_features(df):\n",
    "    return np.array(df[['QUARTER_HOUR','DAY_OF_WEEK','WEEK_OF_YEAR','TAXI_ID_ENCODED','ORIGIN_STAND_ENCODED','ORIGIN_CALL_ENCODED']].values)"
   ]
  },
  {
   "cell_type": "code",
   "execution_count": null,
   "id": "d7d687d4",
   "metadata": {},
   "outputs": [],
   "source": [
    "reg = RandomForestRegressor()"
   ]
  },
  {
   "cell_type": "code",
   "execution_count": null,
   "id": "1099814b",
   "metadata": {},
   "outputs": [],
   "source": [
    "reg.fit(process_features(train),train_labels)"
   ]
  },
  {
   "cell_type": "code",
   "execution_count": null,
   "id": "53f2aed5",
   "metadata": {},
   "outputs": [],
   "source": [
    "import math\n",
    "from sklearn.metrics import mean_squared_error\n",
    "validation_loss = math.sqrt(mean_squared_error(reg.predict(process_features(validation)),validation_labels))\n",
    "print(validation_loss)\n",
    "test_loss = math.sqrt(mean_squared_error(reg.predict(process_features(test)),test_labels))\n",
    "print(test_loss)"
   ]
  },
  {
   "cell_type": "code",
   "execution_count": null,
   "id": "bf209f5e",
   "metadata": {},
   "outputs": [],
   "source": [
    "rf_predict = pd.read_csv('test_public.csv')\n",
    "rf_predict = rf_predict['TRIP_ID']\n",
    "predict_array = reg.predict(process_features(competition_test))\n",
    "rf_predict= pd.concat([rf_predict, pd.DataFrame(predict_array)], axis=1)\n",
    "rf_predict = rf_predict.rename(columns={0: 'TRAVEL_TIME'})\n",
    "rf_predict.head()"
   ]
  },
  {
   "cell_type": "code",
   "execution_count": null,
   "id": "7c375927",
   "metadata": {},
   "outputs": [],
   "source": [
    "rf_predict.to_csv('rf_predict.csv', index=False)"
   ]
  }
 ],
 "metadata": {
  "kernelspec": {
   "display_name": "Python 3 (ipykernel)",
   "language": "python",
   "name": "python3"
  },
  "language_info": {
   "codemirror_mode": {
    "name": "ipython",
    "version": 3
   },
   "file_extension": ".py",
   "mimetype": "text/x-python",
   "name": "python",
   "nbconvert_exporter": "python",
   "pygments_lexer": "ipython3",
   "version": "3.9.5"
  }
 },
 "nbformat": 4,
 "nbformat_minor": 5
}
