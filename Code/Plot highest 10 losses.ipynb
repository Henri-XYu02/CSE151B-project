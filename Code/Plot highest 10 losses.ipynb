{
 "cells": [
  {
   "cell_type": "code",
   "execution_count": 1,
   "id": "d925c379",
   "metadata": {},
   "outputs": [],
   "source": [
    "import torch\n",
    "import pandas as pd\n",
    "import numpy as np"
   ]
  },
  {
   "cell_type": "code",
   "execution_count": null,
   "id": "865c5191",
   "metadata": {},
   "outputs": [],
   "source": [
    "df_tr = pd.read_csv('train.csv')\n",
    "df_tr = df_tr.drop(df_tr[df_tr.MISSING_DATA == True].index)\n",
    "df_tr = df_tr.drop(df_tr[df_tr.POLYLINE=='[]'].index)"
   ]
  },
  {
   "cell_type": "code",
   "execution_count": null,
   "id": "82a48396",
   "metadata": {},
   "outputs": [],
   "source": [
    "POLYLINE = df_tr.iloc[1600000:]['POLYLINE']\n",
    "POLYLINE.to_csv('POLYLINE.csv')\n",
    "del df_tr"
   ]
  },
  {
   "cell_type": "code",
   "execution_count": 2,
   "id": "8441b7d1",
   "metadata": {},
   "outputs": [
    {
     "data": {
      "text/html": [
       "<div>\n",
       "<style scoped>\n",
       "    .dataframe tbody tr th:only-of-type {\n",
       "        vertical-align: middle;\n",
       "    }\n",
       "\n",
       "    .dataframe tbody tr th {\n",
       "        vertical-align: top;\n",
       "    }\n",
       "\n",
       "    .dataframe thead th {\n",
       "        text-align: right;\n",
       "    }\n",
       "</style>\n",
       "<table border=\"1\" class=\"dataframe\">\n",
       "  <thead>\n",
       "    <tr style=\"text-align: right;\">\n",
       "      <th></th>\n",
       "      <th>POLYLINE</th>\n",
       "      <th>index</th>\n",
       "    </tr>\n",
       "  </thead>\n",
       "  <tbody>\n",
       "    <tr>\n",
       "      <th>0</th>\n",
       "      <td>[[-8.615511,41.140755],[-8.615493,41.140764],[...</td>\n",
       "      <td>0</td>\n",
       "    </tr>\n",
       "    <tr>\n",
       "      <th>1</th>\n",
       "      <td>[[-8.606511,41.144679],[-8.606718,41.144769],[...</td>\n",
       "      <td>1</td>\n",
       "    </tr>\n",
       "    <tr>\n",
       "      <th>2</th>\n",
       "      <td>[[-8.583849,41.163129],[-8.584425,41.16294],[-...</td>\n",
       "      <td>2</td>\n",
       "    </tr>\n",
       "    <tr>\n",
       "      <th>3</th>\n",
       "      <td>[[-8.64954,41.167269],[-8.649702,41.166702],[-...</td>\n",
       "      <td>3</td>\n",
       "    </tr>\n",
       "    <tr>\n",
       "      <th>4</th>\n",
       "      <td>[[-8.608644,41.147748],[-8.6085,41.14773],[-8....</td>\n",
       "      <td>4</td>\n",
       "    </tr>\n",
       "  </tbody>\n",
       "</table>\n",
       "</div>"
      ],
      "text/plain": [
       "                                            POLYLINE  index\n",
       "0  [[-8.615511,41.140755],[-8.615493,41.140764],[...      0\n",
       "1  [[-8.606511,41.144679],[-8.606718,41.144769],[...      1\n",
       "2  [[-8.583849,41.163129],[-8.584425,41.16294],[-...      2\n",
       "3  [[-8.64954,41.167269],[-8.649702,41.166702],[-...      3\n",
       "4  [[-8.608644,41.147748],[-8.6085,41.14773],[-8....      4"
      ]
     },
     "execution_count": 2,
     "metadata": {},
     "output_type": "execute_result"
    }
   ],
   "source": [
    "POLYLINE = pd.read_csv('POLYLINE.csv')\n",
    "POLYLINE = POLYLINE.drop(['Unnamed: 0'],axis=1)\n",
    "POLYLINE['index'] = POLYLINE.index\n",
    "POLYLINE.head()"
   ]
  },
  {
   "cell_type": "code",
   "execution_count": 3,
   "id": "944a6f27",
   "metadata": {},
   "outputs": [],
   "source": [
    "test_features=torch.load('test_set.pt')\n",
    "test_labels = torch.load('test_label.pt')"
   ]
  },
  {
   "cell_type": "code",
   "execution_count": 4,
   "id": "9b5d95e4",
   "metadata": {},
   "outputs": [],
   "source": [
    "import torch.nn as nn\n",
    "import torch.nn.functional as F\n",
    "\n",
    "\n",
    "class MLP(nn.Module):\n",
    "    def __init__(self, input_features):\n",
    "        super(MLP, self).__init__()\n",
    "        self.layer1 = nn.Sequential(\n",
    "            nn.Linear(in_features=input_features,out_features=1)\n",
    "        )\n",
    "        \n",
    "\n",
    "    def forward(self, x):\n",
    "        x=x.to(torch.float32)\n",
    "        x=self.layer1(x)\n",
    "        return x\n"
   ]
  },
  {
   "cell_type": "code",
   "execution_count": 5,
   "id": "9d2bb77c",
   "metadata": {},
   "outputs": [],
   "source": [
    "model = MLP(14)\n",
    "model.load_state_dict(torch.load('linear.pth'))\n",
    "criterion = nn.MSELoss()"
   ]
  },
  {
   "cell_type": "code",
   "execution_count": 10,
   "id": "f14877bf",
   "metadata": {},
   "outputs": [],
   "source": [
    "def get_loss(index):\n",
    "    input = test_features[index]\n",
    "    out = model(input)\n",
    "    loss = torch.sqrt(criterion(out, test_features[index]))\n",
    "    return loss.detach().numpy().flatten()[0]"
   ]
  },
  {
   "cell_type": "code",
   "execution_count": 11,
   "id": "2596fcf6",
   "metadata": {},
   "outputs": [],
   "source": [
    "POLYLINE['loss'] = POLYLINE['index'].apply(get_loss)"
   ]
  },
  {
   "cell_type": "code",
   "execution_count": 12,
   "id": "9937f75e",
   "metadata": {},
   "outputs": [
    {
     "data": {
      "text/html": [
       "<div>\n",
       "<style scoped>\n",
       "    .dataframe tbody tr th:only-of-type {\n",
       "        vertical-align: middle;\n",
       "    }\n",
       "\n",
       "    .dataframe tbody tr th {\n",
       "        vertical-align: top;\n",
       "    }\n",
       "\n",
       "    .dataframe thead th {\n",
       "        text-align: right;\n",
       "    }\n",
       "</style>\n",
       "<table border=\"1\" class=\"dataframe\">\n",
       "  <thead>\n",
       "    <tr style=\"text-align: right;\">\n",
       "      <th></th>\n",
       "      <th>POLYLINE</th>\n",
       "      <th>index</th>\n",
       "      <th>loss</th>\n",
       "    </tr>\n",
       "  </thead>\n",
       "  <tbody>\n",
       "    <tr>\n",
       "      <th>0</th>\n",
       "      <td>[[-8.615511,41.140755],[-8.615493,41.140764],[...</td>\n",
       "      <td>0</td>\n",
       "      <td>650.484375</td>\n",
       "    </tr>\n",
       "    <tr>\n",
       "      <th>1</th>\n",
       "      <td>[[-8.606511,41.144679],[-8.606718,41.144769],[...</td>\n",
       "      <td>1</td>\n",
       "      <td>553.842590</td>\n",
       "    </tr>\n",
       "    <tr>\n",
       "      <th>2</th>\n",
       "      <td>[[-8.583849,41.163129],[-8.584425,41.16294],[-...</td>\n",
       "      <td>2</td>\n",
       "      <td>583.422729</td>\n",
       "    </tr>\n",
       "    <tr>\n",
       "      <th>3</th>\n",
       "      <td>[[-8.64954,41.167269],[-8.649702,41.166702],[-...</td>\n",
       "      <td>3</td>\n",
       "      <td>704.650452</td>\n",
       "    </tr>\n",
       "    <tr>\n",
       "      <th>4</th>\n",
       "      <td>[[-8.608644,41.147748],[-8.6085,41.14773],[-8....</td>\n",
       "      <td>4</td>\n",
       "      <td>751.890930</td>\n",
       "    </tr>\n",
       "  </tbody>\n",
       "</table>\n",
       "</div>"
      ],
      "text/plain": [
       "                                            POLYLINE  index        loss\n",
       "0  [[-8.615511,41.140755],[-8.615493,41.140764],[...      0  650.484375\n",
       "1  [[-8.606511,41.144679],[-8.606718,41.144769],[...      1  553.842590\n",
       "2  [[-8.583849,41.163129],[-8.584425,41.16294],[-...      2  583.422729\n",
       "3  [[-8.64954,41.167269],[-8.649702,41.166702],[-...      3  704.650452\n",
       "4  [[-8.608644,41.147748],[-8.6085,41.14773],[-8....      4  751.890930"
      ]
     },
     "execution_count": 12,
     "metadata": {},
     "output_type": "execute_result"
    }
   ],
   "source": [
    "POLYLINE.head()"
   ]
  },
  {
   "cell_type": "code",
   "execution_count": 13,
   "id": "22ddcfe8",
   "metadata": {},
   "outputs": [],
   "source": [
    "highest = POLYLINE.nlargest(10, 'loss')"
   ]
  },
  {
   "cell_type": "code",
   "execution_count": 14,
   "id": "072b5891",
   "metadata": {
    "scrolled": true
   },
   "outputs": [
    {
     "data": {
      "text/html": [
       "<div>\n",
       "<style scoped>\n",
       "    .dataframe tbody tr th:only-of-type {\n",
       "        vertical-align: middle;\n",
       "    }\n",
       "\n",
       "    .dataframe tbody tr th {\n",
       "        vertical-align: top;\n",
       "    }\n",
       "\n",
       "    .dataframe thead th {\n",
       "        text-align: right;\n",
       "    }\n",
       "</style>\n",
       "<table border=\"1\" class=\"dataframe\">\n",
       "  <thead>\n",
       "    <tr style=\"text-align: right;\">\n",
       "      <th></th>\n",
       "      <th>POLYLINE</th>\n",
       "      <th>index</th>\n",
       "      <th>loss</th>\n",
       "    </tr>\n",
       "  </thead>\n",
       "  <tbody>\n",
       "    <tr>\n",
       "      <th>24457</th>\n",
       "      <td>[[-8.629308,41.145336],[-8.629551,41.145462],[...</td>\n",
       "      <td>24457</td>\n",
       "      <td>994.816284</td>\n",
       "    </tr>\n",
       "    <tr>\n",
       "      <th>28193</th>\n",
       "      <td>[[-8.606979,41.150079],[-8.607132,41.150097],[...</td>\n",
       "      <td>28193</td>\n",
       "      <td>994.816284</td>\n",
       "    </tr>\n",
       "    <tr>\n",
       "      <th>71226</th>\n",
       "      <td>[[-8.610264,41.151645],[-8.610237,41.151636],[...</td>\n",
       "      <td>71226</td>\n",
       "      <td>994.816284</td>\n",
       "    </tr>\n",
       "    <tr>\n",
       "      <th>76018</th>\n",
       "      <td>[[-8.629902,41.154831],[-8.629911,41.154768],[...</td>\n",
       "      <td>76018</td>\n",
       "      <td>994.816284</td>\n",
       "    </tr>\n",
       "    <tr>\n",
       "      <th>99406</th>\n",
       "      <td>[[-8.585631,41.148531],[-8.585631,41.148531],[...</td>\n",
       "      <td>99406</td>\n",
       "      <td>994.816284</td>\n",
       "    </tr>\n",
       "    <tr>\n",
       "      <th>38011</th>\n",
       "      <td>[[-8.609958,41.140836],[-8.61003,41.140908],[-...</td>\n",
       "      <td>38011</td>\n",
       "      <td>984.361023</td>\n",
       "    </tr>\n",
       "    <tr>\n",
       "      <th>41858</th>\n",
       "      <td>[[-8.688447,41.173749],[-8.688483,41.173758],[...</td>\n",
       "      <td>41858</td>\n",
       "      <td>984.361023</td>\n",
       "    </tr>\n",
       "    <tr>\n",
       "      <th>49719</th>\n",
       "      <td>[[-8.685081,41.164308],[-8.685072,41.164308],[...</td>\n",
       "      <td>49719</td>\n",
       "      <td>984.361023</td>\n",
       "    </tr>\n",
       "    <tr>\n",
       "      <th>66330</th>\n",
       "      <td>[[-8.585631,41.148594],[-8.585694,41.148855],[...</td>\n",
       "      <td>66330</td>\n",
       "      <td>984.361023</td>\n",
       "    </tr>\n",
       "    <tr>\n",
       "      <th>72045</th>\n",
       "      <td>[[-8.57349,41.15754],[-8.573526,41.157612],[-8...</td>\n",
       "      <td>72045</td>\n",
       "      <td>984.361023</td>\n",
       "    </tr>\n",
       "  </tbody>\n",
       "</table>\n",
       "</div>"
      ],
      "text/plain": [
       "                                                POLYLINE  index        loss\n",
       "24457  [[-8.629308,41.145336],[-8.629551,41.145462],[...  24457  994.816284\n",
       "28193  [[-8.606979,41.150079],[-8.607132,41.150097],[...  28193  994.816284\n",
       "71226  [[-8.610264,41.151645],[-8.610237,41.151636],[...  71226  994.816284\n",
       "76018  [[-8.629902,41.154831],[-8.629911,41.154768],[...  76018  994.816284\n",
       "99406  [[-8.585631,41.148531],[-8.585631,41.148531],[...  99406  994.816284\n",
       "38011  [[-8.609958,41.140836],[-8.61003,41.140908],[-...  38011  984.361023\n",
       "41858  [[-8.688447,41.173749],[-8.688483,41.173758],[...  41858  984.361023\n",
       "49719  [[-8.685081,41.164308],[-8.685072,41.164308],[...  49719  984.361023\n",
       "66330  [[-8.585631,41.148594],[-8.585694,41.148855],[...  66330  984.361023\n",
       "72045  [[-8.57349,41.15754],[-8.573526,41.157612],[-8...  72045  984.361023"
      ]
     },
     "execution_count": 14,
     "metadata": {},
     "output_type": "execute_result"
    }
   ],
   "source": [
    "highest"
   ]
  },
  {
   "cell_type": "code",
   "execution_count": 24,
   "id": "60c16753",
   "metadata": {},
   "outputs": [],
   "source": [
    "import folium\n",
    "for idx in range(10):\n",
    "    Positions = row['POLYLINE'].strip('][').split('],[')\n",
    "    Longitudes = []\n",
    "    Latitudes = []\n",
    "    points = [(float(position.split(',')[1]),float(position.split(',')[0])) for position in Positions]\n",
    "    m = folium.Map()\n",
    "    # add marker for the start and ending points\n",
    "    for point in [points[0], points[-1]]:\n",
    "      folium.Marker(point).add_to(m)\n",
    "    # add the lines\n",
    "    folium.PolyLine(points, weight=5, opacity=1).add_to(m)\n",
    "    m.save(f'./routes/route_map{idx}.html')"
   ]
  },
  {
   "cell_type": "code",
   "execution_count": null,
   "id": "ecd43449",
   "metadata": {},
   "outputs": [],
   "source": []
  }
 ],
 "metadata": {
  "kernelspec": {
   "display_name": "Python 3 (ipykernel)",
   "language": "python",
   "name": "python3"
  },
  "language_info": {
   "codemirror_mode": {
    "name": "ipython",
    "version": 3
   },
   "file_extension": ".py",
   "mimetype": "text/x-python",
   "name": "python",
   "nbconvert_exporter": "python",
   "pygments_lexer": "ipython3",
   "version": "3.9.5"
  }
 },
 "nbformat": 4,
 "nbformat_minor": 5
}
