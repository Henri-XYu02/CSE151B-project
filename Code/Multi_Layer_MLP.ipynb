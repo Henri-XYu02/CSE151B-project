{
 "cells": [
  {
   "cell_type": "code",
   "execution_count": 13,
   "id": "7608cca6",
   "metadata": {},
   "outputs": [],
   "source": [
    "import matplotlib.pyplot as plt\n",
    "import pandas as pd\n",
    "import numpy as np\n",
    "import torch\n",
    "from torch import nn\n",
    "import torch.nn as nn\n",
    "import torch.nn.functional as F\n",
    "from torch.utils.data import DataLoader, Dataset, TensorDataset"
   ]
  },
  {
   "cell_type": "code",
   "execution_count": 14,
   "id": "821145ff",
   "metadata": {},
   "outputs": [],
   "source": [
    "device = torch.device('cuda' if torch.cuda.is_available else 'cpu')"
   ]
  },
  {
   "cell_type": "code",
   "execution_count": 15,
   "id": "218a9ebb",
   "metadata": {},
   "outputs": [],
   "source": [
    "train_features=torch.load('train_features.pt')\n",
    "train_labels=torch.load('train_labels.pt')"
   ]
  },
  {
   "cell_type": "code",
   "execution_count": 16,
   "id": "9ee4cc3c",
   "metadata": {},
   "outputs": [
    {
     "name": "stdout",
     "output_type": "stream",
     "text": [
      "torch.Size([1704759, 14])\n",
      "torch.Size([1704759])\n"
     ]
    }
   ],
   "source": [
    "print(train_features.shape)\n",
    "print(train_labels.shape)"
   ]
  },
  {
   "cell_type": "code",
   "execution_count": 17,
   "id": "5a08105c",
   "metadata": {},
   "outputs": [
    {
     "name": "stdout",
     "output_type": "stream",
     "text": [
      "torch.Size([1704759, 15])\n"
     ]
    }
   ],
   "source": [
    "train = torch.cat([train_features, train_labels.reshape(-1,1)],1)\n",
    "print(train.shape)\n",
    "train = train[torch.randperm(train.size(0))] #shuffling dataset, parameter down need to be updated\n",
    "train_set = train[0:1500000,                            0:train.shape[1]-1]\n",
    "train_label = train[0:1500000,                          train.shape[1]-1]\n",
    "validation_set = train[1500000:1600000,                 0:train.shape[1]-1]\n",
    "validation_label = train[1500000:1600000,               train.shape[1]-1]\n",
    "test_set = train[1600000:train.shape[0],                0:train.shape[1]-1]\n",
    "test_label = train[1600000:train.shape[0],              train.shape[1]-1]"
   ]
  },
  {
   "cell_type": "code",
   "execution_count": 62,
   "id": "8cd9c67d",
   "metadata": {},
   "outputs": [
    {
     "data": {
      "text/plain": [
       "tensor([[ 0.0000,  0.0000,  8.0000,  ...,  0.0000,  1.0000,  0.0000],\n",
       "        [ 0.0000,  0.0000, 12.0000,  ...,  1.0000,  0.0000,  0.0000],\n",
       "        [-0.5410, -1.9605, 10.0000,  ...,  0.0000,  1.0000,  0.0000],\n",
       "        ...,\n",
       "        [ 0.0000,  0.0000, 11.0000,  ...,  1.0000,  0.0000,  0.0000],\n",
       "        [ 0.0000,  0.0000, 10.0000,  ...,  1.0000,  0.0000,  0.0000],\n",
       "        [ 1.0912,  0.4009, 11.0000,  ...,  1.0000,  0.0000,  0.0000]])"
      ]
     },
     "execution_count": 62,
     "metadata": {},
     "output_type": "execute_result"
    }
   ],
   "source": [
    "train_set"
   ]
  },
  {
   "cell_type": "code",
   "execution_count": 18,
   "id": "47a60831",
   "metadata": {},
   "outputs": [
    {
     "name": "stdout",
     "output_type": "stream",
     "text": [
      "torch.Size([104759, 14])\n"
     ]
    }
   ],
   "source": [
    "print(test_set.shape)"
   ]
  },
  {
   "cell_type": "code",
   "execution_count": 19,
   "id": "fd80065b",
   "metadata": {},
   "outputs": [],
   "source": [
    "#You may save them if you want\n",
    "torch.save(train_set,'train_set.pt')\n",
    "torch.save(train_label,'train_label.pt')\n",
    "torch.save(validation_set,'validation_set.pt')\n",
    "torch.save(validation_label,'validation_label.pt')\n",
    "torch.save(test_set,'test_set.pt')\n",
    "torch.save(test_label,'test_label.pt')"
   ]
  },
  {
   "cell_type": "code",
   "execution_count": 20,
   "id": "622b7665",
   "metadata": {},
   "outputs": [],
   "source": [
    "del train_features\n",
    "del train_labels"
   ]
  },
  {
   "cell_type": "code",
   "execution_count": 21,
   "id": "00a557eb",
   "metadata": {},
   "outputs": [
    {
     "name": "stdout",
     "output_type": "stream",
     "text": [
      "torch.float32\n",
      "torch.float32\n"
     ]
    }
   ],
   "source": [
    "print(train_set.dtype)\n",
    "print(train_label.dtype)"
   ]
  },
  {
   "cell_type": "code",
   "execution_count": 22,
   "id": "76360068",
   "metadata": {},
   "outputs": [
    {
     "data": {
      "text/plain": [
       "torch.Size([1500000, 14])"
      ]
     },
     "execution_count": 22,
     "metadata": {},
     "output_type": "execute_result"
    }
   ],
   "source": [
    "train_set.shape"
   ]
  },
  {
   "cell_type": "code",
   "execution_count": null,
   "id": "e61624c4",
   "metadata": {},
   "outputs": [],
   "source": []
  },
  {
   "cell_type": "code",
   "execution_count": 27,
   "id": "c56a75fe",
   "metadata": {},
   "outputs": [
    {
     "data": {
      "text/plain": [
       "device(type='cuda')"
      ]
     },
     "execution_count": 27,
     "metadata": {},
     "output_type": "execute_result"
    }
   ],
   "source": [
    "device"
   ]
  },
  {
   "cell_type": "code",
   "execution_count": 28,
   "id": "10c3fd7c",
   "metadata": {},
   "outputs": [],
   "source": [
    "class MLP(nn.Module):\n",
    "    def __init__(self, input_features, hidden_size):\n",
    "        super(MLP, self).__init__()\n",
    "        self.layer1 = nn.Sequential(\n",
    "            nn.Linear(in_features=input_features, out_features=hidden_size),\n",
    "            nn.ReLU()\n",
    "        )\n",
    "        self.layer2 = nn.Sequential(\n",
    "            nn.Linear(in_features=hidden_size, out_features=hidden_size),\n",
    "            nn.ReLU()\n",
    "        )\n",
    "        self.output_layer = nn.Linear(in_features=hidden_size, out_features=1)\n",
    "\n",
    "    def forward(self, x):\n",
    "        x = x.to(torch.float32)\n",
    "        x = self.layer1(x)\n",
    "        x = self.layer2(x)\n",
    "        x = self.output_layer(x)\n",
    "        return x\n"
   ]
  },
  {
   "cell_type": "code",
   "execution_count": 29,
   "id": "3450c78a",
   "metadata": {},
   "outputs": [],
   "source": [
    "# Number of features in your data and the size of the hidden layer\n",
    "input_features = train_set.shape[1]\n",
    "hidden_size = 10\n",
    "\n",
    "# Initialize the model and move to the device\n",
    "model = MLP(input_features, hidden_size)\n",
    "model = model.to(device)\n"
   ]
  },
  {
   "cell_type": "code",
   "execution_count": null,
   "id": "a545717a",
   "metadata": {},
   "outputs": [],
   "source": []
  },
  {
   "cell_type": "code",
   "execution_count": 35,
   "id": "b2ed2308",
   "metadata": {},
   "outputs": [],
   "source": [
    "class RMSELoss(nn.Module):\n",
    "    def __init__(self, eps=1e-6):\n",
    "        super().__init__()\n",
    "        self.mse = nn.MSELoss()\n",
    "        self.eps = eps\n",
    "        \n",
    "    def forward(self,yhat,y):\n",
    "        return torch.sqrt(self.mse(yhat,y) + self.eps)\n"
   ]
  },
  {
   "cell_type": "code",
   "execution_count": 54,
   "id": "2b8b993e",
   "metadata": {},
   "outputs": [],
   "source": [
    "import torch.optim as optim\n",
    "learning_rate = 0.001\n",
    "criterion = nn.MSELoss()\n",
    "num_epochs = 5\n",
    "BATCH_SIZE = 64"
   ]
  },
  {
   "cell_type": "code",
   "execution_count": 51,
   "id": "147bce0e",
   "metadata": {},
   "outputs": [
    {
     "name": "stdout",
     "output_type": "stream",
     "text": [
      "23438\n"
     ]
    }
   ],
   "source": [
    "train_dataset = TensorDataset(train_set, train_label)\n",
    "train_loader = DataLoader(train_dataset, batch_size=BATCH_SIZE, shuffle=True)\n",
    "\n",
    "val_dataset = TensorDataset(validation_set, validation_label)\n",
    "val_loader = DataLoader(val_dataset, batch_size=BATCH_SIZE, shuffle=True)\n",
    "\n",
    "\n",
    "print(len(train_loader))\n",
    "all_losses = []"
   ]
  },
  {
   "cell_type": "code",
   "execution_count": 53,
   "id": "2c422f85",
   "metadata": {},
   "outputs": [],
   "source": [
    "def validate(model, val_loader, criterion):\n",
    "    model.eval()  # Set the model to evaluation mode\n",
    "    running_val_loss = 0.0\n",
    "    \n",
    "    with torch.no_grad():  # We don't need gradients for validation\n",
    "        for inputs, targets in val_loader:\n",
    "            # Move data to device\n",
    "            inputs = inputs.to(device)\n",
    "            targets = targets.to(device)\n",
    "\n",
    "            # Reshape targets\n",
    "            targets = torch.reshape(targets,(-1,1))\n",
    "\n",
    "            # Forward pass\n",
    "            outputs = model(inputs)\n",
    "            \n",
    "            # Calculate loss\n",
    "            loss = torch.sqrt(criterion(outputs, targets))  # RMSE\n",
    "\n",
    "            # Accumulate loss\n",
    "            running_val_loss += loss.item()\n",
    "\n",
    "    # Return average loss\n",
    "    average_val_loss = running_val_loss / len(val_loader)\n",
    "    return average_val_loss\n"
   ]
  },
  {
   "cell_type": "code",
   "execution_count": 57,
   "id": "79e8f548",
   "metadata": {},
   "outputs": [],
   "source": [
    "def train(model, train_loader, val_loader, criterion, num_epochs):\n",
    "    for epoch in range(num_epochs):\n",
    "        # Training Phase \n",
    "        model.train()\n",
    "        epoch_loss = 0\n",
    "        group_320_loss = 0\n",
    "        for i,(x, y) in enumerate(train_loader,0):\n",
    "            x = x.to(device)\n",
    "            y = y.to(device)\n",
    "            y = torch.reshape(y,(-1,1))\n",
    "            optimizer.zero_grad()\n",
    "            output = model(x)\n",
    "            loss = torch.sqrt(criterion(output, y))#RMSE\n",
    "            epoch_loss += loss.item()\n",
    "            loss.backward()\n",
    "            optimizer.step()\n",
    "            group_320_loss += loss.item()\n",
    "            if i%30==29:\n",
    "                all_losses.append(group_320_loss/6)\n",
    "        print(f\"Epoch: {epoch+1} Training Loss:{epoch_loss/len(train_loader)}\")\n",
    "\n",
    "        # Validation Phase\n",
    "        model.eval()\n",
    "        with torch.no_grad():\n",
    "            val_loss = 0\n",
    "            for x_val, y_val in val_loader:\n",
    "                x_val = x_val.to(device)\n",
    "                y_val = y_val.to(device)\n",
    "                y_val = torch.reshape(y_val,(-1,1))\n",
    "                preds = model(x_val)\n",
    "                val_loss += torch.sqrt(criterion(preds, y_val)).item() # RMSE\n",
    "        print(f\"Epoch: {epoch+1} Validation Loss:{val_loss/len(val_loader)}\")\n",
    "\n",
    "\n"
   ]
  },
  {
   "cell_type": "code",
   "execution_count": 63,
   "id": "f95eb189",
   "metadata": {},
   "outputs": [
    {
     "name": "stdout",
     "output_type": "stream",
     "text": [
      "Training with learning rate 0.001 and weight decay 0.001\n",
      "Epoch: 1 Training Loss:580.4425179385236\n",
      "Epoch: 1 Validation Loss:580.8674465186765\n",
      "Epoch: 2 Training Loss:572.8421654940893\n",
      "Epoch: 2 Validation Loss:579.6405604698684\n",
      "Epoch: 3 Training Loss:572.714111680331\n",
      "Epoch: 3 Validation Loss:579.0455433948637\n",
      "Epoch: 4 Training Loss:572.0058029068036\n",
      "Epoch: 4 Validation Loss:580.1433473124538\n",
      "Epoch: 5 Training Loss:571.8242116036681\n",
      "Epoch: 5 Validation Loss:579.7281943215671\n",
      "Training with learning rate 0.001 and weight decay 0.0001\n",
      "Epoch: 1 Training Loss:582.6103047431864\n",
      "Epoch: 1 Validation Loss:580.798876351755\n",
      "Epoch: 2 Training Loss:573.129197310848\n",
      "Epoch: 2 Validation Loss:581.6621524081044\n",
      "Epoch: 3 Training Loss:573.0099476549709\n",
      "Epoch: 3 Validation Loss:580.419062970162\n",
      "Epoch: 4 Training Loss:572.5350274558726\n",
      "Epoch: 4 Validation Loss:580.4310192906239\n",
      "Epoch: 5 Training Loss:572.0992895680205\n",
      "Epoch: 5 Validation Loss:580.4896173751744\n",
      "Training with learning rate 0.001 and weight decay 1e-05\n",
      "Epoch: 1 Training Loss:582.3815550613306\n",
      "Epoch: 1 Validation Loss:580.7473652962302\n",
      "Epoch: 2 Training Loss:572.6893520744213\n",
      "Epoch: 2 Validation Loss:582.6384071354979\n",
      "Epoch: 5 Training Loss:571.8746787887535\n",
      "Epoch: 5 Validation Loss:581.3097974468483\n",
      "Training with learning rate 0.0001 and weight decay 0.001\n",
      "Epoch: 1 Training Loss:635.2188299800646\n",
      "Epoch: 1 Validation Loss:594.6042354727737\n",
      "Epoch: 2 Training Loss:578.0603218889142\n",
      "Epoch: 2 Validation Loss:582.018251229919\n",
      "Epoch: 3 Training Loss:574.903949611575\n",
      "Epoch: 3 Validation Loss:582.422832623248\n",
      "Epoch: 4 Training Loss:573.9132868388131\n",
      "Epoch: 4 Validation Loss:583.0372597175154\n",
      "Epoch: 5 Training Loss:573.745241614533\n",
      "Epoch: 5 Validation Loss:581.6247922149287\n",
      "Training with learning rate 0.0001 and weight decay 0.0001\n",
      "Epoch: 1 Training Loss:655.5099677541515\n",
      "Epoch: 1 Validation Loss:601.7777706641688\n",
      "Epoch: 2 Training Loss:585.0016047665463\n",
      "Epoch: 2 Validation Loss:586.0080646068258\n",
      "Epoch: 3 Training Loss:575.4403066816606\n",
      "Epoch: 3 Validation Loss:584.2954821449324\n",
      "Epoch: 4 Training Loss:574.7052547950592\n",
      "Epoch: 4 Validation Loss:582.2351460032789\n",
      "Epoch: 5 Training Loss:574.1984111500414\n",
      "Epoch: 5 Validation Loss:582.3042013860252\n",
      "Training with learning rate 0.0001 and weight decay 1e-05\n",
      "Epoch: 1 Training Loss:637.9529374662403\n",
      "Epoch: 1 Validation Loss:596.6991660715446\n",
      "Epoch: 2 Training Loss:581.6033967942017\n",
      "Epoch: 2 Validation Loss:584.5717594197981\n",
      "Epoch: 3 Training Loss:575.4747477255642\n",
      "Epoch: 3 Validation Loss:582.1315467136454\n",
      "Epoch: 4 Training Loss:574.1468577993253\n",
      "Epoch: 4 Validation Loss:581.4198384837165\n",
      "Epoch: 5 Training Loss:573.8799239066755\n",
      "Epoch: 5 Validation Loss:580.0125723635624\n",
      "Training with learning rate 1e-05 and weight decay 0.001\n",
      "Epoch: 1 Training Loss:923.8185778859635\n",
      "Epoch: 1 Validation Loss:904.425254074946\n",
      "Epoch: 2 Training Loss:823.9783835249535\n",
      "Epoch: 2 Validation Loss:733.3844538692931\n",
      "Epoch: 3 Training Loss:640.6658259389425\n",
      "Epoch: 3 Validation Loss:616.08242155479\n",
      "Epoch: 4 Training Loss:607.54251871533\n",
      "Epoch: 4 Validation Loss:614.6322837629458\n",
      "Epoch: 5 Training Loss:605.0212021414377\n",
      "Epoch: 5 Validation Loss:612.1767436178235\n",
      "Training with learning rate 1e-05 and weight decay 0.0001\n",
      "Epoch: 1 Training Loss:925.7709619017711\n",
      "Epoch: 1 Validation Loss:903.4554774503409\n",
      "Epoch: 2 Training Loss:810.8611613225688\n",
      "Epoch: 2 Validation Loss:705.9403917699461\n",
      "Epoch: 3 Training Loss:627.1373177274562\n",
      "Epoch: 3 Validation Loss:614.8176929866818\n",
      "Epoch: 4 Training Loss:605.1452569727992\n",
      "Epoch: 4 Validation Loss:612.7921796275192\n",
      "Epoch: 5 Training Loss:602.0867934830411\n",
      "Epoch: 5 Validation Loss:610.2553057240433\n",
      "Training with learning rate 1e-05 and weight decay 1e-05\n",
      "Epoch: 1 Training Loss:929.3264771497375\n",
      "Epoch: 1 Validation Loss:918.2194184579685\n",
      "Epoch: 2 Training Loss:853.9923587867105\n",
      "Epoch: 2 Validation Loss:781.9645771751477\n",
      "Epoch: 3 Training Loss:675.8883864409851\n",
      "Epoch: 3 Validation Loss:617.584296111182\n",
      "Epoch: 4 Training Loss:607.8511258439507\n",
      "Epoch: 4 Validation Loss:612.5067824975695\n",
      "Epoch: 5 Training Loss:604.8877752176963\n",
      "Epoch: 5 Validation Loss:610.7128144384423\n",
      "Best validation loss: 577.5069565629624\n",
      "Best hyperparameters: learning rate 0.001, weight decay 1e-05\n"
     ]
    }
   ],
   "source": [
    "learning_rates = [1e-3, 1e-4, 1e-5]\n",
    "weight_decays = [1e-3, 1e-4, 1e-5]\n",
    "\n",
    "best_val_loss = float('inf')\n",
    "best_hyperparameters = None\n",
    "\n",
    "for lr in learning_rates:\n",
    "    for wd in weight_decays:\n",
    "        print(f\"Training with learning rate {lr} and weight decay {wd}\")\n",
    "        model = MLP(train_set.shape[1],10).to(device)\n",
    "        criterion = nn.MSELoss()\n",
    "        optimizer = torch.optim.Adam(model.parameters(), lr=lr, weight_decay=wd)\n",
    "        train(model, train_loader, val_loader, criterion, num_epochs) # use the training function you defined\n",
    "        val_loss = validate(model, val_loader, criterion) # you will need to define a validate function\n",
    "\n",
    "        if val_loss < best_val_loss:\n",
    "            best_val_loss = val_loss\n",
    "            best_hyperparameters = (lr, wd)\n",
    "\n",
    "print(f\"Best validation loss: {best_val_loss}\")\n",
    "print(f\"Best hyperparameters: learning rate {best_hyperparameters[0]}, weight decay {best_hyperparameters[1]}\")\n"
   ]
  },
  {
   "cell_type": "code",
   "execution_count": 34,
   "id": "8d0897cb",
   "metadata": {},
   "outputs": [
    {
     "name": "stdout",
     "output_type": "stream",
     "text": [
      "Epoch: 1 Loss:2904.1357421875\n",
      "Epoch: 2 Loss:2864.908447265625\n",
      "Epoch: 3 Loss:2864.289306640625\n",
      "Epoch: 4 Loss:2863.82568359375\n",
      "Epoch: 5 Loss:2860.9482421875\n",
      "Epoch: 6 Loss:2864.11669921875\n",
      "Epoch: 7 Loss:2864.02490234375\n",
      "Epoch: 8 Loss:2862.87548828125\n",
      "Epoch: 9 Loss:2862.2080078125\n",
      "Epoch: 10 Loss:2857.65087890625\n"
     ]
    }
   ],
   "source": [
    "train(model, train_loader,criterion,num_epochs)"
   ]
  },
  {
   "cell_type": "code",
   "execution_count": 36,
   "id": "fd7186ce",
   "metadata": {
    "scrolled": true
   },
   "outputs": [
    {
     "data": {
      "text/plain": [
       "[<matplotlib.lines.Line2D at 0x7fb3ff3a4fd0>]"
      ]
     },
     "execution_count": 36,
     "metadata": {},
     "output_type": "execute_result"
    },
    {
     "data": {
      "image/png": "[encoded data removed]",
      "text/plain": [
       "<Figure size 432x288 with 1 Axes>"
      ]
     },
     "metadata": {
      "needs_background": "light"
     },
     "output_type": "display_data"
    }
   ],
   "source": [
    "plt.figure()\n",
    "plt.plot(torch.Tensor.cpu(torch.tensor(all_losses)))"
   ]
  },
  {
   "cell_type": "code",
   "execution_count": 37,
   "id": "95c4f2f7",
   "metadata": {},
   "outputs": [],
   "source": [
    "del all_losses"
   ]
  },
  {
   "cell_type": "code",
   "execution_count": 38,
   "id": "bb8010a7",
   "metadata": {},
   "outputs": [],
   "source": [
    "def view_loss(model, test_set, test_label,criterion):\n",
    "    total_loss=0\n",
    "    test_dataset = TensorDataset(test_set, test_label)\n",
    "    test_loader = DataLoader(test_dataset, batch_size=BATCH_SIZE, shuffle=True)\n",
    "    for x, y in test_loader:\n",
    "        x = x.to(device)\n",
    "        y = y.to(device)\n",
    "        y = torch.reshape(y,(-1,1))\n",
    "        output = model(x)\n",
    "        loss = torch.sqrt(criterion(output, y))#RMSE\n",
    "        total_loss += loss\n",
    "    return total_loss"
   ]
  },
  {
   "cell_type": "code",
   "execution_count": null,
   "id": "72a27580",
   "metadata": {},
   "outputs": [],
   "source": [
    "#You need to see loss for validation set to tune the parameter. I didn't do that because linear regression is too simple"
   ]
  },
  {
   "cell_type": "code",
   "execution_count": 39,
   "id": "df407cc2",
   "metadata": {
    "scrolled": true
   },
   "outputs": [
    {
     "name": "stdout",
     "output_type": "stream",
     "text": [
      "tensor(2800.0242, device='cuda:0', grad_fn=<MulBackward0>)\n"
     ]
    }
   ],
   "source": [
    "print(view_loss(model, test_set, test_label,criterion)/test_set.shape[0]*320)"
   ]
  },
  {
   "cell_type": "code",
   "execution_count": 40,
   "id": "24ae62ae",
   "metadata": {},
   "outputs": [
    {
     "name": "stdout",
     "output_type": "stream",
     "text": [
      "torch.Size([320, 14])\n"
     ]
    }
   ],
   "source": [
    "predict_input = torch.load('predict_input.pt').to(device)\n",
    "print(predict_input.shape)"
   ]
  },
  {
   "cell_type": "code",
   "execution_count": 41,
   "id": "0398dbf8",
   "metadata": {},
   "outputs": [],
   "source": [
    "def predict(model):\n",
    "    predict_output = model(predict_input)\n",
    "    return predict_output"
   ]
  },
  {
   "cell_type": "code",
   "execution_count": 42,
   "id": "1963b248",
   "metadata": {
    "scrolled": true
   },
   "outputs": [
    {
     "name": "stdout",
     "output_type": "stream",
     "text": [
      "tensor([[688.5222],\n",
      "        [688.4796],\n",
      "        [688.5222],\n",
      "        [688.4948],\n",
      "        [688.4459],\n",
      "        [784.9577],\n",
      "        [688.5222],\n",
      "        [784.9577],\n",
      "        [688.4985],\n",
      "        [688.5222],\n",
      "        [688.4368],\n",
      "        [727.5194],\n",
      "        [727.5194],\n",
      "        [727.5194],\n",
      "        [727.5194],\n",
      "        [727.5194],\n",
      "        [727.5194],\n",
      "        [727.5194],\n",
      "        [688.5222],\n",
      "        [727.5194],\n",
      "        [688.5222],\n",
      "        [784.9577],\n",
      "        [784.9577],\n",
      "        [688.5222],\n",
      "        [688.3863],\n",
      "        [688.3274],\n",
      "        [688.5222],\n",
      "        [688.5222],\n",
      "        [688.3593],\n",
      "        [688.5222],\n",
      "        [688.5222],\n",
      "        [688.4796],\n",
      "        [727.5194],\n",
      "        [727.5194],\n",
      "        [727.5194],\n",
      "        [727.5194],\n",
      "        [784.9577],\n",
      "        [688.4542],\n",
      "        [688.5222],\n",
      "        [688.4938],\n",
      "        [688.4187],\n",
      "        [727.5194],\n",
      "        [727.5194],\n",
      "        [688.4985],\n",
      "        [688.4095],\n",
      "        [688.4854],\n",
      "        [727.5194],\n",
      "        [727.5194],\n",
      "        [688.4526],\n",
      "        [688.4368],\n",
      "        [688.3810],\n",
      "        [688.4630],\n",
      "        [688.4542],\n",
      "        [688.5222],\n",
      "        [688.5222],\n",
      "        [688.4586],\n",
      "        [688.4985],\n",
      "        [688.2800],\n",
      "        [727.5194],\n",
      "        [784.9577],\n",
      "        [688.5222],\n",
      "        [727.5194],\n",
      "        [727.5194],\n",
      "        [784.9577],\n",
      "        [688.4985],\n",
      "        [688.4985],\n",
      "        [688.5222],\n",
      "        [784.9577],\n",
      "        [727.5194],\n",
      "        [688.3810],\n",
      "        [720.4889],\n",
      "        [727.5194],\n",
      "        [688.5222],\n",
      "        [727.5194],\n",
      "        [666.7899],\n",
      "        [706.0730],\n",
      "        [667.0273],\n",
      "        [706.0730],\n",
      "        [706.0730],\n",
      "        [706.0730],\n",
      "        [763.5112],\n",
      "        [666.8868],\n",
      "        [763.5112],\n",
      "        [763.5112],\n",
      "        [666.8887],\n",
      "        [763.5112],\n",
      "        [706.0730],\n",
      "        [706.0730],\n",
      "        [666.8433],\n",
      "        [763.5112],\n",
      "        [763.5112],\n",
      "        [706.0730],\n",
      "        [706.0730],\n",
      "        [763.5112],\n",
      "        [659.9773],\n",
      "        [699.0425],\n",
      "        [763.5112],\n",
      "        [763.5112],\n",
      "        [763.5112],\n",
      "        [706.0730],\n",
      "        [666.8887],\n",
      "        [666.8701],\n",
      "        [706.0730],\n",
      "        [667.0331],\n",
      "        [667.0331],\n",
      "        [763.5112],\n",
      "        [667.0142],\n",
      "        [666.9195],\n",
      "        [666.8701],\n",
      "        [763.5112],\n",
      "        [763.5112],\n",
      "        [763.5112],\n",
      "        [666.8939],\n",
      "        [763.5112],\n",
      "        [763.5112],\n",
      "        [706.0730],\n",
      "        [666.8336],\n",
      "        [659.8896],\n",
      "        [706.0730],\n",
      "        [666.8992],\n",
      "        [763.5112],\n",
      "        [763.5112],\n",
      "        [763.5112],\n",
      "        [763.5112],\n",
      "        [667.0331],\n",
      "        [732.3929],\n",
      "        [706.0730],\n",
      "        [763.5112],\n",
      "        [706.0730],\n",
      "        [667.0331],\n",
      "        [667.0331],\n",
      "        [666.7899],\n",
      "        [699.0425],\n",
      "        [706.0730],\n",
      "        [706.0730],\n",
      "        [706.0730],\n",
      "        [667.0758],\n",
      "        [666.8336],\n",
      "        [763.5112],\n",
      "        [763.5112],\n",
      "        [706.0730],\n",
      "        [667.0331],\n",
      "        [763.5112],\n",
      "        [660.0452],\n",
      "        [763.5112],\n",
      "        [763.5112],\n",
      "        [666.8433],\n",
      "        [706.0730],\n",
      "        [666.8701],\n",
      "        [666.7802],\n",
      "        [763.5112],\n",
      "        [748.0595],\n",
      "        [690.6213],\n",
      "        [748.0595],\n",
      "        [690.6213],\n",
      "        [651.4368],\n",
      "        [651.5625],\n",
      "        [748.0595],\n",
      "        [651.5813],\n",
      "        [651.6240],\n",
      "        [748.0595],\n",
      "        [690.6213],\n",
      "        [748.0595],\n",
      "        [651.3819],\n",
      "        [748.0595],\n",
      "        [651.5561],\n",
      "        [683.5908],\n",
      "        [748.0595],\n",
      "        [690.6213],\n",
      "        [651.5477],\n",
      "        [651.3920],\n",
      "        [651.4292],\n",
      "        [690.6213],\n",
      "        [651.4828],\n",
      "        [651.5205],\n",
      "        [690.6213],\n",
      "        [651.6003],\n",
      "        [748.0595],\n",
      "        [748.0595],\n",
      "        [748.0595],\n",
      "        [651.4475],\n",
      "        [651.5965],\n",
      "        [748.0595],\n",
      "        [690.6213],\n",
      "        [651.5956],\n",
      "        [690.6213],\n",
      "        [748.0595],\n",
      "        [651.5604],\n",
      "        [651.5965],\n",
      "        [683.5908],\n",
      "        [748.0595],\n",
      "        [651.5545],\n",
      "        [748.0595],\n",
      "        [690.6213],\n",
      "        [651.5625],\n",
      "        [690.6213],\n",
      "        [690.6213],\n",
      "        [651.5545],\n",
      "        [683.5908],\n",
      "        [651.4475],\n",
      "        [618.6830],\n",
      "        [748.0595],\n",
      "        [651.3381],\n",
      "        [690.6213],\n",
      "        [690.6213],\n",
      "        [651.5828],\n",
      "        [651.5477],\n",
      "        [748.0595],\n",
      "        [748.0595],\n",
      "        [690.6213],\n",
      "        [651.5813],\n",
      "        [651.5965],\n",
      "        [690.6213],\n",
      "        [651.5649],\n",
      "        [651.4738],\n",
      "        [748.0595],\n",
      "        [644.4380],\n",
      "        [651.5104],\n",
      "        [651.4611],\n",
      "        [651.6240],\n",
      "        [683.5908],\n",
      "        [690.6213],\n",
      "        [741.0290],\n",
      "        [690.6213],\n",
      "        [651.6003],\n",
      "        [651.4249],\n",
      "        [690.6213],\n",
      "        [748.0595],\n",
      "        [610.3687],\n",
      "        [649.4085],\n",
      "        [610.3687],\n",
      "        [649.4085],\n",
      "        [649.4085],\n",
      "        [649.4085],\n",
      "        [649.4085],\n",
      "        [649.4085],\n",
      "        [649.4085],\n",
      "        [649.4085],\n",
      "        [649.4085],\n",
      "        [610.2701],\n",
      "        [649.4085],\n",
      "        [649.4085],\n",
      "        [610.3026],\n",
      "        [706.8468],\n",
      "        [649.4085],\n",
      "        [649.4085],\n",
      "        [610.3687],\n",
      "        [649.4085],\n",
      "        [649.4085],\n",
      "        [610.3628],\n",
      "        [610.3522],\n",
      "        [649.4085],\n",
      "        [706.8468],\n",
      "        [649.4085],\n",
      "        [610.3628],\n",
      "        [649.4085],\n",
      "        [649.4085],\n",
      "        [649.4085],\n",
      "        [649.4085],\n",
      "        [649.4085],\n",
      "        [649.4085],\n",
      "        [649.4085],\n",
      "        [649.4085],\n",
      "        [649.4085],\n",
      "        [649.4085],\n",
      "        [610.3628],\n",
      "        [649.4085],\n",
      "        [649.4085],\n",
      "        [649.4085],\n",
      "        [649.4085],\n",
      "        [649.4085],\n",
      "        [649.4085],\n",
      "        [649.4085],\n",
      "        [610.3077],\n",
      "        [649.4085],\n",
      "        [610.3477],\n",
      "        [610.3628],\n",
      "        [649.4085],\n",
      "        [649.4085],\n",
      "        [649.4085],\n",
      "        [642.3779],\n",
      "        [649.4085],\n",
      "        [649.4085],\n",
      "        [610.3628],\n",
      "        [649.4085],\n",
      "        [706.8468],\n",
      "        [649.4085],\n",
      "        [649.4085],\n",
      "        [649.4085],\n",
      "        [649.4085],\n",
      "        [677.1222],\n",
      "        [707.6376],\n",
      "        [779.1368],\n",
      "        [721.6987],\n",
      "        [779.1368],\n",
      "        [677.0975],\n",
      "        [779.1368],\n",
      "        [677.1674],\n",
      "        [721.6987],\n",
      "        [721.6987],\n",
      "        [700.6071],\n",
      "        [714.6682],\n",
      "        [779.1368],\n",
      "        [700.6071],\n",
      "        [779.1368],\n",
      "        [779.1368],\n",
      "        [779.1368],\n",
      "        [779.1368],\n",
      "        [721.6987],\n",
      "        [779.1368],\n",
      "        [677.2541],\n",
      "        [779.1368],\n",
      "        [765.0759],\n",
      "        [714.6682],\n",
      "        [721.6987],\n",
      "        [779.1368],\n",
      "        [677.1674],\n",
      "        [721.6987],\n",
      "        [779.1368],\n",
      "        [779.1368]], device='cuda:0', grad_fn=<AddmmBackward>)\n"
     ]
    }
   ],
   "source": [
    "out = predict(model)\n",
    "print(out)"
   ]
  },
  {
   "cell_type": "code",
   "execution_count": 43,
   "id": "ef0f06b4",
   "metadata": {},
   "outputs": [
    {
     "data": {
      "text/html": [
       "<div>\n",
       "<style scoped>\n",
       "    .dataframe tbody tr th:only-of-type {\n",
       "        vertical-align: middle;\n",
       "    }\n",
       "\n",
       "    .dataframe tbody tr th {\n",
       "        vertical-align: top;\n",
       "    }\n",
       "\n",
       "    .dataframe thead th {\n",
       "        text-align: right;\n",
       "    }\n",
       "</style>\n",
       "<table border=\"1\" class=\"dataframe\">\n",
       "  <thead>\n",
       "    <tr style=\"text-align: right;\">\n",
       "      <th></th>\n",
       "      <th>TRIP_ID</th>\n",
       "      <th>TRAVEL_TIME</th>\n",
       "    </tr>\n",
       "  </thead>\n",
       "  <tbody>\n",
       "    <tr>\n",
       "      <th>0</th>\n",
       "      <td>T1</td>\n",
       "      <td>688.522156</td>\n",
       "    </tr>\n",
       "    <tr>\n",
       "      <th>1</th>\n",
       "      <td>T2</td>\n",
       "      <td>688.479553</td>\n",
       "    </tr>\n",
       "    <tr>\n",
       "      <th>2</th>\n",
       "      <td>T3</td>\n",
       "      <td>688.522156</td>\n",
       "    </tr>\n",
       "    <tr>\n",
       "      <th>3</th>\n",
       "      <td>T4</td>\n",
       "      <td>688.494751</td>\n",
       "    </tr>\n",
       "    <tr>\n",
       "      <th>4</th>\n",
       "      <td>T5</td>\n",
       "      <td>688.445862</td>\n",
       "    </tr>\n",
       "  </tbody>\n",
       "</table>\n",
       "</div>"
      ],
      "text/plain": [
       "  TRIP_ID  TRAVEL_TIME\n",
       "0      T1   688.522156\n",
       "1      T2   688.479553\n",
       "2      T3   688.522156\n",
       "3      T4   688.494751\n",
       "4      T5   688.445862"
      ]
     },
     "execution_count": 43,
     "metadata": {},
     "output_type": "execute_result"
    }
   ],
   "source": [
    "linear_predict = pd.read_csv('test_public.csv')\n",
    "linear_predict = linear_predict['TRIP_ID']\n",
    "predict_tensor = out.to('cpu').detach().numpy().flatten()\n",
    "linear_predict= pd.concat([linear_predict, pd.DataFrame(predict_tensor)], axis=1)\n",
    "linear_predict = linear_predict.rename(columns={0: 'TRAVEL_TIME'})\n",
    "linear_predict.head()"
   ]
  },
  {
   "cell_type": "code",
   "execution_count": 44,
   "id": "6ca794bd",
   "metadata": {},
   "outputs": [],
   "source": [
    "linear_predict.to_csv('linear_predict.csv', index=False)"
   ]
  },
  {
   "cell_type": "code",
   "execution_count": 45,
   "id": "a8f5d610",
   "metadata": {},
   "outputs": [],
   "source": [
    "PATH = 'linear.pth'\n",
    "torch.save(model.state_dict(),PATH)"
   ]
  },
  {
   "cell_type": "code",
   "execution_count": 49,
   "id": "87df52b0",
   "metadata": {},
   "outputs": [
    {
     "ename": "RuntimeError",
     "evalue": "Error(s) in loading state_dict for MLP:\n\tsize mismatch for layer1.0.weight: copying a param with shape torch.Size([10, 14]) from checkpoint, the shape in current model is torch.Size([20, 14]).\n\tsize mismatch for layer1.0.bias: copying a param with shape torch.Size([10]) from checkpoint, the shape in current model is torch.Size([20]).\n\tsize mismatch for layer2.0.weight: copying a param with shape torch.Size([10, 10]) from checkpoint, the shape in current model is torch.Size([20, 20]).\n\tsize mismatch for layer2.0.bias: copying a param with shape torch.Size([10]) from checkpoint, the shape in current model is torch.Size([20]).\n\tsize mismatch for output_layer.weight: copying a param with shape torch.Size([1, 10]) from checkpoint, the shape in current model is torch.Size([1, 20]).",
     "output_type": "error",
     "traceback": [
      "\u001b[0;31m---------------------------------------------------------------------------\u001b[0m",
      "\u001b[0;31mRuntimeError\u001b[0m                              Traceback (most recent call last)",
      "\u001b[0;32m/tmp/ipykernel_127/1768665163.py\u001b[0m in \u001b[0;36m<module>\u001b[0;34m\u001b[0m\n\u001b[1;32m      1\u001b[0m \u001b[0mmodel\u001b[0m \u001b[0;34m=\u001b[0m \u001b[0mMLP\u001b[0m\u001b[0;34m(\u001b[0m\u001b[0;36m14\u001b[0m\u001b[0;34m,\u001b[0m\u001b[0;36m20\u001b[0m\u001b[0;34m)\u001b[0m\u001b[0;34m.\u001b[0m\u001b[0mto\u001b[0m\u001b[0;34m(\u001b[0m\u001b[0mdevice\u001b[0m\u001b[0;34m)\u001b[0m\u001b[0;34m\u001b[0m\u001b[0;34m\u001b[0m\u001b[0m\n\u001b[1;32m      2\u001b[0m \u001b[0mmodel_state\u001b[0m \u001b[0;34m=\u001b[0m \u001b[0mtorch\u001b[0m\u001b[0;34m.\u001b[0m\u001b[0mload\u001b[0m\u001b[0;34m(\u001b[0m\u001b[0;34m'linear.pth'\u001b[0m\u001b[0;34m)\u001b[0m\u001b[0;34m\u001b[0m\u001b[0;34m\u001b[0m\u001b[0m\n\u001b[0;32m----> 3\u001b[0;31m \u001b[0mmodel\u001b[0m\u001b[0;34m.\u001b[0m\u001b[0mload_state_dict\u001b[0m\u001b[0;34m(\u001b[0m\u001b[0mmodel_state\u001b[0m\u001b[0;34m)\u001b[0m\u001b[0;34m\u001b[0m\u001b[0;34m\u001b[0m\u001b[0m\n\u001b[0m",
      "\u001b[0;32m/opt/conda/lib/python3.9/site-packages/torch/nn/modules/module.py\u001b[0m in \u001b[0;36mload_state_dict\u001b[0;34m(self, state_dict, strict)\u001b[0m\n\u001b[1;32m   1404\u001b[0m \u001b[0;34m\u001b[0m\u001b[0m\n\u001b[1;32m   1405\u001b[0m         \u001b[0;32mif\u001b[0m \u001b[0mlen\u001b[0m\u001b[0;34m(\u001b[0m\u001b[0merror_msgs\u001b[0m\u001b[0;34m)\u001b[0m \u001b[0;34m>\u001b[0m \u001b[0;36m0\u001b[0m\u001b[0;34m:\u001b[0m\u001b[0;34m\u001b[0m\u001b[0;34m\u001b[0m\u001b[0m\n\u001b[0;32m-> 1406\u001b[0;31m             raise RuntimeError('Error(s) in loading state_dict for {}:\\n\\t{}'.format(\n\u001b[0m\u001b[1;32m   1407\u001b[0m                                self.__class__.__name__, \"\\n\\t\".join(error_msgs)))\n\u001b[1;32m   1408\u001b[0m         \u001b[0;32mreturn\u001b[0m \u001b[0m_IncompatibleKeys\u001b[0m\u001b[0;34m(\u001b[0m\u001b[0mmissing_keys\u001b[0m\u001b[0;34m,\u001b[0m \u001b[0munexpected_keys\u001b[0m\u001b[0;34m)\u001b[0m\u001b[0;34m\u001b[0m\u001b[0;34m\u001b[0m\u001b[0m\n",
      "\u001b[0;31mRuntimeError\u001b[0m: Error(s) in loading state_dict for MLP:\n\tsize mismatch for layer1.0.weight: copying a param with shape torch.Size([10, 14]) from checkpoint, the shape in current model is torch.Size([20, 14]).\n\tsize mismatch for layer1.0.bias: copying a param with shape torch.Size([10]) from checkpoint, the shape in current model is torch.Size([20]).\n\tsize mismatch for layer2.0.weight: copying a param with shape torch.Size([10, 10]) from checkpoint, the shape in current model is torch.Size([20, 20]).\n\tsize mismatch for layer2.0.bias: copying a param with shape torch.Size([10]) from checkpoint, the shape in current model is torch.Size([20]).\n\tsize mismatch for output_layer.weight: copying a param with shape torch.Size([1, 10]) from checkpoint, the shape in current model is torch.Size([1, 20])."
     ]
    }
   ],
   "source": [
    "model = MLP(14,20).to(device)\n",
    "model_state = torch.load('linear.pth')\n",
    "model.load_state_dict(model_state)"
   ]
  },
  {
   "cell_type": "code",
   "execution_count": null,
   "id": "a8519fb4",
   "metadata": {},
   "outputs": [],
   "source": [
    "#Use sklearn for something like gradient boosting or random forest\n",
    "\n",
    "#Model Selection: Gradient Boosting,Random Forest,Extra Randomized Trees, SVM, Linear Regression, Logistic Regression, Neural Networks"
   ]
  },
  {
   "cell_type": "code",
   "execution_count": null,
   "id": "bab4618a",
   "metadata": {},
   "outputs": [],
   "source": [
    "#TODO: build other models\n",
    "#TODO: report loss on validation sets and tune parameters for each model\n",
    "#TODO: run on test sets and report test loss\n",
    "#TODO: predict travel time(test_features) and submit to kaggle"
   ]
  }
 ],
 "metadata": {
  "kernelspec": {
   "display_name": "Python 3 (ipykernel)",
   "language": "python",
   "name": "python3"
  },
  "language_info": {
   "codemirror_mode": {
    "name": "ipython",
    "version": 3
   },
   "file_extension": ".py",
   "mimetype": "text/x-python",
   "name": "python",
   "nbconvert_exporter": "python",
   "pygments_lexer": "ipython3",
   "version": "3.9.12"
  }
 },
 "nbformat": 4,
 "nbformat_minor": 5
}
