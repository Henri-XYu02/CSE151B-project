{
  "cells": [
    {
      "cell_type": "code",
      "execution_count": 64,
      "id": "9381fb21",
      "metadata": {
        "id": "9381fb21",
        "colab": {
          "base_uri": "https://localhost:8080/"
        },
        "outputId": "3110c752-47f9-47da-ad68-e59621a00170"
      },
      "outputs": [
        {
          "output_type": "stream",
          "name": "stdout",
          "text": [
            "Drive already mounted at /content/drive; to attempt to forcibly remount, call drive.mount(\"/content/drive\", force_remount=True).\n"
          ]
        }
      ],
      "source": [
        "import numpy as np\n",
        "import pandas as pd\n",
        "import torch\n",
        "import torch.nn as nn\n",
        "import pickle\n",
        "from sklearn.preprocessing import scale\n",
        "from torch.utils.data import DataLoader, Dataset, TensorDataset\n",
        "device = torch.device('cuda' if torch.cuda.is_available() else \"cpu\")\n",
        "\n",
        "from google.colab import drive\n",
        "drive.mount('/content/drive')"
      ]
    },
    {
      "cell_type": "code",
      "execution_count": 65,
      "id": "a17119ce",
      "metadata": {
        "id": "a17119ce",
        "colab": {
          "base_uri": "https://localhost:8080/"
        },
        "outputId": "b4b6a3c8-cd51-4648-8007-f894a27d1a9d"
      },
      "outputs": [
        {
          "output_type": "stream",
          "name": "stdout",
          "text": [
            "torch.Size([1704759, 14])\n",
            "torch.Size([1704759])\n",
            "torch.Size([1704759, 15])\n"
          ]
        }
      ],
      "source": [
        "train_features=torch.load('/content/drive/MyDrive/Colab Notebooks/KaggleProject/Code/train_features.pt')\n",
        "train_labels=torch.load('/content/drive/MyDrive/Colab Notebooks/KaggleProject/Code/train_labels.pt')\n",
        "print(train_features.shape)\n",
        "print(train_labels.shape)\n",
        "\n",
        "train = torch.cat([train_features, train_labels.reshape(-1,1)],1)\n",
        "print(train.shape)\n",
        "train = train[torch.randperm(train.size(0))] #shuffling dataset, parameter down need to be updated\n",
        "train_set = train[0:1500000,                            0:train.shape[1]-1]\n",
        "train_label = train[0:1500000,                          train.shape[1]-1]\n",
        "validation_set = train[1500000:1600000,                 0:train.shape[1]-1]\n",
        "validation_label = train[1500000:1600000,               train.shape[1]-1]\n",
        "test_set = train[1600000:train.shape[0],                0:train.shape[1]-1]\n",
        "test_label = train[1600000:train.shape[0],              train.shape[1]-1]\n",
        "\n",
        "train_cache = '/content/drive/MyDrive/Colab Notebooks/KaggleProject/Cache/train.pickle'\n",
        "train_labels_cache = '/content/drive/MyDrive/Colab Notebooks/KaggleProject/Cache/train-labels.npy'\n",
        "validation_cache = '/content/drive/MyDrive/Colab Notebooks/KaggleProject/Cache/validation.pickle'\n",
        "validation_labels_cache = '/content/drive/MyDrive/Colab Notebooks/KaggleProject/Cache/validation-labels.npy'\n",
        "test_cache = '/content/drive/MyDrive/Colab Notebooks/KaggleProject/Cache/test.pickle'\n",
        "test_labels_cache = '/content/drive/MyDrive/Colab Notebooks/KaggleProject/Cache/test-labels.npy'\n",
        "competition_test_cache = '/content/drive/MyDrive/Colab Notebooks/KaggleProject/Cache/competition-test.pickle'\n",
        "metadata_cache = '/content/drive/MyDrive/Colab Notebooks/KaggleProject/Cache/metadata.pickle'\n",
        "\n"
      ]
    },
    {
      "cell_type": "code",
      "execution_count": 66,
      "id": "220a1923",
      "metadata": {
        "id": "220a1923"
      },
      "outputs": [],
      "source": [
        "train_cache = '/content/drive/MyDrive/Colab Notebooks/KaggleProject/Cache/train2.pickle'\n",
        "train_labels_cache = '/content/drive/MyDrive/Colab Notebooks/KaggleProject/Cache/train-labels2.npy'\n",
        "validation_cache = '/content/drive/MyDrive/Colab Notebooks/KaggleProject/Cache/validation2.pickle'\n",
        "validation_labels_cache = '/content/drive/MyDrive/Colab Notebooks/KaggleProject/Cache/validation-labels2.npy'\n",
        "test_cache = '/content/drive/MyDrive/Colab Notebooks/KaggleProject/Cache/test2.pickle'\n",
        "test_labels_cache = '/content/drive/MyDrive/Colab Notebooks/KaggleProject/Cache/test-labels2.npy'\n",
        "competition_test_cache = '/content/drive/MyDrive/Colab Notebooks/KaggleProject/Cache/competition-test2.pickle'\n",
        "metadata_cache = '/content/drive/MyDrive/Colab Notebooks/KaggleProject/Cache/metadata2.pickle'\n",
        "\n",
        "train = pd.read_pickle(train_cache)\n",
        "validation = pd.read_pickle(validation_cache)\n",
        "test = pd.read_pickle(test_cache)\n",
        "\n",
        "train_labels = np.load(train_labels_cache)\n",
        "validation_labels = np.load(validation_labels_cache)\n",
        "test_labels = np.load(test_labels_cache)\n",
        "\n",
        "competition_test = pd.read_pickle(competition_test_cache)\n",
        "with open(metadata_cache, 'rb') as handle:\n",
        "    metadata = pickle.load(handle)"
      ]
    },
    {
      "cell_type": "code",
      "execution_count": 67,
      "id": "9b1f7e20",
      "metadata": {
        "id": "9b1f7e20"
      },
      "outputs": [],
      "source": [
        "def process_features(df):\n",
        "    return torch.tensor(df[['QUARTER_HOUR','DAY_OF_WEEK','WEEK_OF_YEAR','ORIGIN_CALL_ENCODED','TAXI_ID_ENCODED','ORIGIN_STAND_ENCODED',\n",
        "                           'dt_2014-08-14 00:00:00','dt_2014-09-30 00:00:00','dt_2014-10-06 00:00:00','dt_2014-11-01 00:00:00',\n",
        "                           'dt_2014-12-21 00:00:00']].values)"
      ]
    },
    {
      "cell_type": "code",
      "execution_count": 68,
      "id": "14432b0f",
      "metadata": {
        "id": "14432b0f"
      },
      "outputs": [],
      "source": [
        "#Two layers got 726\n",
        "#Three layers also 726\n",
        "#200 epochs for >=300, three layers 708: 65, 100, 40, 10, 1\n",
        "#88 epochs for 4 layers 679: 65, 160, 100, 50 15, 1\n",
        "# class MLP(nn.Module):\n",
        "#     def __init__(self):\n",
        "#         super(MLP, self).__init__()\n",
        "#         self.embed_quarter_hour = nn.Embedding(metadata['n_quarter_hours'], 10)\n",
        "#         self.embed_day_of_week = nn.Embedding(metadata['n_days_per_week'], 10)\n",
        "#         self.embed_week_of_year = nn.Embedding(metadata['n_weeks_per_year'],10)\n",
        "#         self.embed_client_ids = nn.Embedding(metadata['n_client_ids'],10)\n",
        "#         self.embed_taxi_ids = nn.Embedding(metadata['n_taxi_ids'],10)\n",
        "#         self.embed_stand_ids = nn.Embedding(metadata['n_stand_ids'],10)\n",
        "#         self.layer1 = nn.Sequential(\n",
        "#             nn.Dropout(0.2),\n",
        "#             nn.Linear(in_features=65, out_features=160),\n",
        "#             nn.ReLU()\n",
        "#         )\n",
        "#         self.layer2 = nn.Sequential(\n",
        "#             nn.Dropout(0.7),\n",
        "#             nn.Linear(in_features = 160, out_features = 100),\n",
        "#             nn.ReLU()\n",
        "#         )\n",
        "#         self.layer3 = nn.Sequential(\n",
        "#             nn.Dropout(0.7),\n",
        "#             nn.Linear(in_features = 100, out_features = 50),\n",
        "#             nn.ReLU()\n",
        "#         )\n",
        "#         self.layer4 = nn.Sequential(\n",
        "#             nn.Dropout(0.1),\n",
        "#             nn.Linear(50,15),\n",
        "#             nn.ReLU()\n",
        "#         )\n",
        "#         self.output_layer = nn.Linear(in_features=15, out_features=1)\n",
        "\n",
        "#     def forward(self, x):\n",
        "#         qhr = self.embed_quarter_hour(x[:,0].to(torch.int32))\n",
        "#         dow = self.embed_day_of_week(x[:,1].to(torch.int32))\n",
        "#         woy = self.embed_week_of_year(x[:,2].to(torch.int32))\n",
        "#         ci = self.embed_client_ids(x[:,3].to(torch.int32))\n",
        "#         ti = self.embed_taxi_ids(x[:,4].to(torch.int32))\n",
        "#         si =  self.embed_stand_ids(x[:,5].to(torch.int32))\n",
        "#         x = torch.cat([qhr,dow,woy,ci,ti,si,x[:,6:]],axis=1)\n",
        "#         x = x.to(torch.float32)\n",
        "#         x = self.layer1(x)\n",
        "#         x = self.layer2(x)\n",
        "#         x = self.layer3(x)\n",
        "#         x = self.layer4(x)\n",
        "#         x = self.output_layer(x)\n",
        "#         return x\n",
        "\n",
        "class TransformerModel(nn.Module):\n",
        "    def __init__(self, input_dim, hidden_dim, output_dim, n_layers, nhead, drop_prob=0.7):\n",
        "        super(TransformerModel, self).__init__()\n",
        "        \n",
        "        self.hidden_dim = hidden_dim\n",
        "        self.n_layers = n_layers\n",
        "\n",
        "        self.encoder = nn.Linear(input_dim, hidden_dim)\n",
        "        self.transformer = nn.TransformerEncoderLayer(d_model=hidden_dim, nhead=nhead)\n",
        "        self.transformer_encoder = nn.TransformerEncoder(self.transformer, num_layers=n_layers)\n",
        "        self.decoder = nn.Linear(hidden_dim, output_dim)\n",
        "\n",
        "    def forward(self, x):\n",
        "        x = self.encoder(x)\n",
        "        x = self.transformer_encoder(x)\n",
        "        x = self.decoder(x)\n",
        "        return x\n",
        "\n",
        "\n",
        "\n",
        "feature_size = 11  # your input feature size\n",
        "hidden_dim = 712  # hidden dimensions\n",
        "num_layers = 12  # number of transformer layers\n",
        "\n",
        "# model = MLP(train_set.shape[1])\n",
        "model = TransformerModel(input_dim=11, hidden_dim=hidden_dim, output_dim=1, n_layers=num_layers, nhead=2)\n",
        "\n",
        "\n",
        "# Ensure the model is on the correct device and in the correct dtype\n",
        "model = model.to(device).float()"
      ]
    },
    {
      "cell_type": "code",
      "execution_count": 69,
      "id": "5960ba7b",
      "metadata": {
        "id": "5960ba7b"
      },
      "outputs": [],
      "source": [
        "import torch.optim as optim\n",
        "learning_rate = 0.0001\n",
        "criterion = nn.MSELoss()\n",
        "num_epochs = 10\n",
        "BATCH_SIZE = 40"
      ]
    },
    {
      "cell_type": "code",
      "execution_count": 70,
      "id": "4ae8513b",
      "metadata": {
        "id": "4ae8513b"
      },
      "outputs": [],
      "source": [
        "x=process_features(train)\n",
        "x.shape\n",
        "train_data = process_features(train)\n",
        "train_data = TensorDataset(train_data.float(), torch.tensor(train_labels).float())\n",
        "\n",
        "validate_data = process_features(validation)\n",
        "validate_data = TensorDataset(validate_data.float(), torch.tensor(validation_labels).float())\n",
        "\n",
        "train_loader = DataLoader(train_data, batch_size=BATCH_SIZE, shuffle=True)\n",
        "val_loader = DataLoader(validate_data, batch_size = BATCH_SIZE,shuffle=True)\n",
        "device = torch.device('cuda' if torch.cuda.is_available() else \"cpu\")\n",
        "all_losses = []\n",
        "train_loss = []\n",
        "validation_losses = []"
      ]
    },
    {
      "cell_type": "code",
      "execution_count": 71,
      "id": "e3a6175a",
      "metadata": {
        "scrolled": false,
        "id": "e3a6175a"
      },
      "outputs": [],
      "source": [
        "# model = MLP()\n",
        "# model = model.to(device)"
      ]
    },
    {
      "cell_type": "code",
      "execution_count": 72,
      "id": "e5c8cb98",
      "metadata": {
        "id": "e5c8cb98",
        "colab": {
          "base_uri": "https://localhost:8080/"
        },
        "outputId": "3d8905af-5136-43de-f70e-a685075114f7"
      },
      "outputs": [
        {
          "output_type": "stream",
          "name": "stdout",
          "text": [
            "64392849\n"
          ]
        }
      ],
      "source": [
        "num_params = sum(param.numel() for param in model.parameters())\n",
        "print(num_params)"
      ]
    },
    {
      "cell_type": "code",
      "execution_count": 73,
      "id": "3e279bcf",
      "metadata": {
        "id": "3e279bcf"
      },
      "outputs": [],
      "source": [
        "# for name, module in model.named_modules():\n",
        "#      print(name, sum(param.numel() for param in module.parameters()))"
      ]
    },
    {
      "cell_type": "code",
      "execution_count": 74,
      "id": "9686c0c7",
      "metadata": {
        "id": "9686c0c7"
      },
      "outputs": [],
      "source": [
        "def validate(model, val_loader, criterion):\n",
        "    model.eval()  # Set the model to evaluation mode\n",
        "    total_loss = 0.0\n",
        "    num_samples = 0\n",
        "\n",
        "    with torch.no_grad():  # Disable gradient calculation\n",
        "        for inputs, labels in val_loader:\n",
        "            inputs = inputs.to(device)\n",
        "            labels = labels.to(device)\n",
        "\n",
        "            outputs = model(inputs)\n",
        "            loss = criterion(outputs, labels)\n",
        "            total_loss += loss.item() * inputs.size(0)\n",
        "            num_samples += inputs.size(0)\n",
        "\n",
        "    average_loss = total_loss / num_samples\n",
        "    return average_loss\n"
      ]
    },
    {
      "cell_type": "code",
      "execution_count": 75,
      "id": "9399e4b2",
      "metadata": {
        "id": "9399e4b2"
      },
      "outputs": [],
      "source": [
        "def train_data(model, train_loader, val_loader, criterion, num_epochs):\n",
        "    optimizer = torch.optim.Adam(model.parameters(),lr = 0.0001, weight_decay = 1e-5, )\n",
        "    for epoch in range(num_epochs):\n",
        "        # Training Phase \n",
        "        model.train()\n",
        "        epoch_loss = 0\n",
        "        for i,(x, y) in enumerate(train_loader,0):\n",
        "            x = x.to(device)\n",
        "            y = y.to(device).to(torch.float32)\n",
        "            y = torch.reshape(y,(-1,1))\n",
        "            optimizer.zero_grad()\n",
        "            output = model(x)\n",
        "            loss = torch.sqrt(criterion(output, y))#RMSE\n",
        "            epoch_loss += loss.item()\n",
        "            loss.backward()\n",
        "            optimizer.step()\n",
        "        all_losses.append(epoch_loss/len(train_loader))\n",
        "        print(f\"Epoch: {epoch} Training Loss:{epoch_loss/len(train_loader)}\")\n",
        "\n",
        "        # Validation Phase\n",
        "        model.eval()\n",
        "        with torch.no_grad():\n",
        "            val_loss = 0\n",
        "            for x_val, y_val in val_loader:\n",
        "                x_val = x_val.to(device)\n",
        "                y_val = y_val.to(device)\n",
        "                y_val = torch.reshape(y_val,(-1,1))\n",
        "                preds = model(x_val)\n",
        "                val_loss += torch.sqrt(criterion(preds, y_val)).item() # RMSE\n",
        "        validation_losses.append(val_loss/len(val_loader))\n",
        "        print(f\"Epoch: {epoch} Validation Loss:{val_loss/len(val_loader)}\")\n",
        "        PATH = f'/content/drive/MyDrive/Colab Notebooks/KaggleProject/model_state/model_moreunit_epoch{epoch}.pth'     \n",
        "        torch.save(model.state_dict(), PATH)"
      ]
    },
    {
      "cell_type": "code",
      "execution_count": 76,
      "id": "26ee7c57",
      "metadata": {
        "id": "26ee7c57"
      },
      "outputs": [],
      "source": [
        "# model.load_state_dict(torch.load('/content/drive/MyDrive/Colab Notebooks/KaggleProject/model_state/model_epoch199.pth'))"
      ]
    },
    {
      "cell_type": "code",
      "execution_count": 77,
      "id": "294a2cd6",
      "metadata": {
        "scrolled": true,
        "id": "294a2cd6",
        "colab": {
          "base_uri": "https://localhost:8080/"
        },
        "outputId": "b2fb7041-485b-464e-ba5d-3e058e43ced6"
      },
      "outputs": [
        {
          "output_type": "stream",
          "name": "stdout",
          "text": [
            "Epoch: 0 Training Loss:740.4027807674006\n",
            "Epoch: 0 Validation Loss:608.1773252941314\n",
            "Epoch: 1 Training Loss:621.2361824805687\n",
            "Epoch: 1 Validation Loss:609.5297593616303\n",
            "Epoch: 2 Training Loss:621.0891735295581\n",
            "Epoch: 2 Validation Loss:612.1915025256928\n",
            "Epoch: 3 Training Loss:621.6627792552778\n",
            "Epoch: 3 Validation Loss:605.2700998215448\n",
            "Epoch: 4 Training Loss:620.6950644848687\n",
            "Epoch: 4 Validation Loss:608.4588975452241\n",
            "Epoch: 5 Training Loss:621.4889189044031\n",
            "Epoch: 5 Validation Loss:603.9302317301432\n",
            "Epoch: 6 Training Loss:621.3363806011045\n",
            "Epoch: 6 Validation Loss:623.4235447474888\n",
            "Epoch: 7 Training Loss:620.5991566390281\n",
            "Epoch: 7 Validation Loss:608.7808903285435\n",
            "Epoch: 8 Training Loss:620.8880783821191\n",
            "Epoch: 8 Validation Loss:611.5582972935268\n",
            "Epoch: 9 Training Loss:620.6954454854679\n",
            "Epoch: 9 Validation Loss:610.7833706083752\n",
            "Epoch: 10 Training Loss:621.5692887836551\n",
            "Epoch: 10 Validation Loss:608.3072538829986\n",
            "Epoch: 11 Training Loss:621.1126937081217\n",
            "Epoch: 11 Validation Loss:613.9329441615513\n"
          ]
        },
        {
          "output_type": "stream",
          "name": "stderr",
          "text": [
            "/usr/local/lib/python3.10/dist-packages/torch/nn/modules/loss.py:536: UserWarning: Using a target size (torch.Size([40])) that is different to the input size (torch.Size([40, 1])). This will likely lead to incorrect results due to broadcasting. Please ensure they have the same size.\n",
            "  return F.mse_loss(input, target, reduction=self.reduction)\n",
            "/usr/local/lib/python3.10/dist-packages/torch/nn/modules/loss.py:536: UserWarning: Using a target size (torch.Size([12])) that is different to the input size (torch.Size([12, 1])). This will likely lead to incorrect results due to broadcasting. Please ensure they have the same size.\n",
            "  return F.mse_loss(input, target, reduction=self.reduction)\n"
          ]
        }
      ],
      "source": [
        "num_epochs = 12\n",
        "train_data(model, train_loader, val_loader, criterion, num_epochs=num_epochs) # use the training function you defined\n",
        "val_loss = validate(model, val_loader, criterion)"
      ]
    },
    {
      "cell_type": "code",
      "execution_count": 78,
      "id": "a69baea2",
      "metadata": {
        "id": "a69baea2",
        "colab": {
          "base_uri": "https://localhost:8080/",
          "height": 448
        },
        "outputId": "3b86b2e2-1d5a-44fd-83ca-76e742ea9b3a"
      },
      "outputs": [
        {
          "output_type": "execute_result",
          "data": {
            "text/plain": [
              "[<matplotlib.lines.Line2D at 0x7ff187b19720>]"
            ]
          },
          "metadata": {},
          "execution_count": 78
        },
        {
          "output_type": "display_data",
          "data": {
            "text/plain": [
              "<Figure size 640x480 with 1 Axes>"
            ],
            "image/png": "[encoded data removed]"
          },
          "metadata": {}
        }
      ],
      "source": [
        "import matplotlib.pyplot as plt\n",
        "plt.figure()\n",
        "plt.plot(torch.Tensor.cpu(torch.tensor(all_losses)))"
      ]
    },
    {
      "cell_type": "code",
      "execution_count": 79,
      "id": "d1e4947c",
      "metadata": {
        "id": "d1e4947c",
        "colab": {
          "base_uri": "https://localhost:8080/",
          "height": 448
        },
        "outputId": "2d522a3d-67e8-4d9c-c899-1ec0cb70c3d0"
      },
      "outputs": [
        {
          "output_type": "execute_result",
          "data": {
            "text/plain": [
              "[<matplotlib.lines.Line2D at 0x7ff187a1e770>]"
            ]
          },
          "metadata": {},
          "execution_count": 79
        },
        {
          "output_type": "display_data",
          "data": {
            "text/plain": [
              "<Figure size 640x480 with 1 Axes>"
            ],
            "image/png": "[encoded data removed]"
          },
          "metadata": {}
        }
      ],
      "source": [
        "plt.figure()\n",
        "plt.plot(torch.Tensor.cpu(torch.tensor(validation_losses)))"
      ]
    },
    {
      "cell_type": "code",
      "execution_count": 80,
      "id": "79010bcb",
      "metadata": {
        "id": "79010bcb"
      },
      "outputs": [],
      "source": [
        "def view_loss(model, test_set, test_label,criterion):\n",
        "    total_loss=0\n",
        "    test_dataset = TensorDataset(test_set, test_label)\n",
        "    test_loader = DataLoader(test_dataset, batch_size=BATCH_SIZE, shuffle=True)\n",
        "    for x, y in test_loader:\n",
        "        x = x.to(device)\n",
        "        y = y.to(device)\n",
        "        y = torch.reshape(y,(-1,1))\n",
        "        output = model(x)\n",
        "        loss = torch.sqrt(criterion(output, y))#RMSE\n",
        "        total_loss += loss\n",
        "    return total_loss"
      ]
    },
    {
      "cell_type": "code",
      "execution_count": 81,
      "id": "e66fcbc2",
      "metadata": {
        "id": "e66fcbc2"
      },
      "outputs": [],
      "source": [
        "# test_losses = []\n",
        "# for i in range(100):\n",
        "#     model.load_state_dict(torch.load(f'/content/drive/MyDrive/Colab Notebooks/KaggleProject/model_state/model_moreunit_epoch{i}.pth'))\n",
        "#     test_losses.append(view_loss(model,process_features(test),torch.tensor(test_labels).to(torch.float32),criterion)/process_features(test).shape[0]*128)\n",
        "#     print(f\"epoch: {i}, test loss: {view_loss(model, process_features(test), torch.tensor(test_labels).to(torch.float32), criterion)/process_features(test).shape[0]*128}\")\n",
        "\n",
        "\n",
        "# min(test_losses)\n",
        "# plt.figure()\n",
        "# plt.plot(torch.Tensor.cpu(torch.tensor(test_losses)))"
      ]
    },
    {
      "cell_type": "code",
      "execution_count": 82,
      "id": "d33731e5",
      "metadata": {
        "id": "d33731e5"
      },
      "outputs": [],
      "source": [
        "# print(model)"
      ]
    },
    {
      "cell_type": "code",
      "execution_count": 83,
      "id": "f43b33b1",
      "metadata": {
        "id": "f43b33b1"
      },
      "outputs": [],
      "source": [
        "# model.load_state_dict(torch.load('/content/drive/MyDrive/Colab Notebooks/KaggleProject/model_state/model_moreunit_epoch90.pth'))"
      ]
    },
    {
      "cell_type": "code",
      "execution_count": 84,
      "id": "07150e03",
      "metadata": {
        "scrolled": true,
        "id": "07150e03",
        "colab": {
          "base_uri": "https://localhost:8080/"
        },
        "outputId": "c736c84f-6fea-48e2-f6d9-cc92145a2b47"
      },
      "outputs": [
        {
          "output_type": "stream",
          "name": "stdout",
          "text": [
            "torch.Size([320, 11])\n"
          ]
        },
        {
          "output_type": "stream",
          "name": "stderr",
          "text": [
            "<ipython-input-84-3f526b00d585>:1: UserWarning: To copy construct from a tensor, it is recommended to use sourceTensor.clone().detach() or sourceTensor.clone().detach().requires_grad_(True), rather than torch.tensor(sourceTensor).\n",
            "  predict_input = torch.tensor(process_features(competition_test)).to(device)\n"
          ]
        }
      ],
      "source": [
        "predict_input = torch.tensor(process_features(competition_test)).to(device)\n",
        "predict_input = predict_input.to(torch.float32)\n",
        "\n",
        "print(predict_input.shape)\n",
        "\n",
        "def predict(model):\n",
        "    predict_output = model(predict_input)\n",
        "    return predict_output\n",
        "out = predict(model)"
      ]
    },
    {
      "cell_type": "code",
      "execution_count": 85,
      "id": "c91364a2",
      "metadata": {
        "id": "c91364a2",
        "colab": {
          "base_uri": "https://localhost:8080/",
          "height": 1000
        },
        "outputId": "544ad4ab-1efc-430b-f0ad-c956a74a48f2"
      },
      "outputs": [
        {
          "output_type": "execute_result",
          "data": {
            "text/plain": [
              "   TRIP_ID  TRAVEL_TIME\n",
              "0       T1   843.004395\n",
              "1       T2   843.004395\n",
              "2       T3   843.004272\n",
              "3       T4   843.004272\n",
              "4       T5   843.004272\n",
              "5       T6   843.004333\n",
              "6       T7   843.004333\n",
              "7       T8   843.004272\n",
              "8       T9   843.004333\n",
              "9      T10   843.004395\n",
              "10     T11   843.004395\n",
              "11     T12   843.004395\n",
              "12     T13   843.004395\n",
              "13     T14   843.004272\n",
              "14     T15   843.004272\n",
              "15     T16   843.004272\n",
              "16     T17   843.004272\n",
              "17     T18   843.004333\n",
              "18     T19   843.004272\n",
              "19     T20   843.004395\n",
              "20     T21   843.004333\n",
              "21     T22   843.004395\n",
              "22     T23   843.004272\n",
              "23     T24   843.004272\n",
              "24     T25   843.004333\n",
              "25     T26   843.004272\n",
              "26     T27   843.004333\n",
              "27     T28   843.004272\n",
              "28     T29   843.004272\n",
              "29     T30   843.004272\n",
              "30     T31   843.004272\n",
              "31     T32   843.004272\n",
              "32     T33   843.004333\n",
              "33     T34   843.004272\n",
              "34     T35   843.004333\n",
              "35     T36   843.004395\n",
              "36     T37   843.004395\n",
              "37     T38   843.004272\n",
              "38     T39   843.004272\n",
              "39     T40   843.004272\n",
              "40     T41   843.004333\n",
              "41     T42   843.004333\n",
              "42     T43   843.004272\n",
              "43     T44   843.004395\n",
              "44     T45   843.004272\n",
              "45     T46   843.004272\n",
              "46     T47   843.004333\n",
              "47     T48   843.004272\n",
              "48     T49   843.004333\n",
              "49     T50   843.004333"
            ],
            "text/html": [
              "\n",
              "  <div id=\"df-dcbc6acf-8614-46aa-a627-2827eef1ef3e\">\n",
              "    <div class=\"colab-df-container\">\n",
              "      <div>\n",
              "<style scoped>\n",
              "    .dataframe tbody tr th:only-of-type {\n",
              "        vertical-align: middle;\n",
              "    }\n",
              "\n",
              "    .dataframe tbody tr th {\n",
              "        vertical-align: top;\n",
              "    }\n",
              "\n",
              "    .dataframe thead th {\n",
              "        text-align: right;\n",
              "    }\n",
              "</style>\n",
              "<table border=\"1\" class=\"dataframe\">\n",
              "  <thead>\n",
              "    <tr style=\"text-align: right;\">\n",
              "      <th></th>\n",
              "      <th>TRIP_ID</th>\n",
              "      <th>TRAVEL_TIME</th>\n",
              "    </tr>\n",
              "  </thead>\n",
              "  <tbody>\n",
              "    <tr>\n",
              "      <th>0</th>\n",
              "      <td>T1</td>\n",
              "      <td>843.004395</td>\n",
              "    </tr>\n",
              "    <tr>\n",
              "      <th>1</th>\n",
              "      <td>T2</td>\n",
              "      <td>843.004395</td>\n",
              "    </tr>\n",
              "    <tr>\n",
              "      <th>2</th>\n",
              "      <td>T3</td>\n",
              "      <td>843.004272</td>\n",
              "    </tr>\n",
              "    <tr>\n",
              "      <th>3</th>\n",
              "      <td>T4</td>\n",
              "      <td>843.004272</td>\n",
              "    </tr>\n",
              "    <tr>\n",
              "      <th>4</th>\n",
              "      <td>T5</td>\n",
              "      <td>843.004272</td>\n",
              "    </tr>\n",
              "    <tr>\n",
              "      <th>5</th>\n",
              "      <td>T6</td>\n",
              "      <td>843.004333</td>\n",
              "    </tr>\n",
              "    <tr>\n",
              "      <th>6</th>\n",
              "      <td>T7</td>\n",
              "      <td>843.004333</td>\n",
              "    </tr>\n",
              "    <tr>\n",
              "      <th>7</th>\n",
              "      <td>T8</td>\n",
              "      <td>843.004272</td>\n",
              "    </tr>\n",
              "    <tr>\n",
              "      <th>8</th>\n",
              "      <td>T9</td>\n",
              "      <td>843.004333</td>\n",
              "    </tr>\n",
              "    <tr>\n",
              "      <th>9</th>\n",
              "      <td>T10</td>\n",
              "      <td>843.004395</td>\n",
              "    </tr>\n",
              "    <tr>\n",
              "      <th>10</th>\n",
              "      <td>T11</td>\n",
              "      <td>843.004395</td>\n",
              "    </tr>\n",
              "    <tr>\n",
              "      <th>11</th>\n",
              "      <td>T12</td>\n",
              "      <td>843.004395</td>\n",
              "    </tr>\n",
              "    <tr>\n",
              "      <th>12</th>\n",
              "      <td>T13</td>\n",
              "      <td>843.004395</td>\n",
              "    </tr>\n",
              "    <tr>\n",
              "      <th>13</th>\n",
              "      <td>T14</td>\n",
              "      <td>843.004272</td>\n",
              "    </tr>\n",
              "    <tr>\n",
              "      <th>14</th>\n",
              "      <td>T15</td>\n",
              "      <td>843.004272</td>\n",
              "    </tr>\n",
              "    <tr>\n",
              "      <th>15</th>\n",
              "      <td>T16</td>\n",
              "      <td>843.004272</td>\n",
              "    </tr>\n",
              "    <tr>\n",
              "      <th>16</th>\n",
              "      <td>T17</td>\n",
              "      <td>843.004272</td>\n",
              "    </tr>\n",
              "    <tr>\n",
              "      <th>17</th>\n",
              "      <td>T18</td>\n",
              "      <td>843.004333</td>\n",
              "    </tr>\n",
              "    <tr>\n",
              "      <th>18</th>\n",
              "      <td>T19</td>\n",
              "      <td>843.004272</td>\n",
              "    </tr>\n",
              "    <tr>\n",
              "      <th>19</th>\n",
              "      <td>T20</td>\n",
              "      <td>843.004395</td>\n",
              "    </tr>\n",
              "    <tr>\n",
              "      <th>20</th>\n",
              "      <td>T21</td>\n",
              "      <td>843.004333</td>\n",
              "    </tr>\n",
              "    <tr>\n",
              "      <th>21</th>\n",
              "      <td>T22</td>\n",
              "      <td>843.004395</td>\n",
              "    </tr>\n",
              "    <tr>\n",
              "      <th>22</th>\n",
              "      <td>T23</td>\n",
              "      <td>843.004272</td>\n",
              "    </tr>\n",
              "    <tr>\n",
              "      <th>23</th>\n",
              "      <td>T24</td>\n",
              "      <td>843.004272</td>\n",
              "    </tr>\n",
              "    <tr>\n",
              "      <th>24</th>\n",
              "      <td>T25</td>\n",
              "      <td>843.004333</td>\n",
              "    </tr>\n",
              "    <tr>\n",
              "      <th>25</th>\n",
              "      <td>T26</td>\n",
              "      <td>843.004272</td>\n",
              "    </tr>\n",
              "    <tr>\n",
              "      <th>26</th>\n",
              "      <td>T27</td>\n",
              "      <td>843.004333</td>\n",
              "    </tr>\n",
              "    <tr>\n",
              "      <th>27</th>\n",
              "      <td>T28</td>\n",
              "      <td>843.004272</td>\n",
              "    </tr>\n",
              "    <tr>\n",
              "      <th>28</th>\n",
              "      <td>T29</td>\n",
              "      <td>843.004272</td>\n",
              "    </tr>\n",
              "    <tr>\n",
              "      <th>29</th>\n",
              "      <td>T30</td>\n",
              "      <td>843.004272</td>\n",
              "    </tr>\n",
              "    <tr>\n",
              "      <th>30</th>\n",
              "      <td>T31</td>\n",
              "      <td>843.004272</td>\n",
              "    </tr>\n",
              "    <tr>\n",
              "      <th>31</th>\n",
              "      <td>T32</td>\n",
              "      <td>843.004272</td>\n",
              "    </tr>\n",
              "    <tr>\n",
              "      <th>32</th>\n",
              "      <td>T33</td>\n",
              "      <td>843.004333</td>\n",
              "    </tr>\n",
              "    <tr>\n",
              "      <th>33</th>\n",
              "      <td>T34</td>\n",
              "      <td>843.004272</td>\n",
              "    </tr>\n",
              "    <tr>\n",
              "      <th>34</th>\n",
              "      <td>T35</td>\n",
              "      <td>843.004333</td>\n",
              "    </tr>\n",
              "    <tr>\n",
              "      <th>35</th>\n",
              "      <td>T36</td>\n",
              "      <td>843.004395</td>\n",
              "    </tr>\n",
              "    <tr>\n",
              "      <th>36</th>\n",
              "      <td>T37</td>\n",
              "      <td>843.004395</td>\n",
              "    </tr>\n",
              "    <tr>\n",
              "      <th>37</th>\n",
              "      <td>T38</td>\n",
              "      <td>843.004272</td>\n",
              "    </tr>\n",
              "    <tr>\n",
              "      <th>38</th>\n",
              "      <td>T39</td>\n",
              "      <td>843.004272</td>\n",
              "    </tr>\n",
              "    <tr>\n",
              "      <th>39</th>\n",
              "      <td>T40</td>\n",
              "      <td>843.004272</td>\n",
              "    </tr>\n",
              "    <tr>\n",
              "      <th>40</th>\n",
              "      <td>T41</td>\n",
              "      <td>843.004333</td>\n",
              "    </tr>\n",
              "    <tr>\n",
              "      <th>41</th>\n",
              "      <td>T42</td>\n",
              "      <td>843.004333</td>\n",
              "    </tr>\n",
              "    <tr>\n",
              "      <th>42</th>\n",
              "      <td>T43</td>\n",
              "      <td>843.004272</td>\n",
              "    </tr>\n",
              "    <tr>\n",
              "      <th>43</th>\n",
              "      <td>T44</td>\n",
              "      <td>843.004395</td>\n",
              "    </tr>\n",
              "    <tr>\n",
              "      <th>44</th>\n",
              "      <td>T45</td>\n",
              "      <td>843.004272</td>\n",
              "    </tr>\n",
              "    <tr>\n",
              "      <th>45</th>\n",
              "      <td>T46</td>\n",
              "      <td>843.004272</td>\n",
              "    </tr>\n",
              "    <tr>\n",
              "      <th>46</th>\n",
              "      <td>T47</td>\n",
              "      <td>843.004333</td>\n",
              "    </tr>\n",
              "    <tr>\n",
              "      <th>47</th>\n",
              "      <td>T48</td>\n",
              "      <td>843.004272</td>\n",
              "    </tr>\n",
              "    <tr>\n",
              "      <th>48</th>\n",
              "      <td>T49</td>\n",
              "      <td>843.004333</td>\n",
              "    </tr>\n",
              "    <tr>\n",
              "      <th>49</th>\n",
              "      <td>T50</td>\n",
              "      <td>843.004333</td>\n",
              "    </tr>\n",
              "  </tbody>\n",
              "</table>\n",
              "</div>\n",
              "      <button class=\"colab-df-convert\" onclick=\"convertToInteractive('df-dcbc6acf-8614-46aa-a627-2827eef1ef3e')\"\n",
              "              title=\"Convert this dataframe to an interactive table.\"\n",
              "              style=\"display:none;\">\n",
              "        \n",
              "  <svg xmlns=\"http://www.w3.org/2000/svg\" height=\"24px\"viewBox=\"0 0 24 24\"\n",
              "       width=\"24px\">\n",
              "    <path d=\"M0 0h24v24H0V0z\" fill=\"none\"/>\n",
              "    <path d=\"M18.56 5.44l.94 2.06.94-2.06 2.06-.94-2.06-.94-.94-2.06-.94 2.06-2.06.94zm-11 1L8.5 8.5l.94-2.06 2.06-.94-2.06-.94L8.5 2.5l-.94 2.06-2.06.94zm10 10l.94 2.06.94-2.06 2.06-.94-2.06-.94-.94-2.06-.94 2.06-2.06.94z\"/><path d=\"M17.41 7.96l-1.37-1.37c-.4-.4-.92-.59-1.43-.59-.52 0-1.04.2-1.43.59L10.3 9.45l-7.72 7.72c-.78.78-.78 2.05 0 2.83L4 21.41c.39.39.9.59 1.41.59.51 0 1.02-.2 1.41-.59l7.78-7.78 2.81-2.81c.8-.78.8-2.07 0-2.86zM5.41 20L4 18.59l7.72-7.72 1.47 1.35L5.41 20z\"/>\n",
              "  </svg>\n",
              "      </button>\n",
              "      \n",
              "  <style>\n",
              "    .colab-df-container {\n",
              "      display:flex;\n",
              "      flex-wrap:wrap;\n",
              "      gap: 12px;\n",
              "    }\n",
              "\n",
              "    .colab-df-convert {\n",
              "      background-color: #E8F0FE;\n",
              "      border: none;\n",
              "      border-radius: 50%;\n",
              "      cursor: pointer;\n",
              "      display: none;\n",
              "      fill: #1967D2;\n",
              "      height: 32px;\n",
              "      padding: 0 0 0 0;\n",
              "      width: 32px;\n",
              "    }\n",
              "\n",
              "    .colab-df-convert:hover {\n",
              "      background-color: #E2EBFA;\n",
              "      box-shadow: 0px 1px 2px rgba(60, 64, 67, 0.3), 0px 1px 3px 1px rgba(60, 64, 67, 0.15);\n",
              "      fill: #174EA6;\n",
              "    }\n",
              "\n",
              "    [theme=dark] .colab-df-convert {\n",
              "      background-color: #3B4455;\n",
              "      fill: #D2E3FC;\n",
              "    }\n",
              "\n",
              "    [theme=dark] .colab-df-convert:hover {\n",
              "      background-color: #434B5C;\n",
              "      box-shadow: 0px 1px 3px 1px rgba(0, 0, 0, 0.15);\n",
              "      filter: drop-shadow(0px 1px 2px rgba(0, 0, 0, 0.3));\n",
              "      fill: #FFFFFF;\n",
              "    }\n",
              "  </style>\n",
              "\n",
              "      <script>\n",
              "        const buttonEl =\n",
              "          document.querySelector('#df-dcbc6acf-8614-46aa-a627-2827eef1ef3e button.colab-df-convert');\n",
              "        buttonEl.style.display =\n",
              "          google.colab.kernel.accessAllowed ? 'block' : 'none';\n",
              "\n",
              "        async function convertToInteractive(key) {\n",
              "          const element = document.querySelector('#df-dcbc6acf-8614-46aa-a627-2827eef1ef3e');\n",
              "          const dataTable =\n",
              "            await google.colab.kernel.invokeFunction('convertToInteractive',\n",
              "                                                     [key], {});\n",
              "          if (!dataTable) return;\n",
              "\n",
              "          const docLinkHtml = 'Like what you see? Visit the ' +\n",
              "            '<a target=\"_blank\" href=https://colab.research.google.com/notebooks/data_table.ipynb>data table notebook</a>'\n",
              "            + ' to learn more about interactive tables.';\n",
              "          element.innerHTML = '';\n",
              "          dataTable['output_type'] = 'display_data';\n",
              "          await google.colab.output.renderOutput(dataTable, element);\n",
              "          const docLink = document.createElement('div');\n",
              "          docLink.innerHTML = docLinkHtml;\n",
              "          element.appendChild(docLink);\n",
              "        }\n",
              "      </script>\n",
              "    </div>\n",
              "  </div>\n",
              "  "
            ]
          },
          "metadata": {},
          "execution_count": 85
        }
      ],
      "source": [
        "embed_mlp_predict = pd.read_csv('/content/drive/MyDrive/Colab Notebooks/KaggleProject/Code/test_public.csv')\n",
        "embed_mlp_predict = embed_mlp_predict['TRIP_ID']\n",
        "predict_tensor = out.to('cpu').detach().numpy().flatten()\n",
        "embed_mlp_predict= pd.concat([embed_mlp_predict, pd.DataFrame(predict_tensor)], axis=1)\n",
        "embed_mlp_predict = embed_mlp_predict.rename(columns={0: 'TRAVEL_TIME'})\n",
        "embed_mlp_predict[0:50]"
      ]
    },
    {
      "cell_type": "code",
      "execution_count": 86,
      "id": "8bf67f42",
      "metadata": {
        "id": "8bf67f42",
        "colab": {
          "base_uri": "https://localhost:8080/"
        },
        "outputId": "8c78fbab-02fa-4d4a-898b-08543e9693c6"
      },
      "outputs": [
        {
          "output_type": "execute_result",
          "data": {
            "text/plain": [
              "843.0043"
            ]
          },
          "metadata": {},
          "execution_count": 86
        }
      ],
      "source": [
        "embed_mlp_predict['TRAVEL_TIME'].mean()"
      ]
    },
    {
      "cell_type": "code",
      "execution_count": 87,
      "id": "5218f324",
      "metadata": {
        "id": "5218f324"
      },
      "outputs": [],
      "source": [
        "# embed_mlp_predict.to_csv('Embedding_MLP_moreunit_89.csv', index=False)\n",
        "embed_mlp_predict.to_csv('transformer_truncated.csv', index=False)"
      ]
    },
    {
      "cell_type": "code",
      "execution_count": 87,
      "id": "b6db9824",
      "metadata": {
        "id": "b6db9824"
      },
      "outputs": [],
      "source": []
    },
    {
      "cell_type": "code",
      "execution_count": 88,
      "id": "857b9716",
      "metadata": {
        "id": "857b9716",
        "colab": {
          "base_uri": "https://localhost:8080/"
        },
        "outputId": "55e797ac-fbbd-4cbb-eb17-348a9c0b62aa"
      },
      "outputs": [
        {
          "output_type": "stream",
          "name": "stdout",
          "text": [
            "tensor([70., 72., 79.,  ..., 37., 34., 35.], dtype=torch.float64)\n",
            "tensor([-0.5682, -0.7456, -1.6795, -0.9134, -0.0373,  0.9635, -0.4594, -0.2946,\n",
            "         1.2522,  1.2046], grad_fn=<EmbeddingBackward0>)\n"
          ]
        }
      ],
      "source": [
        "a = process_features(train)\n",
        "print(a[:,0])\n",
        "embedding1 = torch.nn.Embedding(96, 10)\n",
        "# embedding2 = torch.nn.Embedding()\n",
        "print(embedding1(a[0,0].to(torch.int32)))"
      ]
    }
  ],
  "metadata": {
    "kernelspec": {
      "display_name": "Python 3 (clean)",
      "language": "python",
      "name": "python3_clean"
    },
    "language_info": {
      "codemirror_mode": {
        "name": "ipython",
        "version": 3
      },
      "file_extension": ".py",
      "mimetype": "text/x-python",
      "name": "python",
      "nbconvert_exporter": "python",
      "pygments_lexer": "ipython3",
      "version": "3.9.5"
    },
    "colab": {
      "provenance": [],
      "machine_shape": "hm",
      "gpuType": "T4"
    },
    "accelerator": "GPU"
  },
  "nbformat": 4,
  "nbformat_minor": 5
}