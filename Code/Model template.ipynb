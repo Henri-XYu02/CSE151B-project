{
 "cells": [
  {
   "cell_type": "code",
   "execution_count": null,
   "id": "7608cca6",
   "metadata": {},
   "outputs": [],
   "source": [
    "import matplotlib.pyplot as plt\n",
    "import pandas as pd\n",
    "import numpy as np\n",
    "import torch\n",
    "from torch import nn\n",
    "import torch.nn as nn\n",
    "import torch.nn.functional as F"
   ]
  },
  {
   "cell_type": "code",
   "execution_count": null,
   "id": "821145ff",
   "metadata": {},
   "outputs": [],
   "source": [
    "device = torch.device('cuda' if torch.cuda.is_available else 'cpu')"
   ]
  },
  {
   "cell_type": "code",
   "execution_count": null,
   "id": "218a9ebb",
   "metadata": {},
   "outputs": [],
   "source": [
    "train_features=torch.load('train_features.pt')\n",
    "train_labels=torch.load('train_labels.pt')"
   ]
  },
  {
   "cell_type": "code",
   "execution_count": null,
   "id": "5a08105c",
   "metadata": {},
   "outputs": [],
   "source": [
    "train = torch.cat([train_features, train_labels.reshape(-1,1)],1)\n",
    "print(train.shape)\n",
    "train = train[torch.randperm(train.size(0))] #shuffling dataset, parameter down need to be updated\n",
    "train_set = train[0:train.shape[0]*0.9,                            0:train.shape[1]-1]\n",
    "train_label = train[0:train.shape[0]*0.9,                          train.shape[1]-1]\n",
    "validation_set = train[train.shape[0]*0.9:train.shape[0]*0.95,     0:train.shape[1]-1]\n",
    "validation_label = train[train.shape[0]*0.9:train.shape[0]*0.95,   train.shape[1]-1]\n",
    "test_set = train[train.shape[0]*0.95:train.shape[0],               0:train.shape[1]-1]\n",
    "test_label = train[train.shape[0]*0.95:train.shape[0],             train.shape[1]-1]"
   ]
  },
  {
   "cell_type": "code",
   "execution_count": null,
   "id": "fd80065b",
   "metadata": {},
   "outputs": [],
   "source": [
    "#You may save them if you want\n",
    "torch.save(train_set,'train_set.pt')\n",
    "torch.save(train_label,'train_label.pt')\n",
    "torch.save(validation_set,'validation_set.pt')\n",
    "torch.save(validation_label,'validation_label.pt')\n",
    "torch.save(test_set,'test_set.pt')\n",
    "torch.save(test_label,'test_label.pt')\n",
    "del train_features\n",
    "del train_labels"
   ]
  },
  {
   "cell_type": "code",
   "execution_count": null,
   "id": "10c3fd7c",
   "metadata": {},
   "outputs": [],
   "source": [
    "#I implement a MLP first, it is actually a Linear Regression\n",
    "import torch.nn as nn\n",
    "import torch.nn.functional as F\n",
    "\n",
    "\n",
    "class MLP(nn.Module):\n",
    "    def __init__(self, input_features):\n",
    "        super(MLP, self).__init__()\n",
    "        self.layer1 = nn.Sequential(\n",
    "            nn.Linear(in_features=input_features,out_features=1)\n",
    "        )\n",
    "        \n",
    "\n",
    "    def forward(self, x):\n",
    "        x=self.layer1(x)\n",
    "        return x\n",
    "\n",
    "model = MLP(train_set.shape[1])\n",
    "model = model.to(device)"
   ]
  },
  {
   "cell_type": "code",
   "execution_count": null,
   "id": "b2ed2308",
   "metadata": {},
   "outputs": [],
   "source": [
    "class RMSELoss(nn.Module):\n",
    "    def __init__(self):\n",
    "        super().__init__()\n",
    "        self.mse = nn.MSELoss()\n",
    "        \n",
    "    def forward(self,yhat,y):\n",
    "        return torch.sqrt(self.mse(yhat,y))"
   ]
  },
  {
   "cell_type": "code",
   "execution_count": null,
   "id": "2b8b993e",
   "metadata": {},
   "outputs": [],
   "source": [
    "import torch.optim as optim\n",
    "learning_rate = 0.001\n",
    "criterion = RMSELoss()\n",
    "num_epochs = 10\n",
    "BATCH_SIZE = 64"
   ]
  },
  {
   "cell_type": "code",
   "execution_count": null,
   "id": "147bce0e",
   "metadata": {},
   "outputs": [],
   "source": [
    "from torch.utils.data import DataLoader, Dataset, TensorDataset\n",
    "train_dataset = TensorDataset(train_set, train_label)\n",
    "train_loader = DataLoader(train_dataset, batch_size=BATCH_SIZE, shuffle=True)\n",
    "print(len(train_loader))\n",
    "all_losses = []"
   ]
  },
  {
   "cell_type": "code",
   "execution_count": null,
   "id": "fe6bec14",
   "metadata": {},
   "outputs": [],
   "source": [
    "def train(model, train_loader,criterion,num_epochs):\n",
    "    optimizer = torch.optim.Adam(model.parameters(),lr = learning_rate,weight_decay=1e-4)\n",
    "    for epoch in range(num_epochs):\n",
    "        epoch_loss = 0\n",
    "        for i,(x, y) in enumerate(train_loader,0):\n",
    "            x = x.to(device)\n",
    "            y = y.to(device)\n",
    "            y = torch.reshape(y,(-1,1))\n",
    "            optimizer.zero_grad()\n",
    "            output = model(x)\n",
    "            loss = criterion(output, y)#RMSE\n",
    "            epoch_loss += loss\n",
    "            loss.backward()\n",
    "            optimizer.step()\n",
    "        print(f\"Epoch: {epoch+1} Loss:{epoch_loss/len(train_loader)}\")\n",
    "        all_losses.append(epoch_loss / len(train_loader))"
   ]
  },
  {
   "cell_type": "code",
   "execution_count": null,
   "id": "8d0897cb",
   "metadata": {},
   "outputs": [],
   "source": [
    "train(model, train_loader,criterion,num_epochs)"
   ]
  },
  {
   "cell_type": "code",
   "execution_count": null,
   "id": "fd7186ce",
   "metadata": {},
   "outputs": [],
   "source": [
    "plt.figure()\n",
    "plt.plot(torch.Tensor.cpu(torch.tensor(all_losses)))"
   ]
  },
  {
   "cell_type": "code",
   "execution_count": null,
   "id": "a8f5d610",
   "metadata": {},
   "outputs": [],
   "source": [
    "PATH = 'linear.pth'\n",
    "torch.save(model.state_dict(),PATH)"
   ]
  },
  {
   "cell_type": "code",
   "execution_count": null,
   "id": "a8519fb4",
   "metadata": {},
   "outputs": [],
   "source": [
    "#Use sklearn for something like gradient boosting or random forest\n",
    "\n",
    "#Model Selection: Gradient Boosting,Random Forest,Extra Randomized Trees, SVM, Linear Regression, Logistic Regression, Neural Networks"
   ]
  },
  {
   "cell_type": "code",
   "execution_count": null,
   "id": "bab4618a",
   "metadata": {},
   "outputs": [],
   "source": [
    "#TODO: build other models\n",
    "#TODO: report loss on validation sets and tune parameters for each model\n",
    "#TODO: run on test sets and report test loss\n",
    "#TODO: predict travel time(test_features) and submit to kaggle"
   ]
  }
 ],
 "metadata": {
  "kernelspec": {
   "display_name": "Python 3 (ipykernel)",
   "language": "python",
   "name": "python3"
  },
  "language_info": {
   "codemirror_mode": {
    "name": "ipython",
    "version": 3
   },
   "file_extension": ".py",
   "mimetype": "text/x-python",
   "name": "python",
   "nbconvert_exporter": "python",
   "pygments_lexer": "ipython3",
   "version": "3.9.5"
  }
 },
 "nbformat": 4,
 "nbformat_minor": 5
}
