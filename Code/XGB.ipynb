{
 "cells": [
  {
   "cell_type": "code",
   "execution_count": 1,
   "id": "369a8de4",
   "metadata": {},
   "outputs": [],
   "source": [
    "import pickle\n",
    "import numpy as np\n",
    "\n",
    "from sklearn.preprocessing import scale\n",
    "\n",
    "#from keras.models import Sequential\n",
    "#from keras.optimizers import SGD, Adam, Adagrad\n",
    "#from keras import backend as K\n",
    "#from keras.layers import Embedding\n",
    "#from keras.layers import Dense, Reshape, Concatenate, Activation, Dropout\n",
    "#from keras.callbacks import ModelCheckpoint\n",
    "import pandas as pd\n",
    "from sklearn.datasets import make_regression\n",
    "from sklearn.ensemble import GradientBoostingRegressor\n",
    "from sklearn.model_selection import train_test_split"
   ]
  },
  {
   "cell_type": "code",
   "execution_count": 2,
   "id": "d64c00e0",
   "metadata": {},
   "outputs": [],
   "source": [
    "train_cache = 'cache/train2.pickle'\n",
    "train_labels_cache = 'cache/train-labels2.npy'\n",
    "validation_cache = 'cache/validation2.pickle'\n",
    "validation_labels_cache = 'cache/validation-labels2.npy'\n",
    "test_cache = 'cache/test2.pickle'\n",
    "test_labels_cache = 'cache/test-labels2.npy'\n",
    "competition_test_cache = 'cache/competition-test2.pickle'\n",
    "metadata_cache = 'cache/metadata2.pickle'"
   ]
  },
  {
   "cell_type": "code",
   "execution_count": 6,
   "id": "012ae1d6",
   "metadata": {},
   "outputs": [],
   "source": [
    "train_cache = 'cache/train.pickle'\n",
    "train_labels_cache = 'cache/train-labels.npy'\n",
    "validation_cache = 'cache/validation.pickle'\n",
    "validation_labels_cache = 'cache/validation-labels.npy'\n",
    "test_cache = 'cache/test.pickle'\n",
    "test_labels_cache = 'cache/test-labels.npy'\n",
    "competition_test_cache = 'cache/competition-test.pickle'\n",
    "metadata_cache = 'cache/metadata.pickle'"
   ]
  },
  {
   "cell_type": "code",
   "execution_count": 7,
   "id": "7f22376a",
   "metadata": {},
   "outputs": [],
   "source": [
    "train = pd.read_pickle(train_cache)\n",
    "validation = pd.read_pickle(validation_cache)\n",
    "test = pd.read_pickle(test_cache)\n",
    "\n",
    "train_labels = np.load(train_labels_cache)\n",
    "validation_labels = np.load(validation_labels_cache)\n",
    "test_labels = np.load(test_labels_cache)\n",
    "\n",
    "competition_test = pd.read_pickle(competition_test_cache)\n",
    "with open(metadata_cache, 'rb') as handle:\n",
    "    metadata = pickle.load(handle)"
   ]
  },
  {
   "cell_type": "code",
   "execution_count": 11,
   "id": "c3a14629",
   "metadata": {},
   "outputs": [],
   "source": [
    "def process_features(df):\n",
    "    return np.array(df[['QUARTER_HOUR','DAY_OF_WEEK','WEEK_OF_YEAR','TAXI_ID_ENCODED','STAND_LONGITUDE','STAND_LATITUDE']].values)"
   ]
  },
  {
   "cell_type": "code",
   "execution_count": 12,
   "id": "b07cc831",
   "metadata": {},
   "outputs": [],
   "source": [
    "reg1 = GradientBoostingRegressor(random_state=0)"
   ]
  },
  {
   "cell_type": "code",
   "execution_count": 13,
   "id": "f7a5cc54",
   "metadata": {},
   "outputs": [
    {
     "data": {
      "text/plain": [
       "GradientBoostingRegressor(random_state=0)"
      ]
     },
     "execution_count": 13,
     "metadata": {},
     "output_type": "execute_result"
    }
   ],
   "source": [
    "reg1.fit(process_features(train),train_labels)"
   ]
  },
  {
   "cell_type": "code",
   "execution_count": 14,
   "id": "fb9c75e0",
   "metadata": {},
   "outputs": [
    {
     "data": {
      "text/plain": [
       "array([ 795.56138425,  765.66444183,  795.53669363,  721.15813314,\n",
       "        764.48464917,  780.70289996,  799.26166203,  780.70289996,\n",
       "        818.44179814,  795.53669363,  726.52588534,  776.40397012,\n",
       "        775.29084867,  816.38878714,  778.23065784,  779.13217405,\n",
       "        777.51686229,  779.13217405,  795.04509687,  778.23065784,\n",
       "        793.92138186,  776.40397012,  777.51686229,  787.14126824,\n",
       "        857.704712  ,  808.00963997,  778.94101574,  794.63517741,\n",
       "        729.51632681,  804.21777398,  778.94101574,  767.91263298,\n",
       "        779.13217405,  787.86049684,  779.13217405,  779.13217405,\n",
       "        776.40397012,  740.54050226,  790.06447128,  777.06674601,\n",
       "        729.94114734,  779.13217405,  779.15686467,  819.34331435,\n",
       "        761.84529709,  821.49756121,  787.81325441,  776.40397012,\n",
       "        682.76063544,  721.11383405,  797.53118427,  753.062908  ,\n",
       "        738.99513677,  795.56138425,  792.80848969,  735.98640225,\n",
       "        819.36800497,  739.88539857,  780.70289996,  775.29084867,\n",
       "        791.69536825,  770.73674866,  780.70289996,  780.70289996,\n",
       "        813.95662348,  819.36800497,  795.87265026,  757.67595117,\n",
       "        779.15686467,  756.4332458 ,  765.75061058,  783.47269616,\n",
       "        795.53669363,  780.43864192,  668.51395101,  713.2562767 ,\n",
       "        688.73927582,  712.27667939,  713.2562767 ,  711.91255958,\n",
       "        713.2562767 ,  671.14201762,  708.95734686,  713.52787134,\n",
       "        669.59598233,  707.82204788,  710.07023903,  713.2562767 ,\n",
       "        645.26263603,  703.29012541,  713.2562767 ,  711.71024142,\n",
       "        711.68555079,  706.29885992,  659.62890619, 1382.86422957,\n",
       "        708.14118047,  711.68555079,  707.82204788,  720.36663115,\n",
       "        665.72996633,  764.01765341,  711.71024142,  696.74779225,\n",
       "        692.90646687,  710.78403458,  745.64548459,  641.98884226,\n",
       "        757.76042956,  707.84422541,  711.71024142,  698.43673977,\n",
       "        679.22368625,  696.0391296 ,  720.36663115,  707.84422541,\n",
       "        661.76287571,  718.26357464,  708.95734686,  694.62883438,\n",
       "        703.29012541,  711.71024142,  690.22932792,  701.53911392,\n",
       "        698.31851816,  654.65390055,  695.08987291,  711.68555079,\n",
       "        713.2562767 ,  696.77248287,  695.13248048,  667.6124348 ,\n",
       "        692.10817221,  710.07023903,  693.09059026,  724.63618154,\n",
       "        739.91599993,  661.76287571,  707.82204788,  707.84422541,\n",
       "        710.78403458,  694.01958831,  708.14118047,  743.5850082 ,\n",
       "        708.95734686,  754.21723613,  644.74634865,  711.68555079,\n",
       "        748.33881873,  699.73813305,  707.84422541,  846.02885799,\n",
       "        844.45813208,  846.02885799,  844.45813208,  784.87613354,\n",
       "        876.64151499,  844.45813208,  834.85390277,  863.96197821,\n",
       "        841.72992814,  846.02885799,  836.82993743,  806.75739189,\n",
       "        839.07144121,  805.84428276,  835.00175652,  844.45813208,\n",
       "        842.84282031,  825.51167735,  865.25409758,  885.41599401,\n",
       "        844.45813208,  817.20510382,  793.62710298,  861.56213219,\n",
       "        876.27384699,  841.72992814,  844.45813208,  841.72992814,\n",
       "        839.0042777 ,  783.14246721,  846.02885799,  844.45813208,\n",
       "        839.05108008,  840.59462917,  844.45813208,  809.70778567,\n",
       "        793.48610176,  883.52513659,  844.45813208,  736.71210132,\n",
       "        843.55661587,  844.4828227 ,  879.39440955,  845.04926068,\n",
       "        844.45813208,  742.0987922 ,  874.089782  ,  840.57500361,\n",
       "        790.85091259,  881.71474517,  811.9624319 ,  844.45813208,\n",
       "        844.45813208,  741.71902309,  828.23988129,  844.45813208,\n",
       "        846.02885799,  844.45813208,  834.85390277,  784.7824696 ,\n",
       "        844.45813208,  809.70778567,  836.84794658,  839.07144121,\n",
       "        823.67174434,  785.26931586,  790.543355  ,  867.82548112,\n",
       "        868.87269025,  855.20466073,  833.43103061,  841.72992814,\n",
       "        886.23999829,  817.48573513,  846.02885799,  844.45813208,\n",
       "        540.6352617 ,  554.04149219,  549.05537771,  546.45302088,\n",
       "        547.58831985,  554.04149219,  544.92983292,  550.31652379,\n",
       "        551.8872497 ,  546.47519841,  546.47519841,  521.96539015,\n",
       "        533.83550857,  546.45302088,  478.12545442,  551.8872497 ,\n",
       "        549.41500758,  551.62299166,  557.71176744,  541.9210984 ,\n",
       "        550.31652379,  540.51079018,  485.16995977,  550.31652379,\n",
       "        547.58831985,  547.58831985,  540.51079018,  559.04484658,\n",
       "        550.34121441,  533.7208459 ,  550.31652379,  547.58831985,\n",
       "        550.34121441,  554.04149219,  551.8872497 ,  550.31652379,\n",
       "        550.34121441,  540.51079018,  551.8872497 ,  544.92983292,\n",
       "        540.17008691,  550.31652379,  578.19576279,  546.47519841,\n",
       "        551.8872497 ,  478.12545442,  550.65248042,  493.59007578,\n",
       "        539.60927397,  551.46742545,  546.45302088,  549.41500758,\n",
       "        541.84841126,  548.70121202,  546.45302088,  539.60927397,\n",
       "        548.70121202,  550.31652379,  548.70121202,  541.9210984 ,\n",
       "        546.47519841,  547.58831985,  624.96097498,  668.63244216,\n",
       "        687.71904044,  691.06876906,  691.56036582,  616.05661305,\n",
       "        692.19769837,  678.95830922,  687.71904044,  686.17367495,\n",
       "        667.08640688,  664.1316067 ,  690.65166308,  659.59968422,\n",
       "        690.65166308,  691.56036582,  691.56036582,  689.94505405,\n",
       "        689.94505405,  691.56036582,  793.45767301,  700.24144617,\n",
       "        667.08640688,  667.99510961,  691.56036582,  691.56036582,\n",
       "        656.83684625,  734.09205116,  692.19769837,  683.16494043])"
      ]
     },
     "execution_count": 14,
     "metadata": {},
     "output_type": "execute_result"
    }
   ],
   "source": [
    "reg1.predict(process_features(competition_test))"
   ]
  },
  {
   "cell_type": "code",
   "execution_count": 16,
   "id": "8249674f",
   "metadata": {},
   "outputs": [
    {
     "name": "stdout",
     "output_type": "stream",
     "text": [
      "484.9021940803681\n",
      "502.7348237696494\n"
     ]
    }
   ],
   "source": [
    "import math\n",
    "from sklearn.metrics import mean_squared_error\n",
    "validation_loss = math.sqrt(mean_squared_error(reg1.predict(process_features(validation)),validation_labels))\n",
    "print(validation_loss)\n",
    "test_loss = math.sqrt(mean_squared_error(reg1.predict(process_features(test)),test_labels))\n",
    "print(test_loss)"
   ]
  },
  {
   "cell_type": "code",
   "execution_count": 18,
   "id": "3cb63963",
   "metadata": {},
   "outputs": [
    {
     "data": {
      "text/html": [
       "<div>\n",
       "<style scoped>\n",
       "    .dataframe tbody tr th:only-of-type {\n",
       "        vertical-align: middle;\n",
       "    }\n",
       "\n",
       "    .dataframe tbody tr th {\n",
       "        vertical-align: top;\n",
       "    }\n",
       "\n",
       "    .dataframe thead th {\n",
       "        text-align: right;\n",
       "    }\n",
       "</style>\n",
       "<table border=\"1\" class=\"dataframe\">\n",
       "  <thead>\n",
       "    <tr style=\"text-align: right;\">\n",
       "      <th></th>\n",
       "      <th>TRIP_ID</th>\n",
       "      <th>TRAVEL_TIME</th>\n",
       "    </tr>\n",
       "  </thead>\n",
       "  <tbody>\n",
       "    <tr>\n",
       "      <th>0</th>\n",
       "      <td>T1</td>\n",
       "      <td>795.561384</td>\n",
       "    </tr>\n",
       "    <tr>\n",
       "      <th>1</th>\n",
       "      <td>T2</td>\n",
       "      <td>765.664442</td>\n",
       "    </tr>\n",
       "    <tr>\n",
       "      <th>2</th>\n",
       "      <td>T3</td>\n",
       "      <td>795.536694</td>\n",
       "    </tr>\n",
       "    <tr>\n",
       "      <th>3</th>\n",
       "      <td>T4</td>\n",
       "      <td>721.158133</td>\n",
       "    </tr>\n",
       "    <tr>\n",
       "      <th>4</th>\n",
       "      <td>T5</td>\n",
       "      <td>764.484649</td>\n",
       "    </tr>\n",
       "  </tbody>\n",
       "</table>\n",
       "</div>"
      ],
      "text/plain": [
       "  TRIP_ID  TRAVEL_TIME\n",
       "0      T1   795.561384\n",
       "1      T2   765.664442\n",
       "2      T3   795.536694\n",
       "3      T4   721.158133\n",
       "4      T5   764.484649"
      ]
     },
     "execution_count": 18,
     "metadata": {},
     "output_type": "execute_result"
    }
   ],
   "source": [
    "xgb_predict = pd.read_csv('test_public.csv')\n",
    "xgb_predict = xgb_predict['TRIP_ID']\n",
    "predict_array = reg1.predict(process_features(competition_test))\n",
    "xgb_predict= pd.concat([xgb_predict, pd.DataFrame(predict_array)], axis=1)\n",
    "xgb_predict = xgb_predict.rename(columns={0: 'TRAVEL_TIME'})\n",
    "xgb_predict.head()"
   ]
  },
  {
   "cell_type": "code",
   "execution_count": 19,
   "id": "9ffa6c72",
   "metadata": {},
   "outputs": [
    {
     "data": {
      "text/plain": [
       "721.6838573189444"
      ]
     },
     "execution_count": 19,
     "metadata": {},
     "output_type": "execute_result"
    }
   ],
   "source": [
    "xgb_predict['TRAVEL_TIME'].mean()"
   ]
  },
  {
   "cell_type": "code",
   "execution_count": 20,
   "id": "224d378a",
   "metadata": {},
   "outputs": [],
   "source": [
    "xgb_predict.to_csv('xgb_untruncated_approach1.csv', index=False)"
   ]
  },
  {
   "cell_type": "code",
   "execution_count": null,
   "id": "748af617",
   "metadata": {},
   "outputs": [],
   "source": []
  },
  {
   "cell_type": "code",
   "execution_count": 4,
   "id": "624965e3",
   "metadata": {},
   "outputs": [],
   "source": [
    "reg2 = GradientBoostingRegressor(random_state=0)"
   ]
  },
  {
   "cell_type": "code",
   "execution_count": null,
   "id": "6b783d51",
   "metadata": {},
   "outputs": [],
   "source": [
    "df = train[['QUARTER_HOUR','DAY_OF_WEEK','WEEK_OF_YEAR','ORIGIN_STAND_ENCODED'\n",
    "                           'dt_2014-08-14 00:00:00','dt_2014-09-30 00:00:00','dt_2014-10-06 00:00:00','dt_2014-11-01 00:00:00',\n",
    "                           'dt_2014-12-21 00:00:00']]\n",
    "comp = competition_test[['QUARTER_HOUR','DAY_OF_WEEK','WEEK_OF_YEAR','ORIGIN_STAND_ENCODED'\n",
    "                           'dt_2014-08-14 00:00:00','dt_2014-09-30 00:00:00','dt_2014-10-06 00:00:00','dt_2014-11-01 00:00:00',\n",
    "                           'dt_2014-12-21 00:00:00']]\n",
    "df.head()\n",
    "df.shape"
   ]
  },
  {
   "cell_type": "code",
   "execution_count": null,
   "id": "5f7c3b7e",
   "metadata": {},
   "outputs": [],
   "source": [
    "merged = pd.concat([df,comp],axis=0)\n",
    "merged.head()\n",
    "merged.shape"
   ]
  },
  {
   "cell_type": "code",
   "execution_count": null,
   "id": "b5dcbc2f",
   "metadata": {},
   "outputs": [],
   "source": [
    "merged = pd.get_dummies(merged, columns = ['ORIGIN_STAND_ENCODED'])"
   ]
  },
  {
   "cell_type": "code",
   "execution_count": null,
   "id": "6eab7b10",
   "metadata": {},
   "outputs": [],
   "source": [
    "df = merged.head(-320)\n",
    "comp = merged.tail(320)"
   ]
  },
  {
   "cell_type": "code",
   "execution_count": null,
   "id": "0e3df02c",
   "metadata": {},
   "outputs": [],
   "source": [
    "df.head()"
   ]
  },
  {
   "cell_type": "code",
   "execution_count": null,
   "id": "2ccfbdfc",
   "metadata": {},
   "outputs": [],
   "source": [
    "comp.head()"
   ]
  },
  {
   "cell_type": "code",
   "execution_count": null,
   "id": "432c542f",
   "metadata": {
    "scrolled": true
   },
   "outputs": [],
   "source": [
    "reg2.fit(np.array(df.values),train_labels)"
   ]
  },
  {
   "cell_type": "code",
   "execution_count": null,
   "id": "68cdff2e",
   "metadata": {},
   "outputs": [],
   "source": [
    "reg2.predict(np.array(comp.values))"
   ]
  },
  {
   "cell_type": "code",
   "execution_count": null,
   "id": "c5cfa86e",
   "metadata": {},
   "outputs": [],
   "source": [
    "xgb_predict = pd.read_csv('test_public.csv')\n",
    "xgb_predict = xgb_predict['TRIP_ID']\n",
    "predict_array = reg2.predict(np.array(comp.values))\n",
    "xgb_predict= pd.concat([xgb_predict, pd.DataFrame(predict_array)], axis=1)\n",
    "xgb_predict = xgb_predict.rename(columns={0: 'TRAVEL_TIME'})\n",
    "xgb_predict.head()"
   ]
  },
  {
   "cell_type": "code",
   "execution_count": null,
   "id": "5efe5405",
   "metadata": {},
   "outputs": [],
   "source": [
    "xgb_predict['TRAVEL_TIME'].mean()"
   ]
  },
  {
   "cell_type": "code",
   "execution_count": null,
   "id": "c4cd995a",
   "metadata": {},
   "outputs": [],
   "source": [
    "xgb_predict.to_csv('xgb_greater300_truncated.csv', index=False)"
   ]
  },
  {
   "cell_type": "code",
   "execution_count": null,
   "id": "3d801bdf",
   "metadata": {},
   "outputs": [],
   "source": []
  }
 ],
 "metadata": {
  "kernelspec": {
   "display_name": "Python 3 (ipykernel)",
   "language": "python",
   "name": "python3"
  },
  "language_info": {
   "codemirror_mode": {
    "name": "ipython",
    "version": 3
   },
   "file_extension": ".py",
   "mimetype": "text/x-python",
   "name": "python",
   "nbconvert_exporter": "python",
   "pygments_lexer": "ipython3",
   "version": "3.9.5"
  }
 },
 "nbformat": 4,
 "nbformat_minor": 5
}
