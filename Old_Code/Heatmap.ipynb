{
 "cells": [
  {
   "cell_type": "code",
   "execution_count": 1,
   "id": "dd9deea8",
   "metadata": {},
   "outputs": [],
   "source": [
    "import numpy as np\n",
    "Latitudes = np.load('Latitudes.npy')\n",
    "Longitudes = np.load('Longitudes.npy')"
   ]
  },
  {
   "cell_type": "code",
   "execution_count": 9,
   "id": "e7707fec",
   "metadata": {},
   "outputs": [],
   "source": [
    "import folium\n",
    "from folium.plugins import HeatMap\n",
    "map = folium.Map(location=[Latitudes.mean(), Longitudes.mean()], zoom_start=11)\n",
    "\n",
    "# 制作热力图\n",
    "HeatMap(zip(Latitudes[0:1000000], Longitudes[0:1000000])).add_to(map)\n",
    "\n",
    "# 保存地图\n",
    "map.save(\"heatmap.html\")"
   ]
  },
  {
   "cell_type": "code",
   "execution_count": 4,
   "id": "4cbba3d4",
   "metadata": {},
   "outputs": [
    {
     "data": {
      "image/png": "[encoded data removed]",
      "text/plain": [
       "<Figure size 432x288 with 1 Axes>"
      ]
     },
     "metadata": {
      "needs_background": "light"
     },
     "output_type": "display_data"
    }
   ],
   "source": [
    "import matplotlib.pyplot as plt\n",
    "plt.scatter(Longitudes, Latitudes,s=1)\n",
    "plt.show()"
   ]
  },
  {
   "cell_type": "code",
   "execution_count": null,
   "id": "329d2c4c",
   "metadata": {},
   "outputs": [],
   "source": []
  }
 ],
 "metadata": {
  "kernelspec": {
   "display_name": "Python 3 (ipykernel)",
   "language": "python",
   "name": "python3"
  },
  "language_info": {
   "codemirror_mode": {
    "name": "ipython",
    "version": 3
   },
   "file_extension": ".py",
   "mimetype": "text/x-python",
   "name": "python",
   "nbconvert_exporter": "python",
   "pygments_lexer": "ipython3",
   "version": "3.9.5"
  }
 },
 "nbformat": 4,
 "nbformat_minor": 5
}
