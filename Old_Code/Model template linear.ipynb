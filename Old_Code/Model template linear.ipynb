{
 "cells": [
  {
   "cell_type": "code",
   "execution_count": null,
   "id": "7608cca6",
   "metadata": {},
   "outputs": [],
   "source": [
    "import matplotlib.pyplot as plt\n",
    "import pandas as pd\n",
    "import numpy as np\n",
    "import torch\n",
    "from torch import nn\n",
    "import torch.nn as nn\n",
    "import torch.nn.functional as F\n",
    "from torch.utils.data import DataLoader, Dataset, TensorDataset"
   ]
  },
  {
   "cell_type": "code",
   "execution_count": 2,
   "id": "821145ff",
   "metadata": {},
   "outputs": [],
   "source": [
    "device = torch.device('cuda' if torch.cuda.is_available else 'cpu')"
   ]
  },
  {
   "cell_type": "code",
   "execution_count": 6,
   "id": "218a9ebb",
   "metadata": {},
   "outputs": [],
   "source": [
    "train_features=torch.load('train_features.pt')\n",
    "train_labels=torch.load('train_labels.pt')"
   ]
  },
  {
   "cell_type": "code",
   "execution_count": 7,
   "id": "9ee4cc3c",
   "metadata": {},
   "outputs": [
    {
     "name": "stdout",
     "output_type": "stream",
     "text": [
      "torch.Size([1704759, 14])\n",
      "torch.Size([1704759])\n"
     ]
    }
   ],
   "source": [
    "print(train_features.shape)\n",
    "print(train_labels.shape)"
   ]
  },
  {
   "cell_type": "code",
   "execution_count": 8,
   "id": "5a08105c",
   "metadata": {},
   "outputs": [
    {
     "name": "stdout",
     "output_type": "stream",
     "text": [
      "torch.Size([1704759, 15])\n"
     ]
    }
   ],
   "source": [
    "train = torch.cat([train_features, train_labels.reshape(-1,1)],1)\n",
    "print(train.shape)\n",
    "train = train[torch.randperm(train.size(0))] #shuffling dataset, parameter down need to be updated\n",
    "train_set = train[0:1500000,                            0:train.shape[1]-1]\n",
    "train_label = train[0:1500000,                          train.shape[1]-1]\n",
    "validation_set = train[1500000:1600000,                 0:train.shape[1]-1]\n",
    "validation_label = train[1500000:1600000,               train.shape[1]-1]\n",
    "test_set = train[1600000:train.shape[0],                0:train.shape[1]-1]\n",
    "test_label = train[1600000:train.shape[0],              train.shape[1]-1]"
   ]
  },
  {
   "cell_type": "code",
   "execution_count": 20,
   "id": "47a60831",
   "metadata": {},
   "outputs": [
    {
     "name": "stdout",
     "output_type": "stream",
     "text": [
      "torch.Size([104759, 14])\n"
     ]
    }
   ],
   "source": [
    "print(test_set.shape)"
   ]
  },
  {
   "cell_type": "code",
   "execution_count": null,
   "id": "fd80065b",
   "metadata": {},
   "outputs": [],
   "source": [
    "#You may save them if you want\n",
    "torch.save(train_set,'train_set.pt')\n",
    "torch.save(train_label,'train_label.pt')\n",
    "torch.save(validation_set,'validation_set.pt')\n",
    "torch.save(validation_label,'validation_label.pt')\n",
    "torch.save(test_set,'test_set.pt')\n",
    "torch.save(test_label,'test_label.pt')"
   ]
  },
  {
   "cell_type": "code",
   "execution_count": 16,
   "id": "622b7665",
   "metadata": {},
   "outputs": [],
   "source": [
    "del train_features\n",
    "del train_labels"
   ]
  },
  {
   "cell_type": "code",
   "execution_count": 6,
   "id": "00a557eb",
   "metadata": {},
   "outputs": [
    {
     "name": "stdout",
     "output_type": "stream",
     "text": [
      "torch.float32\n",
      "torch.float32\n"
     ]
    }
   ],
   "source": [
    "print(train_set.dtype)\n",
    "print(train_label.dtype)"
   ]
  },
  {
   "cell_type": "code",
   "execution_count": 9,
   "id": "10c3fd7c",
   "metadata": {},
   "outputs": [],
   "source": [
    "#I implement a MLP first, it is actually a Linear Regression\n",
    "import torch.nn as nn\n",
    "import torch.nn.functional as F\n",
    "\n",
    "\n",
    "class MLP(nn.Module):\n",
    "    def __init__(self, input_features):\n",
    "        super(MLP, self).__init__()\n",
    "        self.layer1 = nn.Sequential(\n",
    "            nn.Linear(in_features=input_features,out_features=1)\n",
    "        )\n",
    "        \n",
    "\n",
    "    def forward(self, x):\n",
    "        x=x.to(torch.float32)\n",
    "        x=self.layer1(x)\n",
    "        return x\n",
    "\n"
   ]
  },
  {
   "cell_type": "code",
   "execution_count": null,
   "id": "3450c78a",
   "metadata": {},
   "outputs": [],
   "source": [
    "model = MLP(train_set.shape[1])\n",
    "model = model.to(device)"
   ]
  },
  {
   "cell_type": "code",
   "execution_count": null,
   "id": "b2ed2308",
   "metadata": {},
   "outputs": [],
   "source": [
    "class RMSELoss(nn.Module):\n",
    "    def __init__(self):\n",
    "        super().__init__()\n",
    "        self.mse = nn.MSELoss()\n",
    "        \n",
    "    def forward(self,yhat,y):\n",
    "        return torch.sqrt(self.mse(yhat,y))"
   ]
  },
  {
   "cell_type": "code",
   "execution_count": 17,
   "id": "2b8b993e",
   "metadata": {},
   "outputs": [],
   "source": [
    "import torch.optim as optim\n",
    "learning_rate = 0.001\n",
    "criterion = nn.MSELoss()\n",
    "num_epochs = 10\n",
    "BATCH_SIZE = 64"
   ]
  },
  {
   "cell_type": "code",
   "execution_count": 9,
   "id": "147bce0e",
   "metadata": {},
   "outputs": [
    {
     "name": "stdout",
     "output_type": "stream",
     "text": [
      "23438\n"
     ]
    }
   ],
   "source": [
    "train_dataset = TensorDataset(train_set, train_label)\n",
    "train_loader = DataLoader(train_dataset, batch_size=BATCH_SIZE, shuffle=True)\n",
    "print(len(train_loader))\n",
    "all_losses = []"
   ]
  },
  {
   "cell_type": "code",
   "execution_count": 10,
   "id": "fe6bec14",
   "metadata": {},
   "outputs": [],
   "source": [
    "def train(model, train_loader,criterion,num_epochs):\n",
    "    optimizer = torch.optim.Adam(model.parameters(),lr = learning_rate,weight_decay=1e-4)\n",
    "    for epoch in range(num_epochs):\n",
    "        epoch_loss = 0\n",
    "        group_320_loss = 0\n",
    "        for i,(x, y) in enumerate(train_loader,0):\n",
    "            x = x.to(device)\n",
    "            y = y.to(device)\n",
    "            y = torch.reshape(y,(-1,1))\n",
    "            optimizer.zero_grad()\n",
    "            output = model(x)\n",
    "            loss = torch.sqrt(criterion(output, y))#RMSE\n",
    "            epoch_loss += loss\n",
    "            loss.backward()\n",
    "            optimizer.step()\n",
    "            group_320_loss += loss\n",
    "            if i%3000==2999:\n",
    "                all_losses.append(group_320_loss/600)\n",
    "                group_320_loss = 0\n",
    "        print(f\"Epoch: {epoch+1} Loss:{epoch_loss/len(train_loader)*5}\") #Want to get the loss of a set of 320\n",
    "        #all_losses.append(epoch_loss / len(train_loader))"
   ]
  },
  {
   "cell_type": "code",
   "execution_count": 11,
   "id": "8d0897cb",
   "metadata": {},
   "outputs": [
    {
     "name": "stdout",
     "output_type": "stream",
     "text": [
      "Epoch: 1 Loss:695.3405151367188\n",
      "Epoch: 2 Loss:600.9041137695312\n",
      "Epoch: 3 Loss:595.2855224609375\n",
      "Epoch: 4 Loss:590.4942626953125\n",
      "Epoch: 5 Loss:587.343994140625\n",
      "Epoch: 6 Loss:584.5153198242188\n",
      "Epoch: 7 Loss:582.892333984375\n",
      "Epoch: 8 Loss:580.5071411132812\n",
      "Epoch: 9 Loss:579.4818115234375\n",
      "Epoch: 10 Loss:578.4823608398438\n"
     ]
    }
   ],
   "source": [
    "train(model, train_loader,criterion,num_epochs)"
   ]
  },
  {
   "cell_type": "code",
   "execution_count": 12,
   "id": "fd7186ce",
   "metadata": {
    "scrolled": true
   },
   "outputs": [
    {
     "data": {
      "text/plain": [
       "[<matplotlib.lines.Line2D at 0x7f3001a22340>]"
      ]
     },
     "execution_count": 12,
     "metadata": {},
     "output_type": "execute_result"
    },
    {
     "data": {
      "image/png": "[encoded data removed]",
      "text/plain": [
       "<Figure size 432x288 with 1 Axes>"
      ]
     },
     "metadata": {
      "needs_background": "light"
     },
     "output_type": "display_data"
    }
   ],
   "source": [
    "plt.figure()\n",
    "plt.plot(torch.Tensor.cpu(torch.tensor(all_losses)))"
   ]
  },
  {
   "cell_type": "code",
   "execution_count": 18,
   "id": "95c4f2f7",
   "metadata": {},
   "outputs": [],
   "source": [
    "del all_losses"
   ]
  },
  {
   "cell_type": "code",
   "execution_count": 27,
   "id": "bb8010a7",
   "metadata": {},
   "outputs": [],
   "source": [
    "def view_loss(model, test_set, test_label,criterion):\n",
    "    total_loss=0\n",
    "    test_dataset = TensorDataset(test_set, test_label)\n",
    "    test_loader = DataLoader(test_dataset, batch_size=BATCH_SIZE, shuffle=True)\n",
    "    for x, y in test_loader:\n",
    "        x = x.to(device)\n",
    "        y = y.to(device)\n",
    "        y = torch.reshape(y,(-1,1))\n",
    "        output = model(x)\n",
    "        loss = torch.sqrt(criterion(output, y))#RMSE\n",
    "        total_loss += loss\n",
    "    return total_loss"
   ]
  },
  {
   "cell_type": "code",
   "execution_count": null,
   "id": "72a27580",
   "metadata": {},
   "outputs": [],
   "source": [
    "#You need to see loss for validation set to tune the parameter. I didn't do that because linear regression is too simple"
   ]
  },
  {
   "cell_type": "code",
   "execution_count": 29,
   "id": "df407cc2",
   "metadata": {
    "scrolled": true
   },
   "outputs": [
    {
     "name": "stdout",
     "output_type": "stream",
     "text": [
      "tensor(2914.5986, device='cuda:0', grad_fn=<MulBackward0>)\n"
     ]
    }
   ],
   "source": [
    "print(view_loss(model, test_set, test_label,criterion)/test_set.shape[0]*320)"
   ]
  },
  {
   "cell_type": "code",
   "execution_count": 24,
   "id": "24ae62ae",
   "metadata": {},
   "outputs": [
    {
     "name": "stdout",
     "output_type": "stream",
     "text": [
      "torch.Size([320, 14])\n"
     ]
    }
   ],
   "source": [
    "predict_input = torch.load('predict_input.pt').to(device)\n",
    "print(predict_input.shape)"
   ]
  },
  {
   "cell_type": "code",
   "execution_count": 25,
   "id": "0398dbf8",
   "metadata": {},
   "outputs": [],
   "source": [
    "def predict(model):\n",
    "    predict_output = model(predict_input)\n",
    "    return predict_output"
   ]
  },
  {
   "cell_type": "code",
   "execution_count": 26,
   "id": "1963b248",
   "metadata": {
    "scrolled": true
   },
   "outputs": [
    {
     "name": "stdout",
     "output_type": "stream",
     "text": [
      "tensor([[ 887.6602],\n",
      "        [ 884.4099],\n",
      "        [ 887.6602],\n",
      "        [ 887.6605],\n",
      "        [ 879.9901],\n",
      "        [ 933.1318],\n",
      "        [ 887.6602],\n",
      "        [ 933.1318],\n",
      "        [ 886.8943],\n",
      "        [ 887.6602],\n",
      "        [ 873.5715],\n",
      "        [ 948.6939],\n",
      "        [ 948.6939],\n",
      "        [ 948.6939],\n",
      "        [ 948.6939],\n",
      "        [ 948.6939],\n",
      "        [ 948.6939],\n",
      "        [ 948.6939],\n",
      "        [ 887.6602],\n",
      "        [ 948.6939],\n",
      "        [ 887.6602],\n",
      "        [ 933.1318],\n",
      "        [ 933.1318],\n",
      "        [ 887.6602],\n",
      "        [ 871.3582],\n",
      "        [ 856.1127],\n",
      "        [ 887.6602],\n",
      "        [ 887.6602],\n",
      "        [ 866.4194],\n",
      "        [ 887.6602],\n",
      "        [ 887.6602],\n",
      "        [ 884.4099],\n",
      "        [ 948.6939],\n",
      "        [ 948.6939],\n",
      "        [ 948.6939],\n",
      "        [ 948.6939],\n",
      "        [ 933.1318],\n",
      "        [ 879.7853],\n",
      "        [ 887.6602],\n",
      "        [ 887.8210],\n",
      "        [ 872.5363],\n",
      "        [ 948.6939],\n",
      "        [ 948.6939],\n",
      "        [ 886.8943],\n",
      "        [ 874.9758],\n",
      "        [ 883.6512],\n",
      "        [ 948.6939],\n",
      "        [ 948.6939],\n",
      "        [ 875.0541],\n",
      "        [ 873.5715],\n",
      "        [ 870.0698],\n",
      "        [ 880.8453],\n",
      "        [ 879.7853],\n",
      "        [ 887.6602],\n",
      "        [ 887.6602],\n",
      "        [ 880.7659],\n",
      "        [ 886.8943],\n",
      "        [ 855.8708],\n",
      "        [ 948.6939],\n",
      "        [ 933.1318],\n",
      "        [ 887.6602],\n",
      "        [ 948.6939],\n",
      "        [ 948.6939],\n",
      "        [ 933.1318],\n",
      "        [ 886.8943],\n",
      "        [ 886.8943],\n",
      "        [ 887.6602],\n",
      "        [ 933.1318],\n",
      "        [ 948.6939],\n",
      "        [ 870.0698],\n",
      "        [ 938.1677],\n",
      "        [ 948.6939],\n",
      "        [ 887.6602],\n",
      "        [ 948.6939],\n",
      "        [ 810.0135],\n",
      "        [ 909.7076],\n",
      "        [ 844.7183],\n",
      "        [ 909.7076],\n",
      "        [ 909.7076],\n",
      "        [ 909.7076],\n",
      "        [ 894.1455],\n",
      "        [ 824.8553],\n",
      "        [ 894.1455],\n",
      "        [ 894.1455],\n",
      "        [ 825.3174],\n",
      "        [ 894.1455],\n",
      "        [ 909.7076],\n",
      "        [ 909.7076],\n",
      "        [ 814.8220],\n",
      "        [ 894.1455],\n",
      "        [ 894.1455],\n",
      "        [ 909.7076],\n",
      "        [ 909.7076],\n",
      "        [ 894.1455],\n",
      "        [ 830.2728],\n",
      "        [ 899.1815],\n",
      "        [ 894.1455],\n",
      "        [ 894.1455],\n",
      "        [ 894.1455],\n",
      "        [ 909.7076],\n",
      "        [ 825.3174],\n",
      "        [ 814.8050],\n",
      "        [ 909.7076],\n",
      "        [ 845.4235],\n",
      "        [ 845.4235],\n",
      "        [ 894.1455],\n",
      "        [ 843.2719],\n",
      "        [ 825.7807],\n",
      "        [ 814.8050],\n",
      "        [ 894.1455],\n",
      "        [ 894.1455],\n",
      "        [ 894.1455],\n",
      "        [ 821.0255],\n",
      "        [ 894.1455],\n",
      "        [ 894.1455],\n",
      "        [ 909.7076],\n",
      "        [ 816.8846],\n",
      "        [ 810.1342],\n",
      "        [ 909.7076],\n",
      "        [ 828.4024],\n",
      "        [ 894.1455],\n",
      "        [ 894.1455],\n",
      "        [ 894.1455],\n",
      "        [ 894.1455],\n",
      "        [ 845.4235],\n",
      "        [ 769.5259],\n",
      "        [ 909.7076],\n",
      "        [ 894.1455],\n",
      "        [ 909.7076],\n",
      "        [ 845.4235],\n",
      "        [ 845.4235],\n",
      "        [ 810.0135],\n",
      "        [ 899.1815],\n",
      "        [ 909.7076],\n",
      "        [ 909.7076],\n",
      "        [ 909.7076],\n",
      "        [ 848.6739],\n",
      "        [ 816.8846],\n",
      "        [ 894.1455],\n",
      "        [ 894.1455],\n",
      "        [ 909.7076],\n",
      "        [ 845.4235],\n",
      "        [ 894.1455],\n",
      "        [ 838.1478],\n",
      "        [ 894.1455],\n",
      "        [ 894.1455],\n",
      "        [ 814.8220],\n",
      "        [ 909.7076],\n",
      "        [ 814.8050],\n",
      "        [ 810.2707],\n",
      "        [ 894.1455],\n",
      "        [ 899.1107],\n",
      "        [ 914.6729],\n",
      "        [ 899.1107],\n",
      "        [ 914.6729],\n",
      "        [ 828.5728],\n",
      "        [ 848.2372],\n",
      "        [ 899.1107],\n",
      "        [ 850.3887],\n",
      "        [ 853.6392],\n",
      "        [ 899.1107],\n",
      "        [ 914.6729],\n",
      "        [ 899.1107],\n",
      "        [ 821.8498],\n",
      "        [ 899.1107],\n",
      "        [ 845.7642],\n",
      "        [ 904.1467],\n",
      "        [ 899.1107],\n",
      "        [ 914.6729],\n",
      "        [ 845.9689],\n",
      "        [ 827.8730],\n",
      "        [ 822.0917],\n",
      "        [ 914.6729],\n",
      "        [ 836.0486],\n",
      "        [ 838.5152],\n",
      "        [ 914.6729],\n",
      "        [ 852.8732],\n",
      "        [ 899.1107],\n",
      "        [ 899.1107],\n",
      "        [ 899.1107],\n",
      "        [ 833.3676],\n",
      "        [ 853.6393],\n",
      "        [ 899.1107],\n",
      "        [ 914.6729],\n",
      "        [ 853.8000],\n",
      "        [ 914.6729],\n",
      "        [ 899.1107],\n",
      "        [ 846.7449],\n",
      "        [ 853.6393],\n",
      "        [ 904.1467],\n",
      "        [ 899.1107],\n",
      "        [ 841.0331],\n",
      "        [ 899.1107],\n",
      "        [ 914.6729],\n",
      "        [ 848.2372],\n",
      "        [ 914.6729],\n",
      "        [ 914.6729],\n",
      "        [ 841.0331],\n",
      "        [ 904.1467],\n",
      "        [ 833.3676],\n",
      "        [ 850.7065],\n",
      "        [ 899.1107],\n",
      "        [ 814.9787],\n",
      "        [ 914.6729],\n",
      "        [ 914.6729],\n",
      "        [ 845.3100],\n",
      "        [ 845.9689],\n",
      "        [ 899.1107],\n",
      "        [ 899.1107],\n",
      "        [ 914.6729],\n",
      "        [ 850.3887],\n",
      "        [ 853.6393],\n",
      "        [ 914.6729],\n",
      "        [ 846.8242],\n",
      "        [ 834.7824],\n",
      "        [ 899.1107],\n",
      "        [ 815.0994],\n",
      "        [ 837.6117],\n",
      "        [ 832.3984],\n",
      "        [ 853.6392],\n",
      "        [ 904.1467],\n",
      "        [ 914.6729],\n",
      "        [ 888.5845],\n",
      "        [ 914.6729],\n",
      "        [ 852.8732],\n",
      "        [ 822.5606],\n",
      "        [ 914.6729],\n",
      "        [ 899.1107],\n",
      "        [ 643.9976],\n",
      "        [ 708.2817],\n",
      "        [ 643.9976],\n",
      "        [ 708.2817],\n",
      "        [ 708.2817],\n",
      "        [ 708.2817],\n",
      "        [ 708.2817],\n",
      "        [ 708.2817],\n",
      "        [ 708.2817],\n",
      "        [ 708.2817],\n",
      "        [ 708.2817],\n",
      "        [ 629.6575],\n",
      "        [ 708.2817],\n",
      "        [ 708.2817],\n",
      "        [ 631.2745],\n",
      "        [ 692.7195],\n",
      "        [ 708.2817],\n",
      "        [ 708.2817],\n",
      "        [ 643.9976],\n",
      "        [ 708.2817],\n",
      "        [ 708.2817],\n",
      "        [ 643.2924],\n",
      "        [ 640.4330],\n",
      "        [ 708.2817],\n",
      "        [ 692.7195],\n",
      "        [ 708.2817],\n",
      "        [ 643.2924],\n",
      "        [ 708.2817],\n",
      "        [ 708.2817],\n",
      "        [ 708.2817],\n",
      "        [ 708.2817],\n",
      "        [ 708.2817],\n",
      "        [ 708.2817],\n",
      "        [ 708.2817],\n",
      "        [ 708.2817],\n",
      "        [ 708.2817],\n",
      "        [ 708.2817],\n",
      "        [ 643.2924],\n",
      "        [ 708.2817],\n",
      "        [ 708.2817],\n",
      "        [ 708.2817],\n",
      "        [ 708.2817],\n",
      "        [ 708.2817],\n",
      "        [ 708.2817],\n",
      "        [ 708.2817],\n",
      "        [ 632.1241],\n",
      "        [ 708.2817],\n",
      "        [ 640.3537],\n",
      "        [ 643.2924],\n",
      "        [ 708.2817],\n",
      "        [ 708.2817],\n",
      "        [ 708.2817],\n",
      "        [ 697.7555],\n",
      "        [ 708.2817],\n",
      "        [ 708.2817],\n",
      "        [ 643.2924],\n",
      "        [ 708.2817],\n",
      "        [ 692.7195],\n",
      "        [ 708.2817],\n",
      "        [ 708.2817],\n",
      "        [ 708.2817],\n",
      "        [ 708.2817],\n",
      "        [ 933.8333],\n",
      "        [1007.6665],\n",
      "        [1013.1568],\n",
      "        [1028.7190],\n",
      "        [1013.1568],\n",
      "        [ 940.0367],\n",
      "        [1013.1568],\n",
      "        [ 967.6855],\n",
      "        [1028.7190],\n",
      "        [1028.7190],\n",
      "        [ 997.1403],\n",
      "        [1018.1927],\n",
      "        [1013.1568],\n",
      "        [ 997.1403],\n",
      "        [1013.1568],\n",
      "        [1013.1568],\n",
      "        [1013.1568],\n",
      "        [1013.1568],\n",
      "        [1028.7190],\n",
      "        [1013.1568],\n",
      "        [ 925.7644],\n",
      "        [1013.1568],\n",
      "        [ 992.1044],\n",
      "        [1018.1927],\n",
      "        [1028.7190],\n",
      "        [1013.1568],\n",
      "        [ 967.6855],\n",
      "        [1028.7190],\n",
      "        [1013.1568],\n",
      "        [1013.1568]], device='cuda:0', grad_fn=<AddmmBackward>)\n"
     ]
    }
   ],
   "source": [
    "out = predict(model)\n",
    "print(out)"
   ]
  },
  {
   "cell_type": "code",
   "execution_count": 47,
   "id": "ef0f06b4",
   "metadata": {},
   "outputs": [
    {
     "data": {
      "text/html": [
       "<div>\n",
       "<style scoped>\n",
       "    .dataframe tbody tr th:only-of-type {\n",
       "        vertical-align: middle;\n",
       "    }\n",
       "\n",
       "    .dataframe tbody tr th {\n",
       "        vertical-align: top;\n",
       "    }\n",
       "\n",
       "    .dataframe thead th {\n",
       "        text-align: right;\n",
       "    }\n",
       "</style>\n",
       "<table border=\"1\" class=\"dataframe\">\n",
       "  <thead>\n",
       "    <tr style=\"text-align: right;\">\n",
       "      <th></th>\n",
       "      <th>TRIP_ID</th>\n",
       "      <th>TRAVEL_TIME</th>\n",
       "    </tr>\n",
       "  </thead>\n",
       "  <tbody>\n",
       "    <tr>\n",
       "      <th>0</th>\n",
       "      <td>T1</td>\n",
       "      <td>887.660217</td>\n",
       "    </tr>\n",
       "    <tr>\n",
       "      <th>1</th>\n",
       "      <td>T2</td>\n",
       "      <td>884.409851</td>\n",
       "    </tr>\n",
       "    <tr>\n",
       "      <th>2</th>\n",
       "      <td>T3</td>\n",
       "      <td>887.660217</td>\n",
       "    </tr>\n",
       "    <tr>\n",
       "      <th>3</th>\n",
       "      <td>T4</td>\n",
       "      <td>887.660461</td>\n",
       "    </tr>\n",
       "    <tr>\n",
       "      <th>4</th>\n",
       "      <td>T5</td>\n",
       "      <td>879.990051</td>\n",
       "    </tr>\n",
       "  </tbody>\n",
       "</table>\n",
       "</div>"
      ],
      "text/plain": [
       "  TRIP_ID  TRAVEL_TIME\n",
       "0      T1   887.660217\n",
       "1      T2   884.409851\n",
       "2      T3   887.660217\n",
       "3      T4   887.660461\n",
       "4      T5   879.990051"
      ]
     },
     "execution_count": 47,
     "metadata": {},
     "output_type": "execute_result"
    }
   ],
   "source": [
    "linear_predict = pd.read_csv('test_public.csv')\n",
    "linear_predict = linear_predict['TRIP_ID']\n",
    "predict_tensor = out.to('cpu').detach().numpy().flatten()\n",
    "linear_predict= pd.concat([linear_predict, pd.DataFrame(predict_tensor)], axis=1)\n",
    "linear_predict = linear_predict.rename(columns={0: 'TRAVEL_TIME'})\n",
    "linear_predict.head()"
   ]
  },
  {
   "cell_type": "code",
   "execution_count": 48,
   "id": "6ca794bd",
   "metadata": {},
   "outputs": [],
   "source": [
    "linear_predict.to_csv('linear_predict.csv', index=False)"
   ]
  },
  {
   "cell_type": "code",
   "execution_count": 19,
   "id": "a8f5d610",
   "metadata": {},
   "outputs": [],
   "source": [
    "PATH = 'linear.pth'\n",
    "torch.save(model.state_dict(),PATH)"
   ]
  },
  {
   "cell_type": "code",
   "execution_count": 12,
   "id": "87df52b0",
   "metadata": {},
   "outputs": [
    {
     "data": {
      "text/plain": [
       "<All keys matched successfully>"
      ]
     },
     "execution_count": 12,
     "metadata": {},
     "output_type": "execute_result"
    }
   ],
   "source": [
    "model = MLP(14).to(device)\n",
    "model_state = torch.load('linear.pth')\n",
    "model.load_state_dict(model_state)"
   ]
  },
  {
   "cell_type": "code",
   "execution_count": null,
   "id": "a8519fb4",
   "metadata": {},
   "outputs": [],
   "source": [
    "#Use sklearn for something like gradient boosting or random forest\n",
    "\n",
    "#Model Selection: Gradient Boosting,Random Forest,Extra Randomized Trees, SVM, Linear Regression, Logistic Regression, Neural Networks"
   ]
  },
  {
   "cell_type": "code",
   "execution_count": null,
   "id": "bab4618a",
   "metadata": {},
   "outputs": [],
   "source": [
    "#TODO: build other models\n",
    "#TODO: report loss on validation sets and tune parameters for each model\n",
    "#TODO: run on test sets and report test loss\n",
    "#TODO: predict travel time(test_features) and submit to kaggle"
   ]
  }
 ],
 "metadata": {
  "kernelspec": {
   "display_name": "Python 3 (ipykernel)",
   "language": "python",
   "name": "python3"
  },
  "language_info": {
   "codemirror_mode": {
    "name": "ipython",
    "version": 3
   },
   "file_extension": ".py",
   "mimetype": "text/x-python",
   "name": "python",
   "nbconvert_exporter": "python",
   "pygments_lexer": "ipython3",
   "version": "3.9.5"
  }
 },
 "nbformat": 4,
 "nbformat_minor": 5
}
