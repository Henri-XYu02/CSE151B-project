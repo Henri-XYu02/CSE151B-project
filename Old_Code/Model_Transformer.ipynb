{
  "cells": [
    {
      "cell_type": "code",
      "execution_count": 114,
      "id": "7608cca6",
      "metadata": {
        "id": "7608cca6"
      },
      "outputs": [],
      "source": [
        "import matplotlib.pyplot as plt\n",
        "import pandas as pd\n",
        "import numpy as np\n",
        "import torch\n",
        "from torch import nn\n",
        "import torch.nn as nn\n",
        "import torch.nn.functional as F\n",
        "from torch.nn import Transformer\n",
        "\n",
        "from torch.utils.data import DataLoader, Dataset, TensorDataset"
      ]
    },
    {
      "cell_type": "code",
      "source": [
        "from google.colab import drive\n",
        "drive.mount('/content/drive')"
      ],
      "metadata": {
        "colab": {
          "base_uri": "https://localhost:8080/",
          "height": 0
        },
        "id": "zhJY0J93qndZ",
        "outputId": "3a75ca7d-b476-4a6e-d3a1-80a729168b56"
      },
      "id": "zhJY0J93qndZ",
      "execution_count": 115,
      "outputs": [
        {
          "output_type": "stream",
          "name": "stdout",
          "text": [
            "Drive already mounted at /content/drive; to attempt to forcibly remount, call drive.mount(\"/content/drive\", force_remount=True).\n"
          ]
        }
      ]
    },
    {
      "cell_type": "code",
      "execution_count": 116,
      "id": "821145ff",
      "metadata": {
        "id": "821145ff"
      },
      "outputs": [],
      "source": [
        "device = torch.device('cuda' if torch.cuda.is_available else 'cpu')"
      ]
    },
    {
      "cell_type": "code",
      "execution_count": 117,
      "id": "218a9ebb",
      "metadata": {
        "id": "218a9ebb"
      },
      "outputs": [],
      "source": [
        "train_features=torch.load('/content/drive/MyDrive/Colab Notebooks/KaggleProject/Code/train_features.pt')\n",
        "train_labels=torch.load('/content/drive/MyDrive/Colab Notebooks/KaggleProject/Code/train_labels.pt')"
      ]
    },
    {
      "cell_type": "code",
      "execution_count": 118,
      "id": "9ee4cc3c",
      "metadata": {
        "colab": {
          "base_uri": "https://localhost:8080/",
          "height": 0
        },
        "id": "9ee4cc3c",
        "outputId": "bae6baad-a40a-4064-a1f9-318e701a0891"
      },
      "outputs": [
        {
          "output_type": "stream",
          "name": "stdout",
          "text": [
            "torch.Size([1704759, 14])\n",
            "torch.Size([1704759])\n"
          ]
        }
      ],
      "source": [
        "print(train_features.shape)\n",
        "print(train_labels.shape)"
      ]
    },
    {
      "cell_type": "code",
      "execution_count": 119,
      "id": "5a08105c",
      "metadata": {
        "colab": {
          "base_uri": "https://localhost:8080/",
          "height": 0
        },
        "id": "5a08105c",
        "outputId": "38af7d04-3914-4658-c9d6-212fc7ddfda5"
      },
      "outputs": [
        {
          "output_type": "stream",
          "name": "stdout",
          "text": [
            "torch.Size([1704759, 15])\n"
          ]
        }
      ],
      "source": [
        "train = torch.cat([train_features, train_labels.reshape(-1,1)],1)\n",
        "print(train.shape)\n",
        "train = train[torch.randperm(train.size(0))] #shuffling dataset, parameter down need to be updated\n",
        "train_set = train[0:1500000,                            0:train.shape[1]-1]\n",
        "train_label = train[0:1500000,                          train.shape[1]-1]\n",
        "validation_set = train[1500000:1600000,                 0:train.shape[1]-1]\n",
        "validation_label = train[1500000:1600000,               train.shape[1]-1]\n",
        "test_set = train[1600000:train.shape[0],                0:train.shape[1]-1]\n",
        "test_label = train[1600000:train.shape[0],              train.shape[1]-1]"
      ]
    },
    {
      "cell_type": "code",
      "execution_count": 120,
      "id": "47a60831",
      "metadata": {
        "colab": {
          "base_uri": "https://localhost:8080/",
          "height": 0
        },
        "id": "47a60831",
        "outputId": "3e38349d-b164-435b-ab36-e79ba3a3f381"
      },
      "outputs": [
        {
          "output_type": "stream",
          "name": "stdout",
          "text": [
            "torch.Size([104759, 14])\n"
          ]
        }
      ],
      "source": [
        "print(test_set.shape)"
      ]
    },
    {
      "cell_type": "code",
      "execution_count": 121,
      "id": "fd80065b",
      "metadata": {
        "id": "fd80065b"
      },
      "outputs": [],
      "source": [
        "#You may save them if you want\n",
        "torch.save(train_set,'/content/drive/MyDrive/Colab Notebooks/KaggleProject/Code/train_set.pt')\n",
        "torch.save(train_label,'/content/drive/MyDrive/Colab Notebooks/KaggleProject/Code/train_label.pt')\n",
        "torch.save(validation_set,'/content/drive/MyDrive/Colab Notebooks/KaggleProject/Code/validation_set.pt')\n",
        "torch.save(validation_label,'/content/drive/MyDrive/Colab Notebooks/KaggleProject/Code/validation_label.pt')\n",
        "torch.save(test_set,'/content/drive/MyDrive/Colab Notebooks/KaggleProject/Code/test_set.pt')\n",
        "torch.save(test_label,'/content/drive/MyDrive/Colab Notebooks/KaggleProject/Code/test_label.pt')"
      ]
    },
    {
      "cell_type": "code",
      "execution_count": 122,
      "id": "622b7665",
      "metadata": {
        "id": "622b7665"
      },
      "outputs": [],
      "source": [
        "del train_features\n",
        "del train_labels"
      ]
    },
    {
      "cell_type": "code",
      "execution_count": 123,
      "id": "00a557eb",
      "metadata": {
        "colab": {
          "base_uri": "https://localhost:8080/",
          "height": 0
        },
        "id": "00a557eb",
        "outputId": "bd3cbd4b-e876-4820-aa5f-a676396c824c"
      },
      "outputs": [
        {
          "output_type": "stream",
          "name": "stdout",
          "text": [
            "torch.float32\n",
            "torch.float32\n"
          ]
        }
      ],
      "source": [
        "print(train_set.dtype)\n",
        "print(train_label.dtype)"
      ]
    },
    {
      "cell_type": "code",
      "execution_count": 124,
      "id": "10c3fd7c",
      "metadata": {
        "id": "10c3fd7c"
      },
      "outputs": [],
      "source": [
        "#I implement a MLP first, it is actually a Linear Regression\n",
        "import torch.nn as nn\n",
        "import torch.nn.functional as F\n",
        "\n",
        "\n",
        "# class MLP(nn.Module):\n",
        "#     def __init__(self, input_features):\n",
        "#         super(MLP, self).__init__()\n",
        "#         self.layer1 = nn.Sequential(\n",
        "#             nn.Linear(in_features=input_features,out_features=1)\n",
        "#         )\n",
        "        \n",
        "\n",
        "#     def forward(self, x):\n",
        "#         x=x.to(torch.float32)\n",
        "#         x=self.layer1(x)\n",
        "#         return x\n",
        "\n",
        "\n",
        "class TransformerModel(nn.Module):\n",
        "    def __init__(self, input_dim, hidden_dim, output_dim, n_layers, nhead, drop_prob=0.2):\n",
        "        super(TransformerModel, self).__init__()\n",
        "        \n",
        "        self.hidden_dim = hidden_dim\n",
        "        self.n_layers = n_layers\n",
        "\n",
        "        self.encoder = nn.Linear(input_dim, hidden_dim)\n",
        "        self.transformer = nn.TransformerEncoderLayer(d_model=hidden_dim, nhead=nhead)\n",
        "        self.transformer_encoder = nn.TransformerEncoder(self.transformer, num_layers=n_layers)\n",
        "        self.decoder = nn.Linear(hidden_dim, output_dim)\n",
        "\n",
        "    def forward(self, x):\n",
        "        x = self.encoder(x)\n",
        "        x = self.transformer_encoder(x)\n",
        "        x = self.decoder(x)\n",
        "        return x\n",
        "\n",
        "\n",
        "\n"
      ]
    },
    {
      "cell_type": "code",
      "execution_count": 125,
      "id": "3450c78a",
      "metadata": {
        "id": "3450c78a"
      },
      "outputs": [],
      "source": [
        "feature_size = 14  # your input feature size\n",
        "hidden_dim = 50  # hidden dimensions\n",
        "num_layers = 2  # number of transformer layers\n",
        "\n",
        "# model = MLP(train_set.shape[1])\n",
        "model = TransformerModel(input_dim=14, hidden_dim=128, output_dim=1, n_layers=2, nhead=2).to(device)\n",
        "\n",
        "model = model.to(device)\n",
        "\n",
        "\n",
        "\n",
        "\n"
      ]
    },
    {
      "cell_type": "code",
      "execution_count": 126,
      "id": "b2ed2308",
      "metadata": {
        "id": "b2ed2308"
      },
      "outputs": [],
      "source": [
        "class RMSELoss(nn.Module):\n",
        "    def __init__(self):\n",
        "        super().__init__()\n",
        "        self.mse = nn.MSELoss()\n",
        "        \n",
        "    def forward(self,yhat,y):\n",
        "        return torch.sqrt(self.mse(yhat,y))"
      ]
    },
    {
      "cell_type": "code",
      "execution_count": 127,
      "id": "2b8b993e",
      "metadata": {
        "id": "2b8b993e"
      },
      "outputs": [],
      "source": [
        "import torch.optim as optim\n",
        "learning_rate = 0.001\n",
        "criterion = nn.MSELoss()\n",
        "num_epochs = 10\n",
        "BATCH_SIZE = 64"
      ]
    },
    {
      "cell_type": "code",
      "execution_count": 128,
      "id": "147bce0e",
      "metadata": {
        "colab": {
          "base_uri": "https://localhost:8080/",
          "height": 0
        },
        "id": "147bce0e",
        "outputId": "de38506c-4870-43e1-bb7a-3083c8572c68"
      },
      "outputs": [
        {
          "output_type": "stream",
          "name": "stdout",
          "text": [
            "23438\n"
          ]
        }
      ],
      "source": [
        "train_dataset = TensorDataset(train_set, train_label)\n",
        "train_loader = DataLoader(train_dataset, batch_size=BATCH_SIZE, shuffle=True)\n",
        "print(len(train_loader))\n",
        "all_losses = []"
      ]
    },
    {
      "cell_type": "code",
      "execution_count": 129,
      "id": "fe6bec14",
      "metadata": {
        "id": "fe6bec14"
      },
      "outputs": [],
      "source": [
        "# def train(model, train_loader,criterion,num_epochs):\n",
        "#     optimizer = torch.optim.Adam(model.parameters(),lr = learning_rate,weight_decay=1e-4)\n",
        "#     for epoch in range(num_epochs):\n",
        "#         epoch_loss = 0\n",
        "#         group_320_loss = 0\n",
        "#         for i,(x, y) in enumerate(train_loader,0):\n",
        "#             x = x.to(device)\n",
        "#             y = y.to(device)\n",
        "#             y = torch.reshape(y,(-1,1))\n",
        "#             optimizer.zero_grad()\n",
        "#             output = model(x)\n",
        "#             loss = torch.sqrt(criterion(output, y))#RMSE\n",
        "#             epoch_loss += loss\n",
        "#             loss.backward()\n",
        "#             optimizer.step()\n",
        "#             group_320_loss += loss\n",
        "#             if i%30==29:\n",
        "#                 all_losses.append(group_320_loss/6)\n",
        "#         print(f\"Epoch: {epoch+1} Loss:{epoch_loss/len(train_loader)*5}\") #Want to get the loss of a set of 320\n",
        "#         #all_losses.append(epoch_loss / len(train_loader))\n",
        "\n",
        "def train(model, train_loader, criterion, num_epochs):\n",
        "    optimizer = torch.optim.Adam(model.parameters(), lr=learning_rate, weight_decay=1e-4)\n",
        "\n",
        "    model.train()\n",
        "    for epoch in range(num_epochs):\n",
        "        epoch_loss = 0\n",
        "        for i, (x, y) in enumerate(train_loader):\n",
        "            x = x.to(device)\n",
        "            y = y.to(device)\n",
        "            optimizer.zero_grad()\n",
        "            output = model(x)\n",
        "            loss = torch.sqrt(criterion(output.squeeze(), y))  # RMSE\n",
        "            epoch_loss += loss.item()\n",
        "            loss.backward()\n",
        "            optimizer.step()\n",
        "\n",
        "        print(f'Epoch: {epoch+1}, Loss: {epoch_loss / len(train_loader)}')\n",
        "        all_losses.append(epoch_loss / len(train_loader))\n",
        "\n"
      ]
    },
    {
      "cell_type": "code",
      "execution_count": 131,
      "id": "8d0897cb",
      "metadata": {
        "colab": {
          "base_uri": "https://localhost:8080/",
          "height": 0
        },
        "id": "8d0897cb",
        "outputId": "6bc1863c-29c5-4b06-c3c2-9ad170a280d0"
      },
      "outputs": [
        {
          "output_type": "stream",
          "name": "stdout",
          "text": [
            "Epoch: 1, Loss: 588.5875853789078\n",
            "Epoch: 2, Loss: 579.9480611939654\n",
            "Epoch: 3, Loss: 579.6540839381364\n",
            "Epoch: 4, Loss: 579.9076674886404\n",
            "Epoch: 5, Loss: 578.3863818730721\n",
            "Epoch: 6, Loss: 572.941564003145\n",
            "Epoch: 7, Loss: 572.1309488867623\n",
            "Epoch: 8, Loss: 571.4947886495869\n",
            "Epoch: 9, Loss: 570.9802906808821\n",
            "Epoch: 10, Loss: 570.73919289201\n"
          ]
        }
      ],
      "source": [
        "criterion = nn.MSELoss()  # Mean Squared Error Loss\n",
        "optimizer = torch.optim.Adam(model.parameters(), lr=0.001, weight_decay=1e-4)  # Adam optimizer\n",
        "train(model, train_loader,criterion, num_epochs=10)"
      ]
    },
    {
      "cell_type": "code",
      "execution_count": 132,
      "id": "fd7186ce",
      "metadata": {
        "scrolled": true,
        "colab": {
          "base_uri": "https://localhost:8080/",
          "height": 448
        },
        "id": "fd7186ce",
        "outputId": "cba9883d-ed55-4df9-c06f-e9ad7b23962d"
      },
      "outputs": [
        {
          "output_type": "execute_result",
          "data": {
            "text/plain": [
              "[<matplotlib.lines.Line2D at 0x7fb15e120790>]"
            ]
          },
          "metadata": {},
          "execution_count": 132
        },
        {
          "output_type": "display_data",
          "data": {
            "text/plain": [
              "<Figure size 640x480 with 1 Axes>"
            ],
            "image/png": "[encoded data removed]"
          },
          "metadata": {}
        }
      ],
      "source": [
        "plt.figure()\n",
        "plt.plot(torch.Tensor.cpu(torch.tensor(all_losses)))"
      ]
    },
    {
      "cell_type": "code",
      "execution_count": 133,
      "id": "95c4f2f7",
      "metadata": {
        "id": "95c4f2f7"
      },
      "outputs": [],
      "source": [
        "del all_losses"
      ]
    },
    {
      "cell_type": "code",
      "execution_count": 134,
      "id": "bb8010a7",
      "metadata": {
        "id": "bb8010a7"
      },
      "outputs": [],
      "source": [
        "def view_loss(model, test_set, test_label,criterion):\n",
        "    total_loss=0\n",
        "    test_dataset = TensorDataset(test_set, test_label)\n",
        "    test_loader = DataLoader(test_dataset, batch_size=BATCH_SIZE, shuffle=True)\n",
        "    for x, y in test_loader:\n",
        "        x = x.to(device)\n",
        "        y = y.to(device)\n",
        "        y = torch.reshape(y,(-1,1))\n",
        "        output = model(x)\n",
        "        loss = torch.sqrt(criterion(output, y))#RMSE\n",
        "        total_loss += loss\n",
        "    return total_loss"
      ]
    },
    {
      "cell_type": "code",
      "execution_count": 135,
      "id": "72a27580",
      "metadata": {
        "id": "72a27580"
      },
      "outputs": [],
      "source": [
        "#You need to see loss for validation set to tune the parameter. I didn't do that because linear regression is too simple"
      ]
    },
    {
      "cell_type": "code",
      "execution_count": 136,
      "id": "df407cc2",
      "metadata": {
        "scrolled": true,
        "colab": {
          "base_uri": "https://localhost:8080/",
          "height": 0
        },
        "id": "df407cc2",
        "outputId": "c1a8e82b-6884-4f31-f4e4-ec68e267c4b6"
      },
      "outputs": [
        {
          "output_type": "stream",
          "name": "stdout",
          "text": [
            "tensor(2886.6038, device='cuda:0', grad_fn=<MulBackward0>)\n"
          ]
        }
      ],
      "source": [
        "print(view_loss(model, test_set, test_label,criterion)/test_set.shape[0]*320)"
      ]
    },
    {
      "cell_type": "code",
      "execution_count": 137,
      "id": "24ae62ae",
      "metadata": {
        "colab": {
          "base_uri": "https://localhost:8080/",
          "height": 0
        },
        "id": "24ae62ae",
        "outputId": "75d7c231-fdf8-4c2d-ee60-f498c5090393"
      },
      "outputs": [
        {
          "output_type": "stream",
          "name": "stdout",
          "text": [
            "torch.Size([320, 14])\n"
          ]
        }
      ],
      "source": [
        "predict_input = torch.load('/content/drive/MyDrive/Colab Notebooks/KaggleProject/Code/predict_input.pt').to(device)\n",
        "print(predict_input.shape)"
      ]
    },
    {
      "cell_type": "code",
      "execution_count": 140,
      "id": "0398dbf8",
      "metadata": {
        "id": "0398dbf8"
      },
      "outputs": [],
      "source": [
        "def predict(model):\n",
        "    predict_output = model(predict_input.to(torch.float32))  # Convert predict_input to float32\n",
        "    return predict_output"
      ]
    },
    {
      "cell_type": "code",
      "execution_count": 142,
      "id": "1963b248",
      "metadata": {
        "scrolled": true,
        "colab": {
          "base_uri": "https://localhost:8080/"
        },
        "id": "1963b248",
        "outputId": "dfbf54a4-a46e-4616-fb68-2e9805e4d463"
      },
      "outputs": [
        {
          "output_type": "stream",
          "name": "stdout",
          "text": [
            "tensor([[645.7317],\n",
            "        [691.1990],\n",
            "        [594.3899],\n",
            "        [619.9306],\n",
            "        [713.7745],\n",
            "        [699.7175],\n",
            "        [680.8671],\n",
            "        [697.6458],\n",
            "        [685.8085],\n",
            "        [665.9501],\n",
            "        [642.7405],\n",
            "        [699.3496],\n",
            "        [691.1123],\n",
            "        [677.7203],\n",
            "        [593.2997],\n",
            "        [654.0855],\n",
            "        [693.1206],\n",
            "        [659.3746],\n",
            "        [721.0643],\n",
            "        [679.5562],\n",
            "        [644.4718],\n",
            "        [632.5269],\n",
            "        [621.1812],\n",
            "        [647.2720],\n",
            "        [665.5930],\n",
            "        [661.8324],\n",
            "        [624.2960],\n",
            "        [675.6755],\n",
            "        [604.0149],\n",
            "        [694.4103],\n",
            "        [620.6193],\n",
            "        [603.8240],\n",
            "        [676.1353],\n",
            "        [601.8138],\n",
            "        [655.6996],\n",
            "        [677.4210],\n",
            "        [719.9491],\n",
            "        [639.2413],\n",
            "        [615.0406],\n",
            "        [683.3306],\n",
            "        [666.5973],\n",
            "        [728.1533],\n",
            "        [655.2395],\n",
            "        [650.2361],\n",
            "        [658.0184],\n",
            "        [639.8054],\n",
            "        [691.2067],\n",
            "        [637.5101],\n",
            "        [639.7264],\n",
            "        [627.5450],\n",
            "        [664.0504],\n",
            "        [692.6634],\n",
            "        [627.3289],\n",
            "        [648.6863],\n",
            "        [655.5065],\n",
            "        [680.0908],\n",
            "        [652.7889],\n",
            "        [693.4711],\n",
            "        [678.7766],\n",
            "        [692.2690],\n",
            "        [715.6919],\n",
            "        [653.4219],\n",
            "        [680.6235],\n",
            "        [693.8970],\n",
            "        [662.6201],\n",
            "        [618.8082],\n",
            "        [657.4880],\n",
            "        [708.7299],\n",
            "        [700.8582],\n",
            "        [687.6221],\n",
            "        [662.3866],\n",
            "        [622.8750],\n",
            "        [644.1332],\n",
            "        [662.6366],\n",
            "        [633.8746],\n",
            "        [666.5074],\n",
            "        [628.4269],\n",
            "        [684.3698],\n",
            "        [677.0379],\n",
            "        [671.8755],\n",
            "        [673.9709],\n",
            "        [624.6464],\n",
            "        [701.5546],\n",
            "        [694.2559],\n",
            "        [636.9396],\n",
            "        [675.4639],\n",
            "        [640.5618],\n",
            "        [669.9972],\n",
            "        [599.5784],\n",
            "        [660.8502],\n",
            "        [644.4529],\n",
            "        [691.1932],\n",
            "        [642.9275],\n",
            "        [689.3496],\n",
            "        [610.6660],\n",
            "        [625.0494],\n",
            "        [711.7473],\n",
            "        [698.8414],\n",
            "        [672.2139],\n",
            "        [675.9175],\n",
            "        [686.3121],\n",
            "        [622.1418],\n",
            "        [634.8224],\n",
            "        [578.3719],\n",
            "        [631.5355],\n",
            "        [659.7506],\n",
            "        [640.6593],\n",
            "        [713.2407],\n",
            "        [636.1852],\n",
            "        [689.0967],\n",
            "        [675.9353],\n",
            "        [660.1332],\n",
            "        [677.7621],\n",
            "        [680.8838],\n",
            "        [707.8618],\n",
            "        [658.4042],\n",
            "        [698.9229],\n",
            "        [634.1454],\n",
            "        [689.7733],\n",
            "        [627.2240],\n",
            "        [661.6501],\n",
            "        [665.9734],\n",
            "        [631.3684],\n",
            "        [695.5435],\n",
            "        [613.0717],\n",
            "        [661.5833],\n",
            "        [627.9809],\n",
            "        [707.9148],\n",
            "        [663.7739],\n",
            "        [631.1082],\n",
            "        [587.3107],\n",
            "        [652.5333],\n",
            "        [619.9198],\n",
            "        [661.0465],\n",
            "        [670.7839],\n",
            "        [652.3962],\n",
            "        [683.5092],\n",
            "        [654.6460],\n",
            "        [639.4476],\n",
            "        [716.7811],\n",
            "        [657.4718],\n",
            "        [618.7284],\n",
            "        [622.1463],\n",
            "        [640.9214],\n",
            "        [683.0650],\n",
            "        [672.2449],\n",
            "        [709.9656],\n",
            "        [664.0603],\n",
            "        [629.4434],\n",
            "        [659.0601],\n",
            "        [674.2885],\n",
            "        [671.2120],\n",
            "        [643.5627],\n",
            "        [702.0840],\n",
            "        [627.3342],\n",
            "        [632.4048],\n",
            "        [668.9271],\n",
            "        [646.0658],\n",
            "        [676.1457],\n",
            "        [660.8927],\n",
            "        [696.2476],\n",
            "        [666.3511],\n",
            "        [703.9171],\n",
            "        [640.9359],\n",
            "        [665.8618],\n",
            "        [682.3020],\n",
            "        [727.5715],\n",
            "        [671.9942],\n",
            "        [644.7347],\n",
            "        [662.4777],\n",
            "        [677.3778],\n",
            "        [611.7233],\n",
            "        [692.7954],\n",
            "        [679.3593],\n",
            "        [667.2478],\n",
            "        [712.9899],\n",
            "        [642.4769],\n",
            "        [670.5284],\n",
            "        [670.3907],\n",
            "        [726.4861],\n",
            "        [702.4443],\n",
            "        [655.3069],\n",
            "        [688.0479],\n",
            "        [637.5552],\n",
            "        [696.1877],\n",
            "        [678.2618],\n",
            "        [658.3099],\n",
            "        [610.2478],\n",
            "        [663.0154],\n",
            "        [695.2603],\n",
            "        [683.1480],\n",
            "        [665.3912],\n",
            "        [712.0688],\n",
            "        [655.9875],\n",
            "        [695.9412],\n",
            "        [656.3118],\n",
            "        [668.4620],\n",
            "        [644.7362],\n",
            "        [667.1625],\n",
            "        [623.0281],\n",
            "        [697.9641],\n",
            "        [711.0895],\n",
            "        [661.0267],\n",
            "        [608.5869],\n",
            "        [686.2233],\n",
            "        [689.3145],\n",
            "        [657.8220],\n",
            "        [709.2953],\n",
            "        [679.7158],\n",
            "        [636.4079],\n",
            "        [654.6851],\n",
            "        [629.0162],\n",
            "        [665.8071],\n",
            "        [702.6725],\n",
            "        [628.7787],\n",
            "        [692.7283],\n",
            "        [663.1639],\n",
            "        [641.3304],\n",
            "        [643.8290],\n",
            "        [704.9899],\n",
            "        [690.0704],\n",
            "        [665.3466],\n",
            "        [651.6307],\n",
            "        [712.2732],\n",
            "        [652.6094],\n",
            "        [653.9739],\n",
            "        [657.2060],\n",
            "        [705.0296],\n",
            "        [597.5898],\n",
            "        [694.1158],\n",
            "        [636.7830],\n",
            "        [645.2402],\n",
            "        [660.2379],\n",
            "        [626.5165],\n",
            "        [678.7335],\n",
            "        [635.4138],\n",
            "        [663.6027],\n",
            "        [648.5488],\n",
            "        [702.7737],\n",
            "        [624.9556],\n",
            "        [652.5288],\n",
            "        [630.2600],\n",
            "        [604.6830],\n",
            "        [670.8362],\n",
            "        [629.6649],\n",
            "        [657.0390],\n",
            "        [630.4547],\n",
            "        [656.6082],\n",
            "        [656.8464],\n",
            "        [650.1604],\n",
            "        [602.2675],\n",
            "        [678.6742],\n",
            "        [661.4303],\n",
            "        [678.7201],\n",
            "        [652.4525],\n",
            "        [661.4708],\n",
            "        [681.1448],\n",
            "        [668.7498],\n",
            "        [662.6894],\n",
            "        [663.2257],\n",
            "        [652.9444],\n",
            "        [651.7035],\n",
            "        [669.6169],\n",
            "        [633.4578],\n",
            "        [659.9147],\n",
            "        [637.9020],\n",
            "        [606.7704],\n",
            "        [650.2391],\n",
            "        [651.9609],\n",
            "        [686.7953],\n",
            "        [679.1956],\n",
            "        [595.0747],\n",
            "        [706.7697],\n",
            "        [633.4479],\n",
            "        [677.8303],\n",
            "        [629.8966],\n",
            "        [612.9982],\n",
            "        [688.8643],\n",
            "        [664.7180],\n",
            "        [691.8259],\n",
            "        [638.5408],\n",
            "        [656.0699],\n",
            "        [625.0467],\n",
            "        [623.1431],\n",
            "        [638.5560],\n",
            "        [692.1714],\n",
            "        [669.9753],\n",
            "        [617.6556],\n",
            "        [668.7713],\n",
            "        [665.0862],\n",
            "        [642.2197],\n",
            "        [707.3221],\n",
            "        [664.4170],\n",
            "        [628.3008],\n",
            "        [707.8346],\n",
            "        [652.3524],\n",
            "        [678.2831],\n",
            "        [653.5605],\n",
            "        [665.6049],\n",
            "        [683.6908],\n",
            "        [673.9977],\n",
            "        [681.2222],\n",
            "        [717.4748],\n",
            "        [668.3491],\n",
            "        [683.5679],\n",
            "        [702.7858],\n",
            "        [680.8521],\n",
            "        [705.8964],\n",
            "        [675.8754],\n",
            "        [707.9640],\n",
            "        [614.3867],\n",
            "        [697.9282],\n",
            "        [724.2609],\n",
            "        [680.6391],\n",
            "        [696.6665],\n",
            "        [702.8909],\n",
            "        [600.2090],\n",
            "        [662.3885],\n",
            "        [700.9111],\n",
            "        [643.6817]], device='cuda:0', grad_fn=<AddmmBackward0>)\n"
          ]
        }
      ],
      "source": [
        "out = predict(model)\n",
        "print(out)"
      ]
    },
    {
      "cell_type": "code",
      "execution_count": 143,
      "id": "ef0f06b4",
      "metadata": {
        "colab": {
          "base_uri": "https://localhost:8080/",
          "height": 206
        },
        "id": "ef0f06b4",
        "outputId": "6315e9f9-72cd-49db-d434-1a179597fe66"
      },
      "outputs": [
        {
          "output_type": "execute_result",
          "data": {
            "text/plain": [
              "  TRIP_ID  TRAVEL_TIME\n",
              "0      T1   645.731689\n",
              "1      T2   691.198975\n",
              "2      T3   594.389893\n",
              "3      T4   619.930603\n",
              "4      T5   713.774536"
            ],
            "text/html": [
              "\n",
              "  <div id=\"df-c0bd07c0-e7a7-438f-94a3-9dfc69e277d6\">\n",
              "    <div class=\"colab-df-container\">\n",
              "      <div>\n",
              "<style scoped>\n",
              "    .dataframe tbody tr th:only-of-type {\n",
              "        vertical-align: middle;\n",
              "    }\n",
              "\n",
              "    .dataframe tbody tr th {\n",
              "        vertical-align: top;\n",
              "    }\n",
              "\n",
              "    .dataframe thead th {\n",
              "        text-align: right;\n",
              "    }\n",
              "</style>\n",
              "<table border=\"1\" class=\"dataframe\">\n",
              "  <thead>\n",
              "    <tr style=\"text-align: right;\">\n",
              "      <th></th>\n",
              "      <th>TRIP_ID</th>\n",
              "      <th>TRAVEL_TIME</th>\n",
              "    </tr>\n",
              "  </thead>\n",
              "  <tbody>\n",
              "    <tr>\n",
              "      <th>0</th>\n",
              "      <td>T1</td>\n",
              "      <td>645.731689</td>\n",
              "    </tr>\n",
              "    <tr>\n",
              "      <th>1</th>\n",
              "      <td>T2</td>\n",
              "      <td>691.198975</td>\n",
              "    </tr>\n",
              "    <tr>\n",
              "      <th>2</th>\n",
              "      <td>T3</td>\n",
              "      <td>594.389893</td>\n",
              "    </tr>\n",
              "    <tr>\n",
              "      <th>3</th>\n",
              "      <td>T4</td>\n",
              "      <td>619.930603</td>\n",
              "    </tr>\n",
              "    <tr>\n",
              "      <th>4</th>\n",
              "      <td>T5</td>\n",
              "      <td>713.774536</td>\n",
              "    </tr>\n",
              "  </tbody>\n",
              "</table>\n",
              "</div>\n",
              "      <button class=\"colab-df-convert\" onclick=\"convertToInteractive('df-c0bd07c0-e7a7-438f-94a3-9dfc69e277d6')\"\n",
              "              title=\"Convert this dataframe to an interactive table.\"\n",
              "              style=\"display:none;\">\n",
              "        \n",
              "  <svg xmlns=\"http://www.w3.org/2000/svg\" height=\"24px\"viewBox=\"0 0 24 24\"\n",
              "       width=\"24px\">\n",
              "    <path d=\"M0 0h24v24H0V0z\" fill=\"none\"/>\n",
              "    <path d=\"M18.56 5.44l.94 2.06.94-2.06 2.06-.94-2.06-.94-.94-2.06-.94 2.06-2.06.94zm-11 1L8.5 8.5l.94-2.06 2.06-.94-2.06-.94L8.5 2.5l-.94 2.06-2.06.94zm10 10l.94 2.06.94-2.06 2.06-.94-2.06-.94-.94-2.06-.94 2.06-2.06.94z\"/><path d=\"M17.41 7.96l-1.37-1.37c-.4-.4-.92-.59-1.43-.59-.52 0-1.04.2-1.43.59L10.3 9.45l-7.72 7.72c-.78.78-.78 2.05 0 2.83L4 21.41c.39.39.9.59 1.41.59.51 0 1.02-.2 1.41-.59l7.78-7.78 2.81-2.81c.8-.78.8-2.07 0-2.86zM5.41 20L4 18.59l7.72-7.72 1.47 1.35L5.41 20z\"/>\n",
              "  </svg>\n",
              "      </button>\n",
              "      \n",
              "  <style>\n",
              "    .colab-df-container {\n",
              "      display:flex;\n",
              "      flex-wrap:wrap;\n",
              "      gap: 12px;\n",
              "    }\n",
              "\n",
              "    .colab-df-convert {\n",
              "      background-color: #E8F0FE;\n",
              "      border: none;\n",
              "      border-radius: 50%;\n",
              "      cursor: pointer;\n",
              "      display: none;\n",
              "      fill: #1967D2;\n",
              "      height: 32px;\n",
              "      padding: 0 0 0 0;\n",
              "      width: 32px;\n",
              "    }\n",
              "\n",
              "    .colab-df-convert:hover {\n",
              "      background-color: #E2EBFA;\n",
              "      box-shadow: 0px 1px 2px rgba(60, 64, 67, 0.3), 0px 1px 3px 1px rgba(60, 64, 67, 0.15);\n",
              "      fill: #174EA6;\n",
              "    }\n",
              "\n",
              "    [theme=dark] .colab-df-convert {\n",
              "      background-color: #3B4455;\n",
              "      fill: #D2E3FC;\n",
              "    }\n",
              "\n",
              "    [theme=dark] .colab-df-convert:hover {\n",
              "      background-color: #434B5C;\n",
              "      box-shadow: 0px 1px 3px 1px rgba(0, 0, 0, 0.15);\n",
              "      filter: drop-shadow(0px 1px 2px rgba(0, 0, 0, 0.3));\n",
              "      fill: #FFFFFF;\n",
              "    }\n",
              "  </style>\n",
              "\n",
              "      <script>\n",
              "        const buttonEl =\n",
              "          document.querySelector('#df-c0bd07c0-e7a7-438f-94a3-9dfc69e277d6 button.colab-df-convert');\n",
              "        buttonEl.style.display =\n",
              "          google.colab.kernel.accessAllowed ? 'block' : 'none';\n",
              "\n",
              "        async function convertToInteractive(key) {\n",
              "          const element = document.querySelector('#df-c0bd07c0-e7a7-438f-94a3-9dfc69e277d6');\n",
              "          const dataTable =\n",
              "            await google.colab.kernel.invokeFunction('convertToInteractive',\n",
              "                                                     [key], {});\n",
              "          if (!dataTable) return;\n",
              "\n",
              "          const docLinkHtml = 'Like what you see? Visit the ' +\n",
              "            '<a target=\"_blank\" href=https://colab.research.google.com/notebooks/data_table.ipynb>data table notebook</a>'\n",
              "            + ' to learn more about interactive tables.';\n",
              "          element.innerHTML = '';\n",
              "          dataTable['output_type'] = 'display_data';\n",
              "          await google.colab.output.renderOutput(dataTable, element);\n",
              "          const docLink = document.createElement('div');\n",
              "          docLink.innerHTML = docLinkHtml;\n",
              "          element.appendChild(docLink);\n",
              "        }\n",
              "      </script>\n",
              "    </div>\n",
              "  </div>\n",
              "  "
            ]
          },
          "metadata": {},
          "execution_count": 143
        }
      ],
      "source": [
        "linear_predict = pd.read_csv('/content/drive/MyDrive/Colab Notebooks/KaggleProject/ucsd-cse-151b-class-competition/archive/test_public.csv')\n",
        "linear_predict = linear_predict['TRIP_ID']\n",
        "predict_tensor = out.to('cpu').detach().numpy().flatten()\n",
        "linear_predict= pd.concat([linear_predict, pd.DataFrame(predict_tensor)], axis=1)\n",
        "linear_predict = linear_predict.rename(columns={0: 'TRAVEL_TIME'})\n",
        "linear_predict.head()"
      ]
    },
    {
      "cell_type": "code",
      "execution_count": 144,
      "id": "6ca794bd",
      "metadata": {
        "id": "6ca794bd"
      },
      "outputs": [],
      "source": [
        "linear_predict.to_csv('/content/drive/MyDrive/Colab Notebooks/KaggleProject/Code/linear_predict.csv', index=False)"
      ]
    },
    {
      "cell_type": "code",
      "execution_count": 145,
      "id": "a8f5d610",
      "metadata": {
        "id": "a8f5d610"
      },
      "outputs": [],
      "source": [
        "PATH = 'linear.pth'\n",
        "torch.save(model.state_dict(),PATH)"
      ]
    },
    {
      "cell_type": "code",
      "execution_count": 146,
      "id": "87df52b0",
      "metadata": {
        "colab": {
          "base_uri": "https://localhost:8080/",
          "height": 205
        },
        "id": "87df52b0",
        "outputId": "ecb519d1-e892-4677-a041-b1947f407a81"
      },
      "outputs": [
        {
          "output_type": "error",
          "ename": "TypeError",
          "evalue": "ignored",
          "traceback": [
            "\u001b[0;31m---------------------------------------------------------------------------\u001b[0m",
            "\u001b[0;31mTypeError\u001b[0m                                 Traceback (most recent call last)",
            "\u001b[0;32m<ipython-input-146-988aeb2eecdd>\u001b[0m in \u001b[0;36m<cell line: 1>\u001b[0;34m()\u001b[0m\n\u001b[0;32m----> 1\u001b[0;31m \u001b[0mmodel\u001b[0m \u001b[0;34m=\u001b[0m \u001b[0mMLP\u001b[0m\u001b[0;34m(\u001b[0m\u001b[0;36m14\u001b[0m\u001b[0;34m)\u001b[0m\u001b[0;34m.\u001b[0m\u001b[0mto\u001b[0m\u001b[0;34m(\u001b[0m\u001b[0mdevice\u001b[0m\u001b[0;34m)\u001b[0m\u001b[0;34m\u001b[0m\u001b[0;34m\u001b[0m\u001b[0m\n\u001b[0m\u001b[1;32m      2\u001b[0m \u001b[0mmodel_state\u001b[0m \u001b[0;34m=\u001b[0m \u001b[0mtorch\u001b[0m\u001b[0;34m.\u001b[0m\u001b[0mload\u001b[0m\u001b[0;34m(\u001b[0m\u001b[0;34m'linear.pth'\u001b[0m\u001b[0;34m)\u001b[0m\u001b[0;34m\u001b[0m\u001b[0;34m\u001b[0m\u001b[0m\n\u001b[1;32m      3\u001b[0m \u001b[0mmodel\u001b[0m\u001b[0;34m.\u001b[0m\u001b[0mload_state_dict\u001b[0m\u001b[0;34m(\u001b[0m\u001b[0mmodel_state\u001b[0m\u001b[0;34m)\u001b[0m\u001b[0;34m\u001b[0m\u001b[0;34m\u001b[0m\u001b[0m\n",
            "\u001b[0;31mTypeError\u001b[0m: MLP.__init__() missing 1 required positional argument: 'hidden_dim'"
          ]
        }
      ],
      "source": [
        "model = MLP(14).to(device)\n",
        "model_state = torch.load('linear.pth')\n",
        "model.load_state_dict(model_state)"
      ]
    },
    {
      "cell_type": "code",
      "execution_count": null,
      "id": "a8519fb4",
      "metadata": {
        "id": "a8519fb4"
      },
      "outputs": [],
      "source": [
        "#Use sklearn for something like gradient boosting or random forest\n",
        "\n",
        "#Model Selection: Gradient Boosting,Random Forest,Extra Randomized Trees, SVM, Linear Regression, Logistic Regression, Neural Networks"
      ]
    },
    {
      "cell_type": "code",
      "execution_count": null,
      "id": "bab4618a",
      "metadata": {
        "id": "bab4618a"
      },
      "outputs": [],
      "source": [
        "#TODO: build other models\n",
        "#TODO: report loss on validation sets and tune parameters for each model\n",
        "#TODO: run on test sets and report test loss\n",
        "#TODO: predict travel time(test_features) and submit to kaggle"
      ]
    }
  ],
  "metadata": {
    "kernelspec": {
      "display_name": "Python 3 (ipykernel)",
      "language": "python",
      "name": "python3"
    },
    "language_info": {
      "codemirror_mode": {
        "name": "ipython",
        "version": 3
      },
      "file_extension": ".py",
      "mimetype": "text/x-python",
      "name": "python",
      "nbconvert_exporter": "python",
      "pygments_lexer": "ipython3",
      "version": "3.9.5"
    },
    "colab": {
      "provenance": [],
      "gpuType": "T4"
    },
    "accelerator": "GPU",
    "gpuClass": "standard"
  },
  "nbformat": 4,
  "nbformat_minor": 5
}