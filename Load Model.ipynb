{
 "cells": [
  {
   "cell_type": "code",
   "execution_count": 1,
   "id": "23913528",
   "metadata": {},
   "outputs": [],
   "source": [
    "import pickle\n",
    "import pandas as pd\n",
    "import torch\n",
    "import torch.nn as nn"
   ]
  },
  {
   "cell_type": "code",
   "execution_count": 2,
   "id": "1ef1f1fe",
   "metadata": {},
   "outputs": [],
   "source": [
    "competition_test_cache = 'cache/competition-test2.pickle'\n",
    "metadata_cache = 'cache/metadata2.pickle'"
   ]
  },
  {
   "cell_type": "code",
   "execution_count": 3,
   "id": "140c9ce5",
   "metadata": {},
   "outputs": [],
   "source": [
    "competition_test = pd.read_pickle(competition_test_cache)\n",
    "with open(metadata_cache, 'rb') as handle:\n",
    "    metadata = pickle.load(handle)"
   ]
  },
  {
   "cell_type": "code",
   "execution_count": 4,
   "id": "f4f15792",
   "metadata": {},
   "outputs": [],
   "source": [
    "def process_features(df):\n",
    "    return torch.tensor(df[['QUARTER_HOUR','DAY_OF_WEEK','WEEK_OF_YEAR','ORIGIN_CALL_ENCODED','TAXI_ID_ENCODED','ORIGIN_STAND_ENCODED',\n",
    "                           'dt_2014-08-14 00:00:00','dt_2014-09-30 00:00:00','dt_2014-10-06 00:00:00','dt_2014-11-01 00:00:00',\n",
    "                           'dt_2014-12-21 00:00:00']].values)"
   ]
  },
  {
   "cell_type": "code",
   "execution_count": 5,
   "id": "204ee787",
   "metadata": {},
   "outputs": [],
   "source": [
    "class MLP(nn.Module):\n",
    "    def __init__(self):\n",
    "        super(MLP, self).__init__()\n",
    "        self.embed_quarter_hour = nn.Embedding(metadata['n_quarter_hours'], 10)\n",
    "        self.embed_day_of_week = nn.Embedding(metadata['n_days_per_week'], 10)\n",
    "        self.embed_week_of_year = nn.Embedding(metadata['n_weeks_per_year'],10)\n",
    "        self.embed_client_ids = nn.Embedding(metadata['n_client_ids'],10)\n",
    "        self.embed_taxi_ids = nn.Embedding(metadata['n_taxi_ids'],10)\n",
    "        self.embed_stand_ids = nn.Embedding(metadata['n_stand_ids'],10)\n",
    "        self.layer1 = nn.Sequential(\n",
    "            nn.Dropout(0.5),\n",
    "            nn.Linear(in_features=65, out_features=160),\n",
    "            nn.ReLU()\n",
    "        )\n",
    "        self.layer2 = nn.Sequential(\n",
    "            nn.Dropout(0.5),\n",
    "            nn.Linear(in_features = 160, out_features = 100),\n",
    "            nn.ReLU()\n",
    "        )\n",
    "        self.layer3 = nn.Sequential(\n",
    "            nn.Dropout(0.5),\n",
    "            nn.Linear(in_features = 100, out_features = 50),\n",
    "            nn.ReLU()\n",
    "        )\n",
    "        self.layer4 = nn.Sequential(\n",
    "            nn.Dropout(0.3),\n",
    "            nn.Linear(50,15),\n",
    "            nn.ReLU()\n",
    "        )\n",
    "        self.output_layer = nn.Linear(in_features=15, out_features=1)\n",
    "\n",
    "    def forward(self, x):\n",
    "        qhr = self.embed_quarter_hour(x[:,0].to(torch.int32))\n",
    "        dow = self.embed_day_of_week(x[:,1].to(torch.int32))\n",
    "        woy = self.embed_week_of_year(x[:,2].to(torch.int32))\n",
    "        ci = self.embed_client_ids(x[:,3].to(torch.int32))\n",
    "        ti = self.embed_taxi_ids(x[:,4].to(torch.int32))\n",
    "        si =  self.embed_stand_ids(x[:,5].to(torch.int32))\n",
    "        x = torch.cat([qhr,dow,woy,ci,ti,si,x[:,6:]],axis=1)\n",
    "        x = x.to(torch.float32)\n",
    "        x = self.layer1(x)\n",
    "        x = self.layer2(x)\n",
    "        x = self.layer3(x)\n",
    "        x = self.layer4(x)\n",
    "        x = self.output_layer(x)\n",
    "        return x"
   ]
  },
  {
   "cell_type": "code",
   "execution_count": 6,
   "id": "32804d27",
   "metadata": {},
   "outputs": [],
   "source": [
    "model1 = MLP()"
   ]
  },
  {
   "cell_type": "code",
   "execution_count": null,
   "id": "d72f98c3",
   "metadata": {},
   "outputs": [],
   "source": [
    "model1.load_state_dict(torch.load('model_state/model_epoch199_LSTM_5Layer.pth'))\n",
    "model1.eval()"
   ]
  },
  {
   "cell_type": "code",
   "execution_count": 7,
   "id": "fb5c54f3",
   "metadata": {},
   "outputs": [],
   "source": [
    "class LSTMNet(nn.Module):\n",
    "    def __init__(self):\n",
    "        super(LSTMNet, self).__init__()\n",
    "        self.embed_quarter_hour = nn.Embedding(metadata['n_quarter_hours'], 10)\n",
    "        self.embed_day_of_week = nn.Embedding(metadata['n_days_per_week'], 10)\n",
    "        self.embed_week_of_year = nn.Embedding(metadata['n_weeks_per_year'],10)\n",
    "        self.embed_client_ids = nn.Embedding(metadata['n_client_ids'],10)\n",
    "        self.embed_taxi_ids = nn.Embedding(metadata['n_taxi_ids'],10)\n",
    "        self.embed_stand_ids = nn.Embedding(metadata['n_stand_ids'],10)\n",
    "\n",
    "        self.lstm = nn.LSTM(input_size=65, hidden_size=180, num_layers=5, batch_first=True, dropout=0.5)\n",
    "        self.fc = nn.Linear(180, 1)\n",
    "        self.relu = nn.ReLU()\n",
    "        \n",
    "    def forward(self, x):\n",
    "        qhr = self.embed_quarter_hour(x[:,0].to(torch.int32))\n",
    "        dow = self.embed_day_of_week(x[:,1].to(torch.int32))\n",
    "        woy = self.embed_week_of_year(x[:,2].to(torch.int32))\n",
    "        ci = self.embed_client_ids(x[:,3].to(torch.int32))\n",
    "        ti = self.embed_taxi_ids(x[:,4].to(torch.int32))\n",
    "        si = self.embed_stand_ids(x[:,5].to(torch.int32))\n",
    "        x = torch.cat([qhr,dow,woy,ci,ti,si,x[:,6:]],axis=1)\n",
    "        x = x.to(torch.float32)\n",
    "\n",
    "        # Reshape input data to (batch_size, sequence_length, input_size) for LSTM\n",
    "        x = x.view(x.size(0), 1, -1)\n",
    "\n",
    "        x, _ = self.lstm(x)\n",
    "        x = self.relu(x)\n",
    "        x = self.fc(x[:, -1, :])\n",
    "\n",
    "        return x"
   ]
  },
  {
   "cell_type": "code",
   "execution_count": 8,
   "id": "8aae332b",
   "metadata": {},
   "outputs": [],
   "source": [
    "model2 = LSTMNet()"
   ]
  },
  {
   "cell_type": "code",
   "execution_count": null,
   "id": "ec9a5c21",
   "metadata": {},
   "outputs": [],
   "source": [
    "model2.load_state_dict('model_state/model_moreunit_epoch90.pth')\n",
    "model2.eval()"
   ]
  },
  {
   "cell_type": "code",
   "execution_count": null,
   "id": "a6fbe0ea",
   "metadata": {},
   "outputs": [],
   "source": [
    "predict_input = torch.tensor(process_features(competition_test))"
   ]
  },
  {
   "cell_type": "code",
   "execution_count": null,
   "id": "d96b3497",
   "metadata": {},
   "outputs": [],
   "source": [
    "def predict(model):\n",
    "    predict_output = model(predict_input)\n",
    "    return predict_output\n",
    "\n",
    "out1 = predict(model1)\n",
    "out2 = predict(model2)"
   ]
  },
  {
   "cell_type": "code",
   "execution_count": null,
   "id": "57109355",
   "metadata": {},
   "outputs": [],
   "source": [
    "predict1 = pd.read_csv('test_public.csv')\n",
    "predict1 = predict1['TRIP_ID']\n",
    "predict_tensor1 = out1.to('cpu').detach().numpy().flatten()\n",
    "predict1 = pd.concat([predict1, pd.DataFrame(predict_tensor1)], axis=1)\n",
    "predict1 = predict1.rename(columns={0: 'TRAVEL_TIME'})\n",
    "predict1"
   ]
  },
  {
   "cell_type": "code",
   "execution_count": null,
   "id": "137dc00c",
   "metadata": {},
   "outputs": [],
   "source": [
    "predict2 = pd.read_csv('test_public.csv')\n",
    "predict2 = predict2['TRIP_ID']\n",
    "predict_tensor2 = out2.to('cpu').detach().numpy().flatten()\n",
    "predict2 = pd.concat([predict2, pd.DataFrame(predict_tensor1)], axis=1)\n",
    "predict2 = predict2.rename(columns={0: 'TRAVEL_TIME'})\n",
    "predict2"
   ]
  }
 ],
 "metadata": {
  "kernelspec": {
   "display_name": "Python 3 (ipykernel)",
   "language": "python",
   "name": "python3"
  },
  "language_info": {
   "codemirror_mode": {
    "name": "ipython",
    "version": 3
   },
   "file_extension": ".py",
   "mimetype": "text/x-python",
   "name": "python",
   "nbconvert_exporter": "python",
   "pygments_lexer": "ipython3",
   "version": "3.9.5"
  }
 },
 "nbformat": 4,
 "nbformat_minor": 5
}
